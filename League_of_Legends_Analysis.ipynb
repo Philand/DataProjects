{
  "nbformat": 4,
  "nbformat_minor": 0,
  "metadata": {
    "colab": {
      "provenance": []
    },
    "kernelspec": {
      "name": "python3",
      "display_name": "Python 3"
    }
  },
  "cells": [
    {
      "cell_type": "markdown",
      "metadata": {
        "id": "JMK7vLk5PcKp"
      },
      "source": [
        "# Introduction"
      ]
    },
    {
      "cell_type": "markdown",
      "metadata": {
        "id": "whwm-jYcPfCD"
      },
      "source": [
        "Ceci est un projet dans le cadre du cours de Data. Le sujet de ce projet est le jeu League of Legends. Le but est de faire des études statistiques à l'aide d'un jeu de données et de créer des data-modèles pour prédire la victoire d'une équipe.\n",
        "\n",
        "Dans un premier temps, nous présenterons le jeu League of Legends en parcourant divers aspects du jeu comme la durée d'une partie, le résultat des parties, les personnages que peuvent utiliser les joueurs, etc. \n",
        "\n",
        "Dans un second temps, nous ferons l'étude des corrélations pour savoir avec quelles données construire nos data-modèles. \n",
        "\n",
        "Dans un dernier temps, nous construirons des modèles de régression et de classification pour prédire notre cible qui sera l'issue d'une partie (victoire ou défaite)."
      ]
    },
    {
      "cell_type": "markdown",
      "metadata": {
        "id": "eqgdmGB1VCK6"
      },
      "source": [
        "# Lien du jeu de données"
      ]
    },
    {
      "cell_type": "markdown",
      "metadata": {
        "id": "o4SAqf2Ytvl2"
      },
      "source": [
        "https://www.kaggle.com/datasnaek/league-of-legends"
      ]
    },
    {
      "cell_type": "markdown",
      "metadata": {
        "id": "FAbY3toagf75"
      },
      "source": [
        "# Données\n"
      ]
    },
    {
      "cell_type": "code",
      "metadata": {
        "id": "eEDBbqT4gjaZ",
        "colab": {
          "base_uri": "https://localhost:8080/",
          "height": 54
        },
        "outputId": "f5af1b9c-c003-4269-8174-dec9527cf67f"
      },
      "source": [
        "from google.colab import drive\n",
        "drive.mount('/content/drive')"
      ],
      "execution_count": null,
      "outputs": [
        {
          "output_type": "stream",
          "text": [
            "Drive already mounted at /content/drive; to attempt to forcibly remount, call drive.mount(\"/content/drive\", force_remount=True).\n"
          ],
          "name": "stdout"
        }
      ]
    },
    {
      "cell_type": "code",
      "metadata": {
        "id": "m91alFXaZ4Ua",
        "colab": {
          "base_uri": "https://localhost:8080/",
          "height": 34
        },
        "outputId": "f3f81bff-f11c-4def-d127-a25e567a647b"
      },
      "source": [
        "%reset"
      ],
      "execution_count": null,
      "outputs": [
        {
          "output_type": "stream",
          "text": [
            "Once deleted, variables cannot be recovered. Proceed (y/[n])? y\n"
          ],
          "name": "stdout"
        }
      ]
    },
    {
      "cell_type": "code",
      "metadata": {
        "id": "E31HAf5wwKOP"
      },
      "source": [
        "import pandas as pd\n",
        "import numpy as np\n",
        "import matplotlib.pyplot as plt\n",
        "import seaborn as sb"
      ],
      "execution_count": null,
      "outputs": []
    },
    {
      "cell_type": "code",
      "metadata": {
        "id": "q6zmNNzOlSKV",
        "colab": {
          "base_uri": "https://localhost:8080/",
          "height": 226
        },
        "outputId": "8dfb3c0c-bb05-49aa-add3-ae29ceb61a71"
      },
      "source": [
        "df = pd.read_csv('/content/drive/My Drive/Colab Notebooks/Philippe_Pinçon_Projet_Data/games.csv')\n",
        "ch_info1 = pd.read_json('/content/drive/My Drive/Colab Notebooks/Philippe_Pinçon_Projet_Data/champion_info.json')\n",
        "ch_info2 = pd.read_json('/content/drive/My Drive/Colab Notebooks/Philippe_Pinçon_Projet_Data/champion_info_2.json')\n",
        "sum_spell_info = pd.read_json('/content/drive/My Drive/Colab Notebooks/Philippe_Pinçon_Projet_Data/summoner_spell_info.json')\n",
        "df.head()"
      ],
      "execution_count": null,
      "outputs": [
        {
          "output_type": "execute_result",
          "data": {
            "text/html": [
              "<div>\n",
              "<style scoped>\n",
              "    .dataframe tbody tr th:only-of-type {\n",
              "        vertical-align: middle;\n",
              "    }\n",
              "\n",
              "    .dataframe tbody tr th {\n",
              "        vertical-align: top;\n",
              "    }\n",
              "\n",
              "    .dataframe thead th {\n",
              "        text-align: right;\n",
              "    }\n",
              "</style>\n",
              "<table border=\"1\" class=\"dataframe\">\n",
              "  <thead>\n",
              "    <tr style=\"text-align: right;\">\n",
              "      <th></th>\n",
              "      <th>gameId</th>\n",
              "      <th>creationTime</th>\n",
              "      <th>gameDuration</th>\n",
              "      <th>seasonId</th>\n",
              "      <th>winner</th>\n",
              "      <th>firstBlood</th>\n",
              "      <th>firstTower</th>\n",
              "      <th>firstInhibitor</th>\n",
              "      <th>firstBaron</th>\n",
              "      <th>firstDragon</th>\n",
              "      <th>firstRiftHerald</th>\n",
              "      <th>t1_champ1id</th>\n",
              "      <th>t1_champ1_sum1</th>\n",
              "      <th>t1_champ1_sum2</th>\n",
              "      <th>t1_champ2id</th>\n",
              "      <th>t1_champ2_sum1</th>\n",
              "      <th>t1_champ2_sum2</th>\n",
              "      <th>t1_champ3id</th>\n",
              "      <th>t1_champ3_sum1</th>\n",
              "      <th>t1_champ3_sum2</th>\n",
              "      <th>t1_champ4id</th>\n",
              "      <th>t1_champ4_sum1</th>\n",
              "      <th>t1_champ4_sum2</th>\n",
              "      <th>t1_champ5id</th>\n",
              "      <th>t1_champ5_sum1</th>\n",
              "      <th>t1_champ5_sum2</th>\n",
              "      <th>t1_towerKills</th>\n",
              "      <th>t1_inhibitorKills</th>\n",
              "      <th>t1_baronKills</th>\n",
              "      <th>t1_dragonKills</th>\n",
              "      <th>t1_riftHeraldKills</th>\n",
              "      <th>t1_ban1</th>\n",
              "      <th>t1_ban2</th>\n",
              "      <th>t1_ban3</th>\n",
              "      <th>t1_ban4</th>\n",
              "      <th>t1_ban5</th>\n",
              "      <th>t2_champ1id</th>\n",
              "      <th>t2_champ1_sum1</th>\n",
              "      <th>t2_champ1_sum2</th>\n",
              "      <th>t2_champ2id</th>\n",
              "      <th>t2_champ2_sum1</th>\n",
              "      <th>t2_champ2_sum2</th>\n",
              "      <th>t2_champ3id</th>\n",
              "      <th>t2_champ3_sum1</th>\n",
              "      <th>t2_champ3_sum2</th>\n",
              "      <th>t2_champ4id</th>\n",
              "      <th>t2_champ4_sum1</th>\n",
              "      <th>t2_champ4_sum2</th>\n",
              "      <th>t2_champ5id</th>\n",
              "      <th>t2_champ5_sum1</th>\n",
              "      <th>t2_champ5_sum2</th>\n",
              "      <th>t2_towerKills</th>\n",
              "      <th>t2_inhibitorKills</th>\n",
              "      <th>t2_baronKills</th>\n",
              "      <th>t2_dragonKills</th>\n",
              "      <th>t2_riftHeraldKills</th>\n",
              "      <th>t2_ban1</th>\n",
              "      <th>t2_ban2</th>\n",
              "      <th>t2_ban3</th>\n",
              "      <th>t2_ban4</th>\n",
              "      <th>t2_ban5</th>\n",
              "    </tr>\n",
              "  </thead>\n",
              "  <tbody>\n",
              "    <tr>\n",
              "      <th>0</th>\n",
              "      <td>3326086514</td>\n",
              "      <td>1504279457970</td>\n",
              "      <td>1949</td>\n",
              "      <td>9</td>\n",
              "      <td>1</td>\n",
              "      <td>2</td>\n",
              "      <td>1</td>\n",
              "      <td>1</td>\n",
              "      <td>1</td>\n",
              "      <td>1</td>\n",
              "      <td>2</td>\n",
              "      <td>8</td>\n",
              "      <td>12</td>\n",
              "      <td>4</td>\n",
              "      <td>432</td>\n",
              "      <td>3</td>\n",
              "      <td>4</td>\n",
              "      <td>96</td>\n",
              "      <td>4</td>\n",
              "      <td>7</td>\n",
              "      <td>11</td>\n",
              "      <td>11</td>\n",
              "      <td>6</td>\n",
              "      <td>112</td>\n",
              "      <td>4</td>\n",
              "      <td>14</td>\n",
              "      <td>11</td>\n",
              "      <td>1</td>\n",
              "      <td>2</td>\n",
              "      <td>3</td>\n",
              "      <td>0</td>\n",
              "      <td>92</td>\n",
              "      <td>40</td>\n",
              "      <td>69</td>\n",
              "      <td>119</td>\n",
              "      <td>141</td>\n",
              "      <td>104</td>\n",
              "      <td>11</td>\n",
              "      <td>4</td>\n",
              "      <td>498</td>\n",
              "      <td>4</td>\n",
              "      <td>7</td>\n",
              "      <td>122</td>\n",
              "      <td>6</td>\n",
              "      <td>4</td>\n",
              "      <td>238</td>\n",
              "      <td>14</td>\n",
              "      <td>4</td>\n",
              "      <td>412</td>\n",
              "      <td>4</td>\n",
              "      <td>3</td>\n",
              "      <td>5</td>\n",
              "      <td>0</td>\n",
              "      <td>0</td>\n",
              "      <td>1</td>\n",
              "      <td>1</td>\n",
              "      <td>114</td>\n",
              "      <td>67</td>\n",
              "      <td>43</td>\n",
              "      <td>16</td>\n",
              "      <td>51</td>\n",
              "    </tr>\n",
              "    <tr>\n",
              "      <th>1</th>\n",
              "      <td>3229566029</td>\n",
              "      <td>1497848803862</td>\n",
              "      <td>1851</td>\n",
              "      <td>9</td>\n",
              "      <td>1</td>\n",
              "      <td>1</td>\n",
              "      <td>1</td>\n",
              "      <td>1</td>\n",
              "      <td>0</td>\n",
              "      <td>1</td>\n",
              "      <td>1</td>\n",
              "      <td>119</td>\n",
              "      <td>7</td>\n",
              "      <td>4</td>\n",
              "      <td>39</td>\n",
              "      <td>12</td>\n",
              "      <td>4</td>\n",
              "      <td>76</td>\n",
              "      <td>4</td>\n",
              "      <td>3</td>\n",
              "      <td>10</td>\n",
              "      <td>4</td>\n",
              "      <td>14</td>\n",
              "      <td>35</td>\n",
              "      <td>4</td>\n",
              "      <td>11</td>\n",
              "      <td>10</td>\n",
              "      <td>4</td>\n",
              "      <td>0</td>\n",
              "      <td>2</td>\n",
              "      <td>1</td>\n",
              "      <td>51</td>\n",
              "      <td>122</td>\n",
              "      <td>17</td>\n",
              "      <td>498</td>\n",
              "      <td>19</td>\n",
              "      <td>54</td>\n",
              "      <td>4</td>\n",
              "      <td>12</td>\n",
              "      <td>25</td>\n",
              "      <td>4</td>\n",
              "      <td>14</td>\n",
              "      <td>120</td>\n",
              "      <td>11</td>\n",
              "      <td>4</td>\n",
              "      <td>157</td>\n",
              "      <td>4</td>\n",
              "      <td>14</td>\n",
              "      <td>92</td>\n",
              "      <td>4</td>\n",
              "      <td>7</td>\n",
              "      <td>2</td>\n",
              "      <td>0</td>\n",
              "      <td>0</td>\n",
              "      <td>0</td>\n",
              "      <td>0</td>\n",
              "      <td>11</td>\n",
              "      <td>67</td>\n",
              "      <td>238</td>\n",
              "      <td>51</td>\n",
              "      <td>420</td>\n",
              "    </tr>\n",
              "    <tr>\n",
              "      <th>2</th>\n",
              "      <td>3327363504</td>\n",
              "      <td>1504360103310</td>\n",
              "      <td>1493</td>\n",
              "      <td>9</td>\n",
              "      <td>1</td>\n",
              "      <td>2</td>\n",
              "      <td>1</td>\n",
              "      <td>1</td>\n",
              "      <td>1</td>\n",
              "      <td>2</td>\n",
              "      <td>0</td>\n",
              "      <td>18</td>\n",
              "      <td>4</td>\n",
              "      <td>7</td>\n",
              "      <td>141</td>\n",
              "      <td>11</td>\n",
              "      <td>4</td>\n",
              "      <td>267</td>\n",
              "      <td>3</td>\n",
              "      <td>4</td>\n",
              "      <td>68</td>\n",
              "      <td>4</td>\n",
              "      <td>12</td>\n",
              "      <td>38</td>\n",
              "      <td>12</td>\n",
              "      <td>4</td>\n",
              "      <td>8</td>\n",
              "      <td>1</td>\n",
              "      <td>1</td>\n",
              "      <td>1</td>\n",
              "      <td>0</td>\n",
              "      <td>117</td>\n",
              "      <td>40</td>\n",
              "      <td>29</td>\n",
              "      <td>16</td>\n",
              "      <td>53</td>\n",
              "      <td>69</td>\n",
              "      <td>4</td>\n",
              "      <td>7</td>\n",
              "      <td>412</td>\n",
              "      <td>14</td>\n",
              "      <td>4</td>\n",
              "      <td>126</td>\n",
              "      <td>4</td>\n",
              "      <td>12</td>\n",
              "      <td>24</td>\n",
              "      <td>4</td>\n",
              "      <td>11</td>\n",
              "      <td>22</td>\n",
              "      <td>7</td>\n",
              "      <td>4</td>\n",
              "      <td>2</td>\n",
              "      <td>0</td>\n",
              "      <td>0</td>\n",
              "      <td>1</td>\n",
              "      <td>0</td>\n",
              "      <td>157</td>\n",
              "      <td>238</td>\n",
              "      <td>121</td>\n",
              "      <td>57</td>\n",
              "      <td>28</td>\n",
              "    </tr>\n",
              "    <tr>\n",
              "      <th>3</th>\n",
              "      <td>3326856598</td>\n",
              "      <td>1504348503996</td>\n",
              "      <td>1758</td>\n",
              "      <td>9</td>\n",
              "      <td>1</td>\n",
              "      <td>1</td>\n",
              "      <td>1</td>\n",
              "      <td>1</td>\n",
              "      <td>1</td>\n",
              "      <td>1</td>\n",
              "      <td>0</td>\n",
              "      <td>57</td>\n",
              "      <td>4</td>\n",
              "      <td>12</td>\n",
              "      <td>63</td>\n",
              "      <td>4</td>\n",
              "      <td>14</td>\n",
              "      <td>29</td>\n",
              "      <td>4</td>\n",
              "      <td>7</td>\n",
              "      <td>61</td>\n",
              "      <td>4</td>\n",
              "      <td>1</td>\n",
              "      <td>36</td>\n",
              "      <td>11</td>\n",
              "      <td>4</td>\n",
              "      <td>9</td>\n",
              "      <td>2</td>\n",
              "      <td>1</td>\n",
              "      <td>2</td>\n",
              "      <td>0</td>\n",
              "      <td>238</td>\n",
              "      <td>67</td>\n",
              "      <td>516</td>\n",
              "      <td>114</td>\n",
              "      <td>31</td>\n",
              "      <td>90</td>\n",
              "      <td>14</td>\n",
              "      <td>4</td>\n",
              "      <td>19</td>\n",
              "      <td>11</td>\n",
              "      <td>4</td>\n",
              "      <td>412</td>\n",
              "      <td>4</td>\n",
              "      <td>3</td>\n",
              "      <td>92</td>\n",
              "      <td>4</td>\n",
              "      <td>14</td>\n",
              "      <td>22</td>\n",
              "      <td>4</td>\n",
              "      <td>7</td>\n",
              "      <td>0</td>\n",
              "      <td>0</td>\n",
              "      <td>0</td>\n",
              "      <td>0</td>\n",
              "      <td>0</td>\n",
              "      <td>164</td>\n",
              "      <td>18</td>\n",
              "      <td>141</td>\n",
              "      <td>40</td>\n",
              "      <td>51</td>\n",
              "    </tr>\n",
              "    <tr>\n",
              "      <th>4</th>\n",
              "      <td>3330080762</td>\n",
              "      <td>1504554410899</td>\n",
              "      <td>2094</td>\n",
              "      <td>9</td>\n",
              "      <td>1</td>\n",
              "      <td>2</td>\n",
              "      <td>1</td>\n",
              "      <td>1</td>\n",
              "      <td>1</td>\n",
              "      <td>1</td>\n",
              "      <td>0</td>\n",
              "      <td>19</td>\n",
              "      <td>4</td>\n",
              "      <td>12</td>\n",
              "      <td>29</td>\n",
              "      <td>11</td>\n",
              "      <td>4</td>\n",
              "      <td>40</td>\n",
              "      <td>4</td>\n",
              "      <td>3</td>\n",
              "      <td>119</td>\n",
              "      <td>4</td>\n",
              "      <td>7</td>\n",
              "      <td>134</td>\n",
              "      <td>7</td>\n",
              "      <td>4</td>\n",
              "      <td>9</td>\n",
              "      <td>2</td>\n",
              "      <td>1</td>\n",
              "      <td>3</td>\n",
              "      <td>0</td>\n",
              "      <td>90</td>\n",
              "      <td>64</td>\n",
              "      <td>412</td>\n",
              "      <td>25</td>\n",
              "      <td>31</td>\n",
              "      <td>37</td>\n",
              "      <td>3</td>\n",
              "      <td>4</td>\n",
              "      <td>59</td>\n",
              "      <td>4</td>\n",
              "      <td>12</td>\n",
              "      <td>141</td>\n",
              "      <td>11</td>\n",
              "      <td>4</td>\n",
              "      <td>38</td>\n",
              "      <td>4</td>\n",
              "      <td>12</td>\n",
              "      <td>51</td>\n",
              "      <td>4</td>\n",
              "      <td>7</td>\n",
              "      <td>3</td>\n",
              "      <td>0</td>\n",
              "      <td>0</td>\n",
              "      <td>1</td>\n",
              "      <td>0</td>\n",
              "      <td>86</td>\n",
              "      <td>11</td>\n",
              "      <td>201</td>\n",
              "      <td>122</td>\n",
              "      <td>18</td>\n",
              "    </tr>\n",
              "  </tbody>\n",
              "</table>\n",
              "</div>"
            ],
            "text/plain": [
              "       gameId   creationTime  gameDuration  ...  t2_ban3  t2_ban4  t2_ban5\n",
              "0  3326086514  1504279457970          1949  ...       43       16       51\n",
              "1  3229566029  1497848803862          1851  ...      238       51      420\n",
              "2  3327363504  1504360103310          1493  ...      121       57       28\n",
              "3  3326856598  1504348503996          1758  ...      141       40       51\n",
              "4  3330080762  1504554410899          2094  ...      201      122       18\n",
              "\n",
              "[5 rows x 61 columns]"
            ]
          },
          "metadata": {
            "tags": []
          },
          "execution_count": 265
        }
      ]
    },
    {
      "cell_type": "markdown",
      "metadata": {
        "id": "4rFPYzdk34qu"
      },
      "source": [
        "Liste des variables utilisées (nous reviendrons sur leurs significations dans toutes les parties du notebook) : \n",
        "\n",
        "gameDuration, winner, firstBlood, firstTower, firstInhibiot, firstBaron, firstDragon, firstRiftHerald, t1_champ1id,\tt1_champ1_sum1, \tt1_champ1_sum2, \tt1_champ2id, \tt1_champ2_sum1, \tt1_champ2_sum2, \tt1_champ3id, \tt1_champ3_sum1, \tt1_champ3_sum2, \tt1_champ4id, \tt1_champ4_sum1, \tt1_champ4_sum2, \tt1_champ5id, \tt1_champ5_sum1, \tt1_champ5_sum2, \tt1_towerKills, \tt1_inhibitorKills, \tt1_baronKills, \tt1_dragonKills, \tt1_riftHeraldKills, \tt1_ban1, \tt1_ban2, \tt1_ban3, \tt1_ban4, \tt1_ban5, \tt2_champ1id, \tt2_champ1_sum1, \tt2_champ1_sum2, \tt2_champ2id, \tt2_champ2_sum1, \tt2_champ2_sum2, \tt2_champ3id, \tt2_champ3_sum1, \tt2_champ3_sum2, \tt2_champ4id, \tt2_champ4_sum1, \tt2_champ4_sum2, \tt2_champ5id, \tt2_champ5_sum1, \tt2_champ5_sum2, \tt2_towerKills, \tt2_inhibitorKills,\tt2_baronKills, \tt2_dragonKills, \tt2_riftHeraldKills, \tt2_ban1, \tt2_ban2, \tt2_ban3, \tt2_ban4, \tt2_ban5."
      ]
    },
    {
      "cell_type": "markdown",
      "metadata": {
        "id": "O4awey1LWAtM"
      },
      "source": [
        "# Présentation du jeu League of Legends"
      ]
    },
    {
      "cell_type": "markdown",
      "metadata": {
        "id": "z8YN2qLE6Alk"
      },
      "source": [
        "![Texte alternatif…](https://drive.google.com/uc?export=view&id=1qHjEpGeWbIk4hBh3NKnwzUyyw56x1fM_)"
      ]
    },
    {
      "cell_type": "markdown",
      "metadata": {
        "id": "IFw0r0ahiolo"
      },
      "source": [
        "League of Legends (LoL) est un jeu multijoueur compétitif joués par des millions de personnes à travers le monde.\n",
        "Dans une partie de League of Legends il y a 10 joueurs formant 2 équipes de 5. Les joueurs sont appelés les invocateurs, mais le terme joueur est plus souvent employé."
      ]
    },
    {
      "cell_type": "markdown",
      "metadata": {
        "id": "z_MDgvNLmBzA"
      },
      "source": [
        "### Vidéo de présentation"
      ]
    },
    {
      "cell_type": "markdown",
      "metadata": {
        "id": "-RtewBaAm2iO"
      },
      "source": [
        "Voici une vidéo présentant les fondamentaux du jeu: \n",
        "https://www.youtube.com/watch?v=WD9qgO0jo-M. Je vous encourage fortement à la regarder.\n",
        "Cette vidéo dure 5 minutes et 34 secondes. Ce ne sera absolument pas du temps perdu que de la regarder puisqu'elle vous donnera des bases solides pour comprendre comment fonctionne le jeu et toute la stratégie qu'il y a derrière. \n",
        "Beaucoup d'explications sont données et rappelées à plusieurs reprises dans ce notebook.\n"
      ]
    },
    {
      "cell_type": "markdown",
      "metadata": {
        "id": "6z7yVHXsmJR8"
      },
      "source": [
        "### Préambule"
      ]
    },
    {
      "cell_type": "markdown",
      "metadata": {
        "id": "ND_a9soBmSjp"
      },
      "source": [
        "L'analyse effectuée tout au long de ce notebook porte sur plus de 50 000 parties classées de la saison 9. Nous n'avons aucune information sur le nom ou le classement des joueurs. Cependant il s'agit de parties dites \"classées\" qui voient s'affronter des joueurs supposés être de niveau équivalent grâce au système de matchmaking. Ainsi, les données récoltées ne sont pas faussées par des joueurs qui seraient plus forts que les autres."
      ]
    },
    {
      "cell_type": "markdown",
      "metadata": {
        "id": "5p0EPkQJVhJc"
      },
      "source": [
        "# Durée d'une partie"
      ]
    },
    {
      "cell_type": "markdown",
      "metadata": {
        "id": "_OFO0bbZXrNW"
      },
      "source": [
        "**Déroulement d'une partie :**\n",
        "\n",
        "L'objectif est de détruire le *nexus* de la base adverse. Pour atteindre cette objectif, il est nécessaire de détruire les défenses de la base adverse. Chaque équipe dispose de 9 tourelles et de 3 inhibiteurs placées stratégiquement sur les 3 chemins de la carte. Enfin, 2 tourelles sont placées devant le nexus et constituent les dernières défenses de chaque base. Voici une carte représentant la zone de jeu :\n",
        "\n",
        "![Texte alternatif…](https://assets.sport.francetvinfo.fr/sites/default/files/styles/large_16_9/public/2019-11/league-of-legends_0.jpg?h=0dbe07ae&itok=k8rVNILE)\n",
        "\n",
        "On peut distinguer 3 grandes phases de jeu au cours d'une partie :\n",
        "\n",
        "*   Première phase : l'***early-game***. Les joueurs se répartissent sur la carte selon le rôle qui leur est attribué. Il y 1 joueur sur la voie du haut (toplaner), 1 joueur sur la voie du milieu (midlaner), 2 joueurs sur la voie du bas (botlaners) et 1 joueur dans la jungle (jungler). Pendant les premières minutes de la partie, les joueurs obtiennent de l'expérience et de l'or en tuant des sbires et des monstres tout en combattant leurs adversaires qui font exactement la même chose. L'objectif est d'accumuler plus d'or et de points d'experience que son adversaire afin d'acheter plus d'équipements et d'améliorer ses compétences le plus possible. Si vous êtes mieux équipé et plus haut niveau que votre adversaire, il vous sera alors plus facile de le tuer et ainsi d'attaquer sa base.\n",
        "*   Deuxième phase : le ***mid-game***. Les joueurs d'une même équipe commencent à se rassembler afin de prendre des objectifs stratégiques (Tourelles, Héraut de la Faille, Dragons, ...). Cette phase voit commencer les premiers combats de groupe (teamfight) entre les joueurs. Il est également important de continuer à prendre de l'expérience et de l'or en tuant des monstres sur les différentes voies.\n",
        "*   Troisième phase : le ***late-game*** Les tourelles et défenses extérieures sont tombées. Les joueurs ont alors accumulés beaucoup d'expériences et d'équipements. Toutes les batailles et escarmouches se font en équipe et sont décisives. Elles visent à détruire totalement la base adverse et remporter la partie. Des objectifs neutres très puissants sont disputés (Baron Nashor, Dragon Ancestral) car ils donnent un énorme avantage à l'équipe qui les obtient.\n",
        "\n",
        "\n"
      ]
    },
    {
      "cell_type": "markdown",
      "metadata": {
        "id": "LEAQJKpKKudW"
      },
      "source": [
        "Voici les deux moyens de mettre fin à une partie sans détruire le nexus adverse :\n",
        "\n",
        "\n",
        "*   Le ***Remake*** : La commande `/remake` permet de proposer un vote à votre équipe pour mettre fin à la partie au début de celle-ci si un de vos allié est déconnecté de la partie. Personne n'a envie de commencer une partie compétitive avec le désavantage de jouer en infériorité numérique. \\\\\n",
        "Cette commande devient disponible à 3 minutes de jeu si un joueur est déconnecté ou marqué comme inactif pendant 90 secondes. L'équipe désavantagée dispose alors de 60 secondes pour proposer un vote en tapant la commande /remake dans la messagerie du jeu. \\\\\n",
        "Dans un 4c5 (4 contre 5), au moins 2 joueurs doivent voter oui pour que le match s'arrête. Dans un 3c5 ou moins, il suffit qu'un seul joueur vote oui pour mettre un terme à la partie. \\\\\n",
        "Cependant, si un joueur meurt avant qu'un joueur ne se déconnecte ou soit inactif, la commande `/remake` ne sera plus disponible. \\\\\n",
        "Si un vote de remake est validé, aucune équipe n'est pénalisée par une défaite ou gratifiée par une victoire. Aucun point de ligue n'est perdu ou octroyé. Seul le joueur déconnecté se voit attribuer une défaite et une perte de point de ligue.\n",
        "\n",
        "\n",
        "*   La ***Reddition*** : La commande `/surrender` permet de proposer un vote à votre équipe pour mettre fin à la partie à partir de 15 min de jeu. N'importe quel membre d'une équipe peut proposer un vote de reddition si il pense que son équipe ne peut plus gagner la partie. \\\\\n",
        "Entre 15-20 minutes, si un vote de reddition est proposé au sein d'une équipe, tous les joueurs doivent voter oui pour que celui-ci soit validé. À partir de 20 minutes, 4 joueurs sur les 5 doivent voter oui pour que le vote soit validé. \\\\\n",
        "\n",
        "\n"
      ]
    },
    {
      "cell_type": "markdown",
      "metadata": {
        "id": "yQWNoIChmGGD"
      },
      "source": [
        "Étudions la durée des parties :"
      ]
    },
    {
      "cell_type": "code",
      "metadata": {
        "id": "ubKXkfj_XX4b",
        "colab": {
          "base_uri": "https://localhost:8080/",
          "height": 404
        },
        "outputId": "54d5a08b-37f4-42e3-c491-d7234eb03d4c"
      },
      "source": [
        "\"\"\" On construit une petite dataframe pour étudier la durée des parties. \"\"\"\n",
        "Time = ['gameDuration']  # on récupère la colonne de durée des parties\n",
        "\n",
        "Tab_Time = df[Time].apply(pd.value_counts) # on compte le nombre de parties d'une durée x\n",
        "Tab_Time.columns = ['Nombres de parties']  # on renomme la colonne pour plus de clarté\n",
        "Tps_parties = list(Tab_Time.index)\n",
        "\n",
        "\"\"\" On construit l'histogramme de la durée des parties \"\"\"\n",
        "fig=plt.figure(figsize=(12,6))\n",
        "plt.title('Histogramme de la durée des parties',color='black');\n",
        "plt.bar(Tps_parties,Tab_Time['Nombres de parties'],width=1);\n",
        "\n",
        "# annotations sur le graphique\n",
        "plt.annotate('Remakes',xy=(220, 100), xytext=(500, 120), arrowprops=dict(facecolor='black', shrink=0.05, width=1, headwidth=4))\n",
        "plt.annotate('15 min (réddition à 5)',xy=(900,23),xytext=(350,45), arrowprops=dict(facecolor='black', shrink=0.05, width=1, headwidth=4))\n",
        "plt.annotate('20 min (réddition à 4)',xy=(1200,48),xytext=(700,80), arrowprops=dict(facecolor='black', shrink=0.05, width=1, headwidth=4))\n",
        "plt.annotate('Pic moyen de fin de parties',xy=(1832,80),xytext=(1350,100), arrowprops=dict(facecolor='black', shrink=0.05, width=1, headwidth=4))\n",
        "plt.annotate('1 heure',xy=(3600, 5), xytext=(3450, 30), arrowprops=dict(facecolor='black', shrink=0.05, width=1, headwidth=4))\n",
        "\n",
        "plt.yticks(color='black')\n",
        "plt.xticks(color='black')\n",
        "plt.ylabel('nombre de parties', color='black');\n",
        "plt.xlabel('durée',color='black');"
      ],
      "execution_count": null,
      "outputs": [
        {
          "output_type": "display_data",
          "data": {
            "image/png": "[encoded data removed]",
            "text/plain": [
              "<Figure size 864x432 with 1 Axes>"
            ]
          },
          "metadata": {
            "tags": [],
            "needs_background": "light"
          }
        }
      ]
    },
    {
      "cell_type": "code",
      "metadata": {
        "id": "QolsdSv2K0jL",
        "colab": {
          "base_uri": "https://localhost:8080/",
          "height": 34
        },
        "outputId": "3f598695-630a-40cd-fffb-ff6c980bc659"
      },
      "source": [
        "\"\"\" Calculons la durée moyenne d'une partie \"\"\"\n",
        "tps_moyen = np.mean(df['gameDuration'])\n",
        "tps_moyen"
      ],
      "execution_count": null,
      "outputs": [
        {
          "output_type": "execute_result",
          "data": {
            "text/plain": [
              "1832.3628083122937"
            ]
          },
          "metadata": {
            "tags": []
          },
          "execution_count": 267
        }
      ]
    },
    {
      "cell_type": "markdown",
      "metadata": {
        "id": "YtF5LpAQU2Vx"
      },
      "source": [
        "**Analyse du graphique :**\n",
        "\n",
        "*   Le premier pic entre 3 et 4 minutes correspond aux remakes.\n",
        "*   Quelques parties après 4 minutes se terminent avant 15 minutes ce qui est très rare. Une équipe a surpassé l'autre très rapidement et certains joueurs de l'équipe adverse ont sans doute arrêté de jouer pour laisser l'autre équipe finir la partie.\n",
        "*   On observe un deuxième pic à 15 minutes qui correspond aux premières rédditions. \n",
        "*   On observe un troisième pic à 20 minutes qui correspond également à beaucoup de rédditions vu que la réddition à 4 joueurs est débloquée.\n",
        "*   La durée moyenne d'une partie est 1832 secondes, soit 30 minutes et 32 secondes.\n",
        "\n"
      ]
    },
    {
      "cell_type": "markdown",
      "metadata": {
        "id": "QTf7n4l6NpdH"
      },
      "source": [
        "# Résultats des parties"
      ]
    },
    {
      "cell_type": "markdown",
      "metadata": {
        "id": "m85ygLCi1sRX"
      },
      "source": [
        "Dans la partie précédente, nous avons expliqué le déroulement globale d'une partie de jeu. Vous avez sans doute remarquez que la carte était symétrique par rapport au point central de la carte.\n",
        "\n",
        "On distingue les 2 équipes :\n",
        "*   Équipe 1\n",
        "*   Équipe 2\n",
        "\n",
        "L'équipe 1 a pour base celle au sud-ouest. On appelle ce côté de la carte ***Blueside***.\n",
        "\n",
        "L'équipe 2 a pour base celle au nord-est. On appelle ce côté de la carte ***Redside***.\n",
        "\n",
        "Je rappelle que dans toutes les parties étudiées, les joueurs sont différents d'une partie à l'autre et ne se connaissent pas ou très peu. Les parties que nous étudions sont des parties classées de type Solo/Duo. Les joueurs peuvent rechercher une partie tout seul ou avec un ami. Une fois la partie trouvée, tous les joueurs sont avec d'autres joueurs qu'ils ne connaissent pas, excepté une personne si ils ont recherché une partie avec un ami.\n",
        "\n"
      ]
    },
    {
      "cell_type": "markdown",
      "metadata": {
        "id": "Wk0Bq0vS-P9Y"
      },
      "source": [
        "La deuxième différence importante entre les deux équipes 1 et 2, c'est pendant la phase de sélection des champions. \n",
        "\n",
        "Expliquons ce qui précède la partie de jeu :\n",
        "\n",
        "Un joueur recherche une partie via ce qu'on appellera le menu principal du jeu. Dans ce menu, vous pouvez discuter avec vos amis, regarder votre profil ou ceux des autres joueurs, acheter des champions (personnages) que vous pourrez jouer ensuite dans vos futures parties, ..., et rechercher une partie de jeu !\n",
        "\n",
        "Une fois que vous avez lancé votre recherche et attendu quelques instants, vous trouvez une partie. \n",
        "\n",
        "Vous voilà enfin dans une partie. Mais avant, tous les joueurs doivent choisir un champion (personnage) avec lequel ils vont jouer leur partie. C'est ce que qu'on appelle la phase de sélection des champions. Dans League of Legends, il y a environ 150 champions avec lesquels vous pouvez jouer.\n",
        "\n",
        "Tous les joueurs ont le droit de bannir un champion contre lequel ils ne veulent pas jouer. Une fois la phase de bannissement terminée, les joueurs choisissent chacun leur tour leurs champions. \n",
        "\n",
        "L'équipe 1 (équipe *Blueside*) aura le tout premier choix. Ensuite l'équipe 2 (équipe *Redside*) choisit 2 champions. Puis c'est au tour de l'équipe 1 (équipe *Blueside*) de choisir 2 champions. Et on continue ainsi de suite. L'équipe 2 (équipe *Redside*) aura le tout dernier choix. \n",
        "\n",
        "Ensuite, la partie se lance pour de bon. Vous voilà sur la carte appelée ***Faille de l'invocateur***, prêt à en découdre avec vos adversaires.\n",
        "\n",
        "Voilà, vous savez maintenant les principales différences entre les équipes 1 *Blueside* et 2 *Redside*. \n",
        "\n",
        "Si l'équipe 1 a le tout premier choix, vous pouvez vous dire que cette équipe pourra choisir le champion le plus fort (le plus *cheaté* comme on aime bien le dire 🙂). C'est vrai, mais l'équipe 2 ayant le tout dernier choix pourra choisir le parfait champion pour contrer toute l'équipe adverse. \n",
        "\n",
        "Les développeurs de League of Legends équilibrent le jeu par des mise à jour régulières. Globalement, le jeu est bien équilibré.\n",
        "\n",
        "L'analyse faite tout au long du notebook se concentre principalement sur les évènements qui surviennent au cours de la partie et non avant. Nous étudions des parties de jeu d'amateurs et non de professionnels. Si mon analyse portait sur des parties de jeu de professionnels, elle serait différente car chaque détails compte. Dans une partie d'amateur c'est moins le cas, bien que ces parties soient compétitives et rapportent des points au classement général des joueurs.\n",
        "\n",
        "La phase de sélection des champions est super importante dans des compétitions professionnelles. C'est beaucoup moins le cas pour des parties classées d'amateurs. Tous les joueurs ne maitrisent pas de la même façon tous les champions. Voilà pourquoi nous n'analyserons que très peu l'impact des champions (personnages) que jouent les joueurs dans les parties. "
      ]
    },
    {
      "cell_type": "markdown",
      "metadata": {
        "id": "Ms409ab9NvgR"
      },
      "source": [
        "Regardons les résultats des parties."
      ]
    },
    {
      "cell_type": "code",
      "metadata": {
        "id": "eWfLDmwtOaaB",
        "colab": {
          "base_uri": "https://localhost:8080/",
          "height": 112
        },
        "outputId": "e77e06a0-3974-48e9-db65-47bc7f9c0cb8"
      },
      "source": [
        "\"\"\" Récupérons la colonne 'winner' indiquant quelle équipe a gagné chaque partie \"\"\"\n",
        "Victory_Col_Df = ['winner']\n",
        "\n",
        "Victory_Info = df[Victory_Col_Df].apply(pd.value_counts)\n",
        "\n",
        "Victory_Info"
      ],
      "execution_count": null,
      "outputs": [
        {
          "output_type": "execute_result",
          "data": {
            "text/html": [
              "<div>\n",
              "<style scoped>\n",
              "    .dataframe tbody tr th:only-of-type {\n",
              "        vertical-align: middle;\n",
              "    }\n",
              "\n",
              "    .dataframe tbody tr th {\n",
              "        vertical-align: top;\n",
              "    }\n",
              "\n",
              "    .dataframe thead th {\n",
              "        text-align: right;\n",
              "    }\n",
              "</style>\n",
              "<table border=\"1\" class=\"dataframe\">\n",
              "  <thead>\n",
              "    <tr style=\"text-align: right;\">\n",
              "      <th></th>\n",
              "      <th>winner</th>\n",
              "    </tr>\n",
              "  </thead>\n",
              "  <tbody>\n",
              "    <tr>\n",
              "      <th>1</th>\n",
              "      <td>26077</td>\n",
              "    </tr>\n",
              "    <tr>\n",
              "      <th>2</th>\n",
              "      <td>25413</td>\n",
              "    </tr>\n",
              "  </tbody>\n",
              "</table>\n",
              "</div>"
            ],
            "text/plain": [
              "   winner\n",
              "1   26077\n",
              "2   25413"
            ]
          },
          "metadata": {
            "tags": []
          },
          "execution_count": 268
        }
      ]
    },
    {
      "cell_type": "markdown",
      "metadata": {
        "id": "XFdEah-AQl5L"
      },
      "source": [
        "Il n'y a malheureusement pas de 3ème valeur dans la colonne 'winner' pour comptabiliser les remakes. Bien que la personne absente obligeant ses alliés à proposer un vote pour remake reçoit une défaite, les 9 autres joueurs n'obtiennent ni défaite, ni victoire. Le jeu indique clairement dans l'historique des parties des joueurs si une partie s'est terminé en remake. \n",
        "\n",
        "Il serait peut être judicieux d'enlever les parties avec une durée inférieure à 4 minutes afin d'étudier le plus précisement possible les paramètres qui impactent la victoire des joueurs.\n",
        "\n",
        "Il s'agit de 1195 parties sur 51490 parties. (environ 2,32 % des parties)\n",
        "Pour étudier au mieux les paramètres impactant la victoire d'une équipe, nous allons enlever toutes les parties qui ont remake (voir les parties : étude des corrélations, ...).\n",
        "\n",
        "Néanmois, on va garder les données des parties qui ont remake pour l'étude du choix des sortilèges d'invocateurs ou des champions. Dans ces deux domaines, la victoire ne nous intéresse pas, on cherche plutôt à savoir quels sortilèges sont populaires par exemple."
      ]
    },
    {
      "cell_type": "markdown",
      "metadata": {
        "id": "zV6TmkabEw_t"
      },
      "source": [
        "Affichons plus précisement l'histogramme de durée des parties zoomé sur les remakes entre 3 et 4 minutes."
      ]
    },
    {
      "cell_type": "code",
      "metadata": {
        "id": "GE_guu3QPnoK",
        "colab": {
          "base_uri": "https://localhost:8080/",
          "height": 444
        },
        "outputId": "91b40c1e-de6d-45d9-9dcc-6f473582a4ae"
      },
      "source": [
        "remakes = df.loc[df[\"gameDuration\"]<240]\n",
        "remakes"
      ],
      "execution_count": null,
      "outputs": [
        {
          "output_type": "execute_result",
          "data": {
            "text/html": [
              "<div>\n",
              "<style scoped>\n",
              "    .dataframe tbody tr th:only-of-type {\n",
              "        vertical-align: middle;\n",
              "    }\n",
              "\n",
              "    .dataframe tbody tr th {\n",
              "        vertical-align: top;\n",
              "    }\n",
              "\n",
              "    .dataframe thead th {\n",
              "        text-align: right;\n",
              "    }\n",
              "</style>\n",
              "<table border=\"1\" class=\"dataframe\">\n",
              "  <thead>\n",
              "    <tr style=\"text-align: right;\">\n",
              "      <th></th>\n",
              "      <th>gameId</th>\n",
              "      <th>creationTime</th>\n",
              "      <th>gameDuration</th>\n",
              "      <th>seasonId</th>\n",
              "      <th>winner</th>\n",
              "      <th>firstBlood</th>\n",
              "      <th>firstTower</th>\n",
              "      <th>firstInhibitor</th>\n",
              "      <th>firstBaron</th>\n",
              "      <th>firstDragon</th>\n",
              "      <th>firstRiftHerald</th>\n",
              "      <th>t1_champ1id</th>\n",
              "      <th>t1_champ1_sum1</th>\n",
              "      <th>t1_champ1_sum2</th>\n",
              "      <th>t1_champ2id</th>\n",
              "      <th>t1_champ2_sum1</th>\n",
              "      <th>t1_champ2_sum2</th>\n",
              "      <th>t1_champ3id</th>\n",
              "      <th>t1_champ3_sum1</th>\n",
              "      <th>t1_champ3_sum2</th>\n",
              "      <th>t1_champ4id</th>\n",
              "      <th>t1_champ4_sum1</th>\n",
              "      <th>t1_champ4_sum2</th>\n",
              "      <th>t1_champ5id</th>\n",
              "      <th>t1_champ5_sum1</th>\n",
              "      <th>t1_champ5_sum2</th>\n",
              "      <th>t1_towerKills</th>\n",
              "      <th>t1_inhibitorKills</th>\n",
              "      <th>t1_baronKills</th>\n",
              "      <th>t1_dragonKills</th>\n",
              "      <th>t1_riftHeraldKills</th>\n",
              "      <th>t1_ban1</th>\n",
              "      <th>t1_ban2</th>\n",
              "      <th>t1_ban3</th>\n",
              "      <th>t1_ban4</th>\n",
              "      <th>t1_ban5</th>\n",
              "      <th>t2_champ1id</th>\n",
              "      <th>t2_champ1_sum1</th>\n",
              "      <th>t2_champ1_sum2</th>\n",
              "      <th>t2_champ2id</th>\n",
              "      <th>t2_champ2_sum1</th>\n",
              "      <th>t2_champ2_sum2</th>\n",
              "      <th>t2_champ3id</th>\n",
              "      <th>t2_champ3_sum1</th>\n",
              "      <th>t2_champ3_sum2</th>\n",
              "      <th>t2_champ4id</th>\n",
              "      <th>t2_champ4_sum1</th>\n",
              "      <th>t2_champ4_sum2</th>\n",
              "      <th>t2_champ5id</th>\n",
              "      <th>t2_champ5_sum1</th>\n",
              "      <th>t2_champ5_sum2</th>\n",
              "      <th>t2_towerKills</th>\n",
              "      <th>t2_inhibitorKills</th>\n",
              "      <th>t2_baronKills</th>\n",
              "      <th>t2_dragonKills</th>\n",
              "      <th>t2_riftHeraldKills</th>\n",
              "      <th>t2_ban1</th>\n",
              "      <th>t2_ban2</th>\n",
              "      <th>t2_ban3</th>\n",
              "      <th>t2_ban4</th>\n",
              "      <th>t2_ban5</th>\n",
              "    </tr>\n",
              "  </thead>\n",
              "  <tbody>\n",
              "    <tr>\n",
              "      <th>64</th>\n",
              "      <td>3258796399</td>\n",
              "      <td>1499719924936</td>\n",
              "      <td>197</td>\n",
              "      <td>9</td>\n",
              "      <td>2</td>\n",
              "      <td>0</td>\n",
              "      <td>0</td>\n",
              "      <td>0</td>\n",
              "      <td>0</td>\n",
              "      <td>0</td>\n",
              "      <td>0</td>\n",
              "      <td>111</td>\n",
              "      <td>4</td>\n",
              "      <td>3</td>\n",
              "      <td>19</td>\n",
              "      <td>4</td>\n",
              "      <td>11</td>\n",
              "      <td>51</td>\n",
              "      <td>4</td>\n",
              "      <td>7</td>\n",
              "      <td>80</td>\n",
              "      <td>4</td>\n",
              "      <td>14</td>\n",
              "      <td>245</td>\n",
              "      <td>12</td>\n",
              "      <td>4</td>\n",
              "      <td>0</td>\n",
              "      <td>0</td>\n",
              "      <td>0</td>\n",
              "      <td>0</td>\n",
              "      <td>0</td>\n",
              "      <td>105</td>\n",
              "      <td>154</td>\n",
              "      <td>67</td>\n",
              "      <td>114</td>\n",
              "      <td>498</td>\n",
              "      <td>22</td>\n",
              "      <td>7</td>\n",
              "      <td>4</td>\n",
              "      <td>79</td>\n",
              "      <td>11</td>\n",
              "      <td>4</td>\n",
              "      <td>143</td>\n",
              "      <td>14</td>\n",
              "      <td>4</td>\n",
              "      <td>240</td>\n",
              "      <td>12</td>\n",
              "      <td>4</td>\n",
              "      <td>55</td>\n",
              "      <td>4</td>\n",
              "      <td>14</td>\n",
              "      <td>0</td>\n",
              "      <td>0</td>\n",
              "      <td>0</td>\n",
              "      <td>0</td>\n",
              "      <td>0</td>\n",
              "      <td>157</td>\n",
              "      <td>7</td>\n",
              "      <td>114</td>\n",
              "      <td>154</td>\n",
              "      <td>8</td>\n",
              "    </tr>\n",
              "    <tr>\n",
              "      <th>82</th>\n",
              "      <td>3330152268</td>\n",
              "      <td>1504559761914</td>\n",
              "      <td>193</td>\n",
              "      <td>9</td>\n",
              "      <td>1</td>\n",
              "      <td>1</td>\n",
              "      <td>0</td>\n",
              "      <td>0</td>\n",
              "      <td>0</td>\n",
              "      <td>0</td>\n",
              "      <td>0</td>\n",
              "      <td>63</td>\n",
              "      <td>4</td>\n",
              "      <td>14</td>\n",
              "      <td>122</td>\n",
              "      <td>4</td>\n",
              "      <td>12</td>\n",
              "      <td>121</td>\n",
              "      <td>11</td>\n",
              "      <td>4</td>\n",
              "      <td>18</td>\n",
              "      <td>7</td>\n",
              "      <td>4</td>\n",
              "      <td>99</td>\n",
              "      <td>4</td>\n",
              "      <td>3</td>\n",
              "      <td>0</td>\n",
              "      <td>0</td>\n",
              "      <td>0</td>\n",
              "      <td>0</td>\n",
              "      <td>0</td>\n",
              "      <td>86</td>\n",
              "      <td>113</td>\n",
              "      <td>24</td>\n",
              "      <td>222</td>\n",
              "      <td>7</td>\n",
              "      <td>5</td>\n",
              "      <td>4</td>\n",
              "      <td>11</td>\n",
              "      <td>106</td>\n",
              "      <td>4</td>\n",
              "      <td>12</td>\n",
              "      <td>29</td>\n",
              "      <td>4</td>\n",
              "      <td>7</td>\n",
              "      <td>112</td>\n",
              "      <td>4</td>\n",
              "      <td>14</td>\n",
              "      <td>89</td>\n",
              "      <td>3</td>\n",
              "      <td>14</td>\n",
              "      <td>0</td>\n",
              "      <td>0</td>\n",
              "      <td>0</td>\n",
              "      <td>0</td>\n",
              "      <td>0</td>\n",
              "      <td>11</td>\n",
              "      <td>238</td>\n",
              "      <td>86</td>\n",
              "      <td>157</td>\n",
              "      <td>31</td>\n",
              "    </tr>\n",
              "    <tr>\n",
              "      <th>119</th>\n",
              "      <td>3246799766</td>\n",
              "      <td>1498919798084</td>\n",
              "      <td>192</td>\n",
              "      <td>9</td>\n",
              "      <td>1</td>\n",
              "      <td>1</td>\n",
              "      <td>0</td>\n",
              "      <td>0</td>\n",
              "      <td>0</td>\n",
              "      <td>0</td>\n",
              "      <td>0</td>\n",
              "      <td>61</td>\n",
              "      <td>6</td>\n",
              "      <td>4</td>\n",
              "      <td>77</td>\n",
              "      <td>4</td>\n",
              "      <td>11</td>\n",
              "      <td>119</td>\n",
              "      <td>4</td>\n",
              "      <td>7</td>\n",
              "      <td>412</td>\n",
              "      <td>4</td>\n",
              "      <td>14</td>\n",
              "      <td>23</td>\n",
              "      <td>6</td>\n",
              "      <td>14</td>\n",
              "      <td>0</td>\n",
              "      <td>0</td>\n",
              "      <td>0</td>\n",
              "      <td>0</td>\n",
              "      <td>0</td>\n",
              "      <td>154</td>\n",
              "      <td>54</td>\n",
              "      <td>105</td>\n",
              "      <td>498</td>\n",
              "      <td>157</td>\n",
              "      <td>245</td>\n",
              "      <td>4</td>\n",
              "      <td>14</td>\n",
              "      <td>420</td>\n",
              "      <td>4</td>\n",
              "      <td>12</td>\n",
              "      <td>22</td>\n",
              "      <td>4</td>\n",
              "      <td>7</td>\n",
              "      <td>497</td>\n",
              "      <td>3</td>\n",
              "      <td>4</td>\n",
              "      <td>64</td>\n",
              "      <td>4</td>\n",
              "      <td>11</td>\n",
              "      <td>0</td>\n",
              "      <td>0</td>\n",
              "      <td>0</td>\n",
              "      <td>0</td>\n",
              "      <td>0</td>\n",
              "      <td>103</td>\n",
              "      <td>122</td>\n",
              "      <td>105</td>\n",
              "      <td>117</td>\n",
              "      <td>29</td>\n",
              "    </tr>\n",
              "    <tr>\n",
              "      <th>149</th>\n",
              "      <td>3284885837</td>\n",
              "      <td>1501465757099</td>\n",
              "      <td>208</td>\n",
              "      <td>9</td>\n",
              "      <td>1</td>\n",
              "      <td>1</td>\n",
              "      <td>0</td>\n",
              "      <td>0</td>\n",
              "      <td>0</td>\n",
              "      <td>0</td>\n",
              "      <td>0</td>\n",
              "      <td>64</td>\n",
              "      <td>11</td>\n",
              "      <td>4</td>\n",
              "      <td>127</td>\n",
              "      <td>4</td>\n",
              "      <td>12</td>\n",
              "      <td>21</td>\n",
              "      <td>4</td>\n",
              "      <td>7</td>\n",
              "      <td>23</td>\n",
              "      <td>12</td>\n",
              "      <td>4</td>\n",
              "      <td>16</td>\n",
              "      <td>4</td>\n",
              "      <td>3</td>\n",
              "      <td>0</td>\n",
              "      <td>0</td>\n",
              "      <td>0</td>\n",
              "      <td>0</td>\n",
              "      <td>0</td>\n",
              "      <td>31</td>\n",
              "      <td>412</td>\n",
              "      <td>6</td>\n",
              "      <td>150</td>\n",
              "      <td>131</td>\n",
              "      <td>86</td>\n",
              "      <td>4</td>\n",
              "      <td>14</td>\n",
              "      <td>18</td>\n",
              "      <td>4</td>\n",
              "      <td>7</td>\n",
              "      <td>141</td>\n",
              "      <td>4</td>\n",
              "      <td>11</td>\n",
              "      <td>43</td>\n",
              "      <td>3</td>\n",
              "      <td>4</td>\n",
              "      <td>55</td>\n",
              "      <td>14</td>\n",
              "      <td>4</td>\n",
              "      <td>0</td>\n",
              "      <td>0</td>\n",
              "      <td>0</td>\n",
              "      <td>0</td>\n",
              "      <td>0</td>\n",
              "      <td>31</td>\n",
              "      <td>157</td>\n",
              "      <td>11</td>\n",
              "      <td>119</td>\n",
              "      <td>150</td>\n",
              "    </tr>\n",
              "    <tr>\n",
              "      <th>276</th>\n",
              "      <td>3303374774</td>\n",
              "      <td>1502719079210</td>\n",
              "      <td>201</td>\n",
              "      <td>9</td>\n",
              "      <td>1</td>\n",
              "      <td>1</td>\n",
              "      <td>0</td>\n",
              "      <td>0</td>\n",
              "      <td>0</td>\n",
              "      <td>0</td>\n",
              "      <td>0</td>\n",
              "      <td>4</td>\n",
              "      <td>6</td>\n",
              "      <td>4</td>\n",
              "      <td>56</td>\n",
              "      <td>4</td>\n",
              "      <td>11</td>\n",
              "      <td>41</td>\n",
              "      <td>12</td>\n",
              "      <td>4</td>\n",
              "      <td>89</td>\n",
              "      <td>4</td>\n",
              "      <td>3</td>\n",
              "      <td>18</td>\n",
              "      <td>7</td>\n",
              "      <td>4</td>\n",
              "      <td>0</td>\n",
              "      <td>0</td>\n",
              "      <td>0</td>\n",
              "      <td>0</td>\n",
              "      <td>0</td>\n",
              "      <td>75</td>\n",
              "      <td>157</td>\n",
              "      <td>119</td>\n",
              "      <td>141</td>\n",
              "      <td>154</td>\n",
              "      <td>86</td>\n",
              "      <td>4</td>\n",
              "      <td>12</td>\n",
              "      <td>498</td>\n",
              "      <td>4</td>\n",
              "      <td>7</td>\n",
              "      <td>14</td>\n",
              "      <td>4</td>\n",
              "      <td>12</td>\n",
              "      <td>76</td>\n",
              "      <td>4</td>\n",
              "      <td>11</td>\n",
              "      <td>134</td>\n",
              "      <td>6</td>\n",
              "      <td>4</td>\n",
              "      <td>0</td>\n",
              "      <td>0</td>\n",
              "      <td>0</td>\n",
              "      <td>0</td>\n",
              "      <td>0</td>\n",
              "      <td>67</td>\n",
              "      <td>17</td>\n",
              "      <td>238</td>\n",
              "      <td>31</td>\n",
              "      <td>117</td>\n",
              "    </tr>\n",
              "    <tr>\n",
              "      <th>...</th>\n",
              "      <td>...</td>\n",
              "      <td>...</td>\n",
              "      <td>...</td>\n",
              "      <td>...</td>\n",
              "      <td>...</td>\n",
              "      <td>...</td>\n",
              "      <td>...</td>\n",
              "      <td>...</td>\n",
              "      <td>...</td>\n",
              "      <td>...</td>\n",
              "      <td>...</td>\n",
              "      <td>...</td>\n",
              "      <td>...</td>\n",
              "      <td>...</td>\n",
              "      <td>...</td>\n",
              "      <td>...</td>\n",
              "      <td>...</td>\n",
              "      <td>...</td>\n",
              "      <td>...</td>\n",
              "      <td>...</td>\n",
              "      <td>...</td>\n",
              "      <td>...</td>\n",
              "      <td>...</td>\n",
              "      <td>...</td>\n",
              "      <td>...</td>\n",
              "      <td>...</td>\n",
              "      <td>...</td>\n",
              "      <td>...</td>\n",
              "      <td>...</td>\n",
              "      <td>...</td>\n",
              "      <td>...</td>\n",
              "      <td>...</td>\n",
              "      <td>...</td>\n",
              "      <td>...</td>\n",
              "      <td>...</td>\n",
              "      <td>...</td>\n",
              "      <td>...</td>\n",
              "      <td>...</td>\n",
              "      <td>...</td>\n",
              "      <td>...</td>\n",
              "      <td>...</td>\n",
              "      <td>...</td>\n",
              "      <td>...</td>\n",
              "      <td>...</td>\n",
              "      <td>...</td>\n",
              "      <td>...</td>\n",
              "      <td>...</td>\n",
              "      <td>...</td>\n",
              "      <td>...</td>\n",
              "      <td>...</td>\n",
              "      <td>...</td>\n",
              "      <td>...</td>\n",
              "      <td>...</td>\n",
              "      <td>...</td>\n",
              "      <td>...</td>\n",
              "      <td>...</td>\n",
              "      <td>...</td>\n",
              "      <td>...</td>\n",
              "      <td>...</td>\n",
              "      <td>...</td>\n",
              "      <td>...</td>\n",
              "    </tr>\n",
              "    <tr>\n",
              "      <th>51271</th>\n",
              "      <td>3324791171</td>\n",
              "      <td>1504190733403</td>\n",
              "      <td>191</td>\n",
              "      <td>9</td>\n",
              "      <td>1</td>\n",
              "      <td>0</td>\n",
              "      <td>0</td>\n",
              "      <td>0</td>\n",
              "      <td>0</td>\n",
              "      <td>0</td>\n",
              "      <td>0</td>\n",
              "      <td>18</td>\n",
              "      <td>4</td>\n",
              "      <td>7</td>\n",
              "      <td>238</td>\n",
              "      <td>4</td>\n",
              "      <td>14</td>\n",
              "      <td>141</td>\n",
              "      <td>11</td>\n",
              "      <td>4</td>\n",
              "      <td>38</td>\n",
              "      <td>12</td>\n",
              "      <td>4</td>\n",
              "      <td>53</td>\n",
              "      <td>4</td>\n",
              "      <td>3</td>\n",
              "      <td>0</td>\n",
              "      <td>0</td>\n",
              "      <td>0</td>\n",
              "      <td>0</td>\n",
              "      <td>0</td>\n",
              "      <td>91</td>\n",
              "      <td>254</td>\n",
              "      <td>119</td>\n",
              "      <td>40</td>\n",
              "      <td>157</td>\n",
              "      <td>103</td>\n",
              "      <td>14</td>\n",
              "      <td>4</td>\n",
              "      <td>2</td>\n",
              "      <td>12</td>\n",
              "      <td>4</td>\n",
              "      <td>117</td>\n",
              "      <td>3</td>\n",
              "      <td>4</td>\n",
              "      <td>22</td>\n",
              "      <td>4</td>\n",
              "      <td>7</td>\n",
              "      <td>19</td>\n",
              "      <td>4</td>\n",
              "      <td>11</td>\n",
              "      <td>0</td>\n",
              "      <td>0</td>\n",
              "      <td>0</td>\n",
              "      <td>0</td>\n",
              "      <td>0</td>\n",
              "      <td>157</td>\n",
              "      <td>516</td>\n",
              "      <td>24</td>\n",
              "      <td>245</td>\n",
              "      <td>267</td>\n",
              "    </tr>\n",
              "    <tr>\n",
              "      <th>51359</th>\n",
              "      <td>3323948503</td>\n",
              "      <td>1504111359658</td>\n",
              "      <td>202</td>\n",
              "      <td>9</td>\n",
              "      <td>1</td>\n",
              "      <td>2</td>\n",
              "      <td>0</td>\n",
              "      <td>0</td>\n",
              "      <td>0</td>\n",
              "      <td>0</td>\n",
              "      <td>0</td>\n",
              "      <td>32</td>\n",
              "      <td>11</td>\n",
              "      <td>4</td>\n",
              "      <td>36</td>\n",
              "      <td>4</td>\n",
              "      <td>12</td>\n",
              "      <td>99</td>\n",
              "      <td>14</td>\n",
              "      <td>4</td>\n",
              "      <td>57</td>\n",
              "      <td>3</td>\n",
              "      <td>4</td>\n",
              "      <td>96</td>\n",
              "      <td>4</td>\n",
              "      <td>7</td>\n",
              "      <td>0</td>\n",
              "      <td>0</td>\n",
              "      <td>0</td>\n",
              "      <td>0</td>\n",
              "      <td>0</td>\n",
              "      <td>53</td>\n",
              "      <td>31</td>\n",
              "      <td>157</td>\n",
              "      <td>55</td>\n",
              "      <td>245</td>\n",
              "      <td>18</td>\n",
              "      <td>7</td>\n",
              "      <td>4</td>\n",
              "      <td>110</td>\n",
              "      <td>4</td>\n",
              "      <td>14</td>\n",
              "      <td>11</td>\n",
              "      <td>6</td>\n",
              "      <td>21</td>\n",
              "      <td>78</td>\n",
              "      <td>4</td>\n",
              "      <td>21</td>\n",
              "      <td>141</td>\n",
              "      <td>11</td>\n",
              "      <td>4</td>\n",
              "      <td>0</td>\n",
              "      <td>0</td>\n",
              "      <td>0</td>\n",
              "      <td>0</td>\n",
              "      <td>0</td>\n",
              "      <td>113</td>\n",
              "      <td>31</td>\n",
              "      <td>25</td>\n",
              "      <td>238</td>\n",
              "      <td>119</td>\n",
              "    </tr>\n",
              "    <tr>\n",
              "      <th>51412</th>\n",
              "      <td>3252578270</td>\n",
              "      <td>1499293935789</td>\n",
              "      <td>194</td>\n",
              "      <td>9</td>\n",
              "      <td>2</td>\n",
              "      <td>2</td>\n",
              "      <td>0</td>\n",
              "      <td>0</td>\n",
              "      <td>0</td>\n",
              "      <td>0</td>\n",
              "      <td>0</td>\n",
              "      <td>55</td>\n",
              "      <td>4</td>\n",
              "      <td>14</td>\n",
              "      <td>23</td>\n",
              "      <td>12</td>\n",
              "      <td>4</td>\n",
              "      <td>412</td>\n",
              "      <td>14</td>\n",
              "      <td>4</td>\n",
              "      <td>32</td>\n",
              "      <td>11</td>\n",
              "      <td>4</td>\n",
              "      <td>18</td>\n",
              "      <td>7</td>\n",
              "      <td>4</td>\n",
              "      <td>0</td>\n",
              "      <td>0</td>\n",
              "      <td>0</td>\n",
              "      <td>0</td>\n",
              "      <td>0</td>\n",
              "      <td>38</td>\n",
              "      <td>11</td>\n",
              "      <td>498</td>\n",
              "      <td>51</td>\n",
              "      <td>117</td>\n",
              "      <td>236</td>\n",
              "      <td>4</td>\n",
              "      <td>7</td>\n",
              "      <td>5</td>\n",
              "      <td>4</td>\n",
              "      <td>11</td>\n",
              "      <td>53</td>\n",
              "      <td>4</td>\n",
              "      <td>3</td>\n",
              "      <td>240</td>\n",
              "      <td>4</td>\n",
              "      <td>12</td>\n",
              "      <td>245</td>\n",
              "      <td>4</td>\n",
              "      <td>12</td>\n",
              "      <td>0</td>\n",
              "      <td>0</td>\n",
              "      <td>0</td>\n",
              "      <td>0</td>\n",
              "      <td>0</td>\n",
              "      <td>154</td>\n",
              "      <td>157</td>\n",
              "      <td>114</td>\n",
              "      <td>119</td>\n",
              "      <td>117</td>\n",
              "    </tr>\n",
              "    <tr>\n",
              "      <th>51417</th>\n",
              "      <td>3282153758</td>\n",
              "      <td>1501271424076</td>\n",
              "      <td>197</td>\n",
              "      <td>9</td>\n",
              "      <td>2</td>\n",
              "      <td>0</td>\n",
              "      <td>0</td>\n",
              "      <td>0</td>\n",
              "      <td>0</td>\n",
              "      <td>0</td>\n",
              "      <td>0</td>\n",
              "      <td>90</td>\n",
              "      <td>6</td>\n",
              "      <td>4</td>\n",
              "      <td>92</td>\n",
              "      <td>4</td>\n",
              "      <td>12</td>\n",
              "      <td>12</td>\n",
              "      <td>3</td>\n",
              "      <td>4</td>\n",
              "      <td>98</td>\n",
              "      <td>11</td>\n",
              "      <td>4</td>\n",
              "      <td>18</td>\n",
              "      <td>7</td>\n",
              "      <td>4</td>\n",
              "      <td>0</td>\n",
              "      <td>0</td>\n",
              "      <td>0</td>\n",
              "      <td>0</td>\n",
              "      <td>0</td>\n",
              "      <td>122</td>\n",
              "      <td>31</td>\n",
              "      <td>40</td>\n",
              "      <td>154</td>\n",
              "      <td>38</td>\n",
              "      <td>57</td>\n",
              "      <td>11</td>\n",
              "      <td>4</td>\n",
              "      <td>223</td>\n",
              "      <td>4</td>\n",
              "      <td>14</td>\n",
              "      <td>67</td>\n",
              "      <td>4</td>\n",
              "      <td>7</td>\n",
              "      <td>23</td>\n",
              "      <td>12</td>\n",
              "      <td>4</td>\n",
              "      <td>61</td>\n",
              "      <td>6</td>\n",
              "      <td>4</td>\n",
              "      <td>0</td>\n",
              "      <td>0</td>\n",
              "      <td>0</td>\n",
              "      <td>0</td>\n",
              "      <td>0</td>\n",
              "      <td>119</td>\n",
              "      <td>80</td>\n",
              "      <td>117</td>\n",
              "      <td>498</td>\n",
              "      <td>157</td>\n",
              "    </tr>\n",
              "    <tr>\n",
              "      <th>51422</th>\n",
              "      <td>3329224905</td>\n",
              "      <td>1504472619782</td>\n",
              "      <td>192</td>\n",
              "      <td>9</td>\n",
              "      <td>2</td>\n",
              "      <td>0</td>\n",
              "      <td>0</td>\n",
              "      <td>0</td>\n",
              "      <td>0</td>\n",
              "      <td>0</td>\n",
              "      <td>0</td>\n",
              "      <td>121</td>\n",
              "      <td>4</td>\n",
              "      <td>11</td>\n",
              "      <td>18</td>\n",
              "      <td>4</td>\n",
              "      <td>7</td>\n",
              "      <td>54</td>\n",
              "      <td>12</td>\n",
              "      <td>4</td>\n",
              "      <td>43</td>\n",
              "      <td>4</td>\n",
              "      <td>14</td>\n",
              "      <td>38</td>\n",
              "      <td>4</td>\n",
              "      <td>12</td>\n",
              "      <td>0</td>\n",
              "      <td>0</td>\n",
              "      <td>0</td>\n",
              "      <td>0</td>\n",
              "      <td>0</td>\n",
              "      <td>45</td>\n",
              "      <td>53</td>\n",
              "      <td>40</td>\n",
              "      <td>24</td>\n",
              "      <td>141</td>\n",
              "      <td>16</td>\n",
              "      <td>4</td>\n",
              "      <td>3</td>\n",
              "      <td>99</td>\n",
              "      <td>4</td>\n",
              "      <td>14</td>\n",
              "      <td>240</td>\n",
              "      <td>12</td>\n",
              "      <td>4</td>\n",
              "      <td>29</td>\n",
              "      <td>7</td>\n",
              "      <td>4</td>\n",
              "      <td>5</td>\n",
              "      <td>11</td>\n",
              "      <td>4</td>\n",
              "      <td>0</td>\n",
              "      <td>0</td>\n",
              "      <td>0</td>\n",
              "      <td>0</td>\n",
              "      <td>0</td>\n",
              "      <td>6</td>\n",
              "      <td>157</td>\n",
              "      <td>31</td>\n",
              "      <td>19</td>\n",
              "      <td>64</td>\n",
              "    </tr>\n",
              "  </tbody>\n",
              "</table>\n",
              "<p>1195 rows × 61 columns</p>\n",
              "</div>"
            ],
            "text/plain": [
              "           gameId   creationTime  gameDuration  ...  t2_ban3  t2_ban4  t2_ban5\n",
              "64     3258796399  1499719924936           197  ...      114      154        8\n",
              "82     3330152268  1504559761914           193  ...       86      157       31\n",
              "119    3246799766  1498919798084           192  ...      105      117       29\n",
              "149    3284885837  1501465757099           208  ...       11      119      150\n",
              "276    3303374774  1502719079210           201  ...      238       31      117\n",
              "...           ...            ...           ...  ...      ...      ...      ...\n",
              "51271  3324791171  1504190733403           191  ...       24      245      267\n",
              "51359  3323948503  1504111359658           202  ...       25      238      119\n",
              "51412  3252578270  1499293935789           194  ...      114      119      117\n",
              "51417  3282153758  1501271424076           197  ...      117      498      157\n",
              "51422  3329224905  1504472619782           192  ...       31       19       64\n",
              "\n",
              "[1195 rows x 61 columns]"
            ]
          },
          "metadata": {
            "tags": []
          },
          "execution_count": 269
        }
      ]
    },
    {
      "cell_type": "code",
      "metadata": {
        "id": "o5boO6jn43Pa",
        "colab": {
          "base_uri": "https://localhost:8080/",
          "height": 404
        },
        "outputId": "dc41bb4f-7fe5-4d8c-a72b-e67032ba6cbb"
      },
      "source": [
        "\"\"\" Affichons l'histogramme de durée des parties qui ont remakes \"\"\"\n",
        "Tab_Time_Remakes = remakes[Time].apply(pd.value_counts) # on compte le nombre de parties d'une durée x\n",
        "Tab_Time_Remakes.columns = ['Nombres de parties']  # on renomme la colonne pour plus de clarté\n",
        "Tps_parties_Remakes = list(Tab_Time_Remakes.index)\n",
        "\n",
        "\"\"\" On construit l'histogramme de la durée des parties qui ont remake \"\"\"\n",
        "fig=plt.figure(figsize=(12,6))\n",
        "plt.title('Histogramme de la durée des parties qui ont remake',color='black');\n",
        "plt.bar(Tps_parties_Remakes,Tab_Time_Remakes['Nombres de parties']);\n",
        "\n",
        "plt.yticks(color='black')\n",
        "plt.xticks(color='black')\n",
        "plt.ylabel('nombre de parties', color='black');\n",
        "plt.xlabel('durée',color='black');"
      ],
      "execution_count": null,
      "outputs": [
        {
          "output_type": "display_data",
          "data": {
            "image/png": "[encoded data removed]",
            "text/plain": [
              "<Figure size 864x432 with 1 Axes>"
            ]
          },
          "metadata": {
            "tags": [],
            "needs_background": "light"
          }
        }
      ]
    },
    {
      "cell_type": "code",
      "metadata": {
        "id": "H-S5r2PLHydw",
        "colab": {
          "base_uri": "https://localhost:8080/",
          "height": 112
        },
        "outputId": "8972ca82-e054-4463-e32d-aacdc79494d2"
      },
      "source": [
        "Victory_Info_remakes = remakes[Victory_Col_Df].apply(pd.value_counts)\n",
        "\n",
        "Victory_Info_remakes"
      ],
      "execution_count": null,
      "outputs": [
        {
          "output_type": "execute_result",
          "data": {
            "text/html": [
              "<div>\n",
              "<style scoped>\n",
              "    .dataframe tbody tr th:only-of-type {\n",
              "        vertical-align: middle;\n",
              "    }\n",
              "\n",
              "    .dataframe tbody tr th {\n",
              "        vertical-align: top;\n",
              "    }\n",
              "\n",
              "    .dataframe thead th {\n",
              "        text-align: right;\n",
              "    }\n",
              "</style>\n",
              "<table border=\"1\" class=\"dataframe\">\n",
              "  <thead>\n",
              "    <tr style=\"text-align: right;\">\n",
              "      <th></th>\n",
              "      <th>winner</th>\n",
              "    </tr>\n",
              "  </thead>\n",
              "  <tbody>\n",
              "    <tr>\n",
              "      <th>1</th>\n",
              "      <td>615</td>\n",
              "    </tr>\n",
              "    <tr>\n",
              "      <th>2</th>\n",
              "      <td>580</td>\n",
              "    </tr>\n",
              "  </tbody>\n",
              "</table>\n",
              "</div>"
            ],
            "text/plain": [
              "   winner\n",
              "1     615\n",
              "2     580"
            ]
          },
          "metadata": {
            "tags": []
          },
          "execution_count": 271
        }
      ]
    },
    {
      "cell_type": "markdown",
      "metadata": {
        "id": "CP0tLXpdINmn"
      },
      "source": [
        "Voici le vrai nombre de victoires de l'équipe 1 et de l'équipe 2 :"
      ]
    },
    {
      "cell_type": "code",
      "metadata": {
        "id": "0rCWdMiPIEle",
        "colab": {
          "base_uri": "https://localhost:8080/",
          "height": 112
        },
        "outputId": "1c3fdd38-90c6-4f94-a767-ef094815b2ba"
      },
      "source": [
        "Real_Victory_Info = Victory_Info - Victory_Info_remakes\n",
        "Real_Victory_Info"
      ],
      "execution_count": null,
      "outputs": [
        {
          "output_type": "execute_result",
          "data": {
            "text/html": [
              "<div>\n",
              "<style scoped>\n",
              "    .dataframe tbody tr th:only-of-type {\n",
              "        vertical-align: middle;\n",
              "    }\n",
              "\n",
              "    .dataframe tbody tr th {\n",
              "        vertical-align: top;\n",
              "    }\n",
              "\n",
              "    .dataframe thead th {\n",
              "        text-align: right;\n",
              "    }\n",
              "</style>\n",
              "<table border=\"1\" class=\"dataframe\">\n",
              "  <thead>\n",
              "    <tr style=\"text-align: right;\">\n",
              "      <th></th>\n",
              "      <th>winner</th>\n",
              "    </tr>\n",
              "  </thead>\n",
              "  <tbody>\n",
              "    <tr>\n",
              "      <th>1</th>\n",
              "      <td>25462</td>\n",
              "    </tr>\n",
              "    <tr>\n",
              "      <th>2</th>\n",
              "      <td>24833</td>\n",
              "    </tr>\n",
              "  </tbody>\n",
              "</table>\n",
              "</div>"
            ],
            "text/plain": [
              "   winner\n",
              "1   25462\n",
              "2   24833"
            ]
          },
          "metadata": {
            "tags": []
          },
          "execution_count": 272
        }
      ]
    },
    {
      "cell_type": "code",
      "metadata": {
        "id": "swXQO7aBIX0_",
        "colab": {
          "base_uri": "https://localhost:8080/",
          "height": 86
        },
        "outputId": "245953c5-d59e-48c4-f8b0-ee9f3c50d5a0"
      },
      "source": [
        "total_games = np.sum(Real_Victory_Info)\n",
        "print(\"Pourcentage de victoire équipe 1 : \",(Real_Victory_Info.loc[1]['winner']/total_games)*100)\n",
        "print(\"Pourcentage de victoire équipe 2 : \",(Real_Victory_Info.loc[2]['winner']/total_games)*100)"
      ],
      "execution_count": null,
      "outputs": [
        {
          "output_type": "stream",
          "text": [
            "Pourcentage de victoire équipe 1 :  winner    50.625311\n",
            "dtype: float64\n",
            "Pourcentage de victoire équipe 2 :  winner    49.374689\n",
            "dtype: float64\n"
          ],
          "name": "stdout"
        }
      ]
    },
    {
      "cell_type": "markdown",
      "metadata": {
        "id": "eBoloxHKCb5Y"
      },
      "source": [
        "Ce résultat montre un avantage minime pour l'équipe 1. En effet, la probabilité empirique obtenue est de 50.63%, si on lui adjoint l'intervalle de confiance classique à 95%, dont la demi-largeur est égale à $\\frac{\\sigma(X) \\times 1.96}{\\sqrt{50000}} \\simeq 4.5 \\times 10^{-3}$, soit en pourcentage une probabilité de gagner pour l'équipe 1 comprise entre $50.63 - 0.45 = 50.18 $ et $50.63 + 0.45 = 51.8$."
      ]
    },
    {
      "cell_type": "markdown",
      "metadata": {
        "id": "EJiQUgnNIWdL"
      },
      "source": [
        "Si on compare avec l'avantage du trait aux échecs (c'est à dire, l'avantage des \"Blancs\") qui est considéré entre 52% et 56%, l'avantage d'être l'équipe 1 (équipe *Blueside*) à League of Legends est ici bien inférieur. \n",
        "\n",
        "Ce résultat est fluctuant car les développeurs réactualisent régulièrement les qualités et défauts des champions. Il y a certaines périodes où l'équipe 2 (*Redside*) est plus victorieuse que l'équipe 1 (*Blueside*). C'est le cas du tout dernier patch 10.12 où sur plus de 6 millions de parties étudiées, on a observé un taux de victoire de 50.47% pour l'équipe 2 (*Redside*) et 49.53% pour l'équipe 1 (*Blueside*). (voici le lien pour consulter cette information : https://www.leagueofgraphs.com/fr/infographics/patch-10-12-infographics )"
      ]
    },
    {
      "cell_type": "markdown",
      "metadata": {
        "id": "Rzb4WcxO0X73"
      },
      "source": [
        "# Les Sortilèges d'Invocateur"
      ]
    },
    {
      "cell_type": "markdown",
      "metadata": {
        "id": "5YsXYsdfp2Gg"
      },
      "source": [
        "![Texte alternatif…](https://i.imgur.com/Te6Rx2P.png)"
      ]
    },
    {
      "cell_type": "markdown",
      "metadata": {
        "id": "_XYsEAHk0bTS"
      },
      "source": [
        "Dans un premier temps, expliquons ce que sont les ***sortilèges d'invocateurs*** (*summoner's spells* [EN] ):\n",
        "\n",
        "Chaque invocateur choisit un champion pour la partie qu'il va jouer. Les champions ont des caractérisques et des compétences uniques. Ils disposent tous d'un sort dit \"passif\" et de quatre sorts dit \"actifs\". Les quatre sorts actifs doivent être débloqués par le joueur au cours de la partie à force d'accumuler des niveaux d'expérience. Le sort passif au contraire est déjà débloqué lorsque le joueur commence la partie.\n",
        "En plus de toutes ces compétences, chaque joueur (invocateur) choisit deux sortilèges d'invocateur. Ces sortilèges sont choisis parmi une liste commune à tous les joueurs, peu importe le champion que vous allez jouer. \n",
        "\n",
        "Affichons la liste des sortilèges d'invocateur utilisables dans les parties que nous étudions :"
      ]
    },
    {
      "cell_type": "code",
      "metadata": {
        "id": "uwJG0dxJ3Pma",
        "colab": {
          "base_uri": "https://localhost:8080/",
          "height": 363
        },
        "outputId": "550b402f-2f43-445b-93b4-7cca8d07efd4"
      },
      "source": [
        "\"\"\" On récupère la dataframe correspondante aux sortilèges d'invocateurs. \"\"\"\n",
        "Spell_Info = pd.read_json((sum_spell_info['data']).to_json(),orient='index')\n",
        "\n",
        "\"\"\" On garde seulement les sortilèges d'invocateurs dont l'id est inférieure \n",
        "    à 30. En effet, les sorts d'invocateurs dont l'id est supérieure à 30 ne \n",
        "    sont pas utilisables dans les parties étudiées.                         \"\"\"\n",
        "Spell_Info = Spell_Info.loc[Spell_Info[\"id\"]<30]\n",
        "\n",
        "\"\"\" On affiche les informations qui nous intéressent. \"\"\"\n",
        "Spell_Info.loc[:,['name','description']]"
      ],
      "execution_count": null,
      "outputs": [
        {
          "output_type": "execute_result",
          "data": {
            "text/html": [
              "<div>\n",
              "<style scoped>\n",
              "    .dataframe tbody tr th:only-of-type {\n",
              "        vertical-align: middle;\n",
              "    }\n",
              "\n",
              "    .dataframe tbody tr th {\n",
              "        vertical-align: top;\n",
              "    }\n",
              "\n",
              "    .dataframe thead th {\n",
              "        text-align: right;\n",
              "    }\n",
              "</style>\n",
              "<table border=\"1\" class=\"dataframe\">\n",
              "  <thead>\n",
              "    <tr style=\"text-align: right;\">\n",
              "      <th></th>\n",
              "      <th>name</th>\n",
              "      <th>description</th>\n",
              "    </tr>\n",
              "  </thead>\n",
              "  <tbody>\n",
              "    <tr>\n",
              "      <th>1</th>\n",
              "      <td>Cleanse</td>\n",
              "      <td>Removes all disables (excluding suppression an...</td>\n",
              "    </tr>\n",
              "    <tr>\n",
              "      <th>11</th>\n",
              "      <td>Smite</td>\n",
              "      <td>Deals 390-1000 true damage (depending on champ...</td>\n",
              "    </tr>\n",
              "    <tr>\n",
              "      <th>12</th>\n",
              "      <td>Teleport</td>\n",
              "      <td>After channeling for 4.5 seconds, teleports yo...</td>\n",
              "    </tr>\n",
              "    <tr>\n",
              "      <th>13</th>\n",
              "      <td>Clarity</td>\n",
              "      <td>Restores 50% of your champion's maximum Mana. ...</td>\n",
              "    </tr>\n",
              "    <tr>\n",
              "      <th>14</th>\n",
              "      <td>Ignite</td>\n",
              "      <td>Ignites target enemy champion, dealing 70-410 ...</td>\n",
              "    </tr>\n",
              "    <tr>\n",
              "      <th>21</th>\n",
              "      <td>Barrier</td>\n",
              "      <td>Shields your champion from 115-455 damage (dep...</td>\n",
              "    </tr>\n",
              "    <tr>\n",
              "      <th>3</th>\n",
              "      <td>Exhaust</td>\n",
              "      <td>Exhausts target enemy champion, reducing their...</td>\n",
              "    </tr>\n",
              "    <tr>\n",
              "      <th>4</th>\n",
              "      <td>Flash</td>\n",
              "      <td>Teleports your champion a short distance towar...</td>\n",
              "    </tr>\n",
              "    <tr>\n",
              "      <th>6</th>\n",
              "      <td>Ghost</td>\n",
              "      <td>Your champion gains increased Movement Speed a...</td>\n",
              "    </tr>\n",
              "    <tr>\n",
              "      <th>7</th>\n",
              "      <td>Heal</td>\n",
              "      <td>Restores 90-345 Health (depending on champion ...</td>\n",
              "    </tr>\n",
              "  </tbody>\n",
              "</table>\n",
              "</div>"
            ],
            "text/plain": [
              "        name                                        description\n",
              "1    Cleanse  Removes all disables (excluding suppression an...\n",
              "11     Smite  Deals 390-1000 true damage (depending on champ...\n",
              "12  Teleport  After channeling for 4.5 seconds, teleports yo...\n",
              "13   Clarity  Restores 50% of your champion's maximum Mana. ...\n",
              "14    Ignite  Ignites target enemy champion, dealing 70-410 ...\n",
              "21   Barrier  Shields your champion from 115-455 damage (dep...\n",
              "3    Exhaust  Exhausts target enemy champion, reducing their...\n",
              "4      Flash  Teleports your champion a short distance towar...\n",
              "6      Ghost  Your champion gains increased Movement Speed a...\n",
              "7       Heal  Restores 90-345 Health (depending on champion ..."
            ]
          },
          "metadata": {
            "tags": []
          },
          "execution_count": 274
        }
      ]
    },
    {
      "cell_type": "markdown",
      "metadata": {
        "id": "fffoRNu53Jy7"
      },
      "source": [
        "Maintenant que nous disposons de la liste des sortilèges d'invocateurs, nous allons compter le nombre d'occurences de chaque sortilège appartenant à cette liste :"
      ]
    },
    {
      "cell_type": "code",
      "metadata": {
        "id": "f7PjyzOlzwYg",
        "colab": {
          "base_uri": "https://localhost:8080/",
          "height": 352
        },
        "outputId": "3a01b0c1-0de1-4ebf-eb4f-4b9ced628ef3"
      },
      "source": [
        "\"\"\" On récupère les 20 colonnes de notre dataframe indiquant les sortilèges\n",
        "    d'invocateurs choisient par les joueurs. \"\"\"\n",
        "Spell_Col_Df = ['t1_champ1_sum1','t1_champ1_sum2','t1_champ2_sum1','t1_champ2_sum2','t1_champ3_sum1','t1_champ3_sum2','t1_champ4_sum1',\n",
        "                't1_champ4_sum2','t1_champ5_sum1','t1_champ5_sum2','t2_champ1_sum1','t2_champ1_sum2','t2_champ2_sum1','t2_champ2_sum2',\n",
        "                't2_champ3_sum1','t2_champ3_sum2','t2_champ4_sum1','t2_champ4_sum2','t2_champ5_sum1','t2_champ5_sum2']\n",
        "\n",
        "\"\"\" On créé un tableau comptant le nombre de fois où chaque sortilège est utilisé par chaque invocateur dans toutes les parties. \"\"\"\n",
        "Tab_Spell_Total = df[Spell_Col_Df].apply(pd.value_counts)\n",
        "\n",
        "\"\"\" On ajoute une colonne comptant le nombre total de fois où chaque sortilège à été choisi. \"\"\"\n",
        "Tab_Spell_Total['total'] = Tab_Spell_Total[Spell_Col_Df].sum(axis=1)\n",
        "\n",
        "\"\"\" Le nom de chaque ligne est l'Id de chaque sortilèges d'invocateur. Ajoutons une colonne avec le nom de chaque sorts. \"\"\"\n",
        "Tab_Spell_Total['name'] = Spell_Info['name']\n",
        "Col_Names = Tab_Spell_Total.columns.tolist()\n",
        "Col_Names = Col_Names[-1:] + Col_Names[:-1]\n",
        "Tab_Spell_Total = Tab_Spell_Total[Col_Names]\n",
        "\n",
        "\"\"\" On affiche le résultat final. \"\"\"\n",
        "Tab_Spell_Total"
      ],
      "execution_count": null,
      "outputs": [
        {
          "output_type": "execute_result",
          "data": {
            "text/html": [
              "<div>\n",
              "<style scoped>\n",
              "    .dataframe tbody tr th:only-of-type {\n",
              "        vertical-align: middle;\n",
              "    }\n",
              "\n",
              "    .dataframe tbody tr th {\n",
              "        vertical-align: top;\n",
              "    }\n",
              "\n",
              "    .dataframe thead th {\n",
              "        text-align: right;\n",
              "    }\n",
              "</style>\n",
              "<table border=\"1\" class=\"dataframe\">\n",
              "  <thead>\n",
              "    <tr style=\"text-align: right;\">\n",
              "      <th></th>\n",
              "      <th>name</th>\n",
              "      <th>t1_champ1_sum1</th>\n",
              "      <th>t1_champ1_sum2</th>\n",
              "      <th>t1_champ2_sum1</th>\n",
              "      <th>t1_champ2_sum2</th>\n",
              "      <th>t1_champ3_sum1</th>\n",
              "      <th>t1_champ3_sum2</th>\n",
              "      <th>t1_champ4_sum1</th>\n",
              "      <th>t1_champ4_sum2</th>\n",
              "      <th>t1_champ5_sum1</th>\n",
              "      <th>t1_champ5_sum2</th>\n",
              "      <th>t2_champ1_sum1</th>\n",
              "      <th>t2_champ1_sum2</th>\n",
              "      <th>t2_champ2_sum1</th>\n",
              "      <th>t2_champ2_sum2</th>\n",
              "      <th>t2_champ3_sum1</th>\n",
              "      <th>t2_champ3_sum2</th>\n",
              "      <th>t2_champ4_sum1</th>\n",
              "      <th>t2_champ4_sum2</th>\n",
              "      <th>t2_champ5_sum1</th>\n",
              "      <th>t2_champ5_sum2</th>\n",
              "      <th>total</th>\n",
              "    </tr>\n",
              "  </thead>\n",
              "  <tbody>\n",
              "    <tr>\n",
              "      <th>1</th>\n",
              "      <td>Cleanse</td>\n",
              "      <td>160</td>\n",
              "      <td>199</td>\n",
              "      <td>151</td>\n",
              "      <td>153</td>\n",
              "      <td>135</td>\n",
              "      <td>168</td>\n",
              "      <td>136</td>\n",
              "      <td>134</td>\n",
              "      <td>125</td>\n",
              "      <td>182</td>\n",
              "      <td>147</td>\n",
              "      <td>190</td>\n",
              "      <td>129</td>\n",
              "      <td>159</td>\n",
              "      <td>136</td>\n",
              "      <td>182</td>\n",
              "      <td>154</td>\n",
              "      <td>181</td>\n",
              "      <td>149</td>\n",
              "      <td>184</td>\n",
              "      <td>3154</td>\n",
              "    </tr>\n",
              "    <tr>\n",
              "      <th>3</th>\n",
              "      <td>Exhaust</td>\n",
              "      <td>3640</td>\n",
              "      <td>4394</td>\n",
              "      <td>3904</td>\n",
              "      <td>4614</td>\n",
              "      <td>3928</td>\n",
              "      <td>4738</td>\n",
              "      <td>3992</td>\n",
              "      <td>4723</td>\n",
              "      <td>3763</td>\n",
              "      <td>4557</td>\n",
              "      <td>3756</td>\n",
              "      <td>4459</td>\n",
              "      <td>3912</td>\n",
              "      <td>4596</td>\n",
              "      <td>3928</td>\n",
              "      <td>4704</td>\n",
              "      <td>3855</td>\n",
              "      <td>4717</td>\n",
              "      <td>3885</td>\n",
              "      <td>4511</td>\n",
              "      <td>84576</td>\n",
              "    </tr>\n",
              "    <tr>\n",
              "      <th>4</th>\n",
              "      <td>Flash</td>\n",
              "      <td>28164</td>\n",
              "      <td>22216</td>\n",
              "      <td>27998</td>\n",
              "      <td>22490</td>\n",
              "      <td>28019</td>\n",
              "      <td>22397</td>\n",
              "      <td>27988</td>\n",
              "      <td>22393</td>\n",
              "      <td>27966</td>\n",
              "      <td>22377</td>\n",
              "      <td>28182</td>\n",
              "      <td>22204</td>\n",
              "      <td>28037</td>\n",
              "      <td>22427</td>\n",
              "      <td>28170</td>\n",
              "      <td>22255</td>\n",
              "      <td>28089</td>\n",
              "      <td>22322</td>\n",
              "      <td>27838</td>\n",
              "      <td>22589</td>\n",
              "      <td>504121</td>\n",
              "    </tr>\n",
              "    <tr>\n",
              "      <th>6</th>\n",
              "      <td>Ghost</td>\n",
              "      <td>744</td>\n",
              "      <td>798</td>\n",
              "      <td>678</td>\n",
              "      <td>706</td>\n",
              "      <td>647</td>\n",
              "      <td>750</td>\n",
              "      <td>664</td>\n",
              "      <td>689</td>\n",
              "      <td>720</td>\n",
              "      <td>800</td>\n",
              "      <td>740</td>\n",
              "      <td>761</td>\n",
              "      <td>715</td>\n",
              "      <td>706</td>\n",
              "      <td>690</td>\n",
              "      <td>712</td>\n",
              "      <td>672</td>\n",
              "      <td>737</td>\n",
              "      <td>665</td>\n",
              "      <td>711</td>\n",
              "      <td>14305</td>\n",
              "    </tr>\n",
              "    <tr>\n",
              "      <th>7</th>\n",
              "      <td>Heal</td>\n",
              "      <td>4581</td>\n",
              "      <td>5758</td>\n",
              "      <td>4922</td>\n",
              "      <td>6309</td>\n",
              "      <td>4902</td>\n",
              "      <td>6180</td>\n",
              "      <td>4971</td>\n",
              "      <td>6136</td>\n",
              "      <td>4500</td>\n",
              "      <td>5826</td>\n",
              "      <td>4477</td>\n",
              "      <td>5934</td>\n",
              "      <td>4854</td>\n",
              "      <td>6197</td>\n",
              "      <td>4834</td>\n",
              "      <td>6173</td>\n",
              "      <td>4896</td>\n",
              "      <td>6276</td>\n",
              "      <td>4571</td>\n",
              "      <td>5746</td>\n",
              "      <td>108043</td>\n",
              "    </tr>\n",
              "    <tr>\n",
              "      <th>11</th>\n",
              "      <td>Smite</td>\n",
              "      <td>4711</td>\n",
              "      <td>5635</td>\n",
              "      <td>4780</td>\n",
              "      <td>5520</td>\n",
              "      <td>4789</td>\n",
              "      <td>5511</td>\n",
              "      <td>4681</td>\n",
              "      <td>5579</td>\n",
              "      <td>4768</td>\n",
              "      <td>5550</td>\n",
              "      <td>4591</td>\n",
              "      <td>5656</td>\n",
              "      <td>4690</td>\n",
              "      <td>5558</td>\n",
              "      <td>4621</td>\n",
              "      <td>5594</td>\n",
              "      <td>4894</td>\n",
              "      <td>5594</td>\n",
              "      <td>4777</td>\n",
              "      <td>5563</td>\n",
              "      <td>103062</td>\n",
              "    </tr>\n",
              "    <tr>\n",
              "      <th>12</th>\n",
              "      <td>Teleport</td>\n",
              "      <td>4968</td>\n",
              "      <td>6395</td>\n",
              "      <td>4576</td>\n",
              "      <td>5954</td>\n",
              "      <td>4664</td>\n",
              "      <td>6000</td>\n",
              "      <td>4651</td>\n",
              "      <td>6020</td>\n",
              "      <td>5083</td>\n",
              "      <td>6291</td>\n",
              "      <td>4979</td>\n",
              "      <td>6358</td>\n",
              "      <td>4693</td>\n",
              "      <td>6085</td>\n",
              "      <td>4736</td>\n",
              "      <td>6067</td>\n",
              "      <td>4581</td>\n",
              "      <td>5926</td>\n",
              "      <td>5024</td>\n",
              "      <td>6350</td>\n",
              "      <td>109401</td>\n",
              "    </tr>\n",
              "    <tr>\n",
              "      <th>14</th>\n",
              "      <td>Ignite</td>\n",
              "      <td>3820</td>\n",
              "      <td>5205</td>\n",
              "      <td>3832</td>\n",
              "      <td>4930</td>\n",
              "      <td>3786</td>\n",
              "      <td>4894</td>\n",
              "      <td>3777</td>\n",
              "      <td>4982</td>\n",
              "      <td>3917</td>\n",
              "      <td>5093</td>\n",
              "      <td>3937</td>\n",
              "      <td>5047</td>\n",
              "      <td>3823</td>\n",
              "      <td>4875</td>\n",
              "      <td>3758</td>\n",
              "      <td>4980</td>\n",
              "      <td>3715</td>\n",
              "      <td>4899</td>\n",
              "      <td>3956</td>\n",
              "      <td>5032</td>\n",
              "      <td>88258</td>\n",
              "    </tr>\n",
              "    <tr>\n",
              "      <th>21</th>\n",
              "      <td>Barrier</td>\n",
              "      <td>702</td>\n",
              "      <td>890</td>\n",
              "      <td>649</td>\n",
              "      <td>814</td>\n",
              "      <td>620</td>\n",
              "      <td>852</td>\n",
              "      <td>630</td>\n",
              "      <td>834</td>\n",
              "      <td>648</td>\n",
              "      <td>814</td>\n",
              "      <td>681</td>\n",
              "      <td>881</td>\n",
              "      <td>637</td>\n",
              "      <td>887</td>\n",
              "      <td>617</td>\n",
              "      <td>823</td>\n",
              "      <td>634</td>\n",
              "      <td>838</td>\n",
              "      <td>625</td>\n",
              "      <td>804</td>\n",
              "      <td>14880</td>\n",
              "    </tr>\n",
              "  </tbody>\n",
              "</table>\n",
              "</div>"
            ],
            "text/plain": [
              "        name  t1_champ1_sum1  ...  t2_champ5_sum2   total\n",
              "1    Cleanse             160  ...             184    3154\n",
              "3    Exhaust            3640  ...            4511   84576\n",
              "4      Flash           28164  ...           22589  504121\n",
              "6      Ghost             744  ...             711   14305\n",
              "7       Heal            4581  ...            5746  108043\n",
              "11     Smite            4711  ...            5563  103062\n",
              "12  Teleport            4968  ...            6350  109401\n",
              "14    Ignite            3820  ...            5032   88258\n",
              "21   Barrier             702  ...             804   14880\n",
              "\n",
              "[9 rows x 22 columns]"
            ]
          },
          "metadata": {
            "tags": []
          },
          "execution_count": 275
        }
      ]
    },
    {
      "cell_type": "markdown",
      "metadata": {
        "id": "-TkaJvTTEAff"
      },
      "source": [
        "Affichons maintenant le nombre d'occurences de chaque sortilèges d'invocateur sous forme d'histogramme :"
      ]
    },
    {
      "cell_type": "code",
      "metadata": {
        "id": "XXGuAzORD_V5",
        "colab": {
          "base_uri": "https://localhost:8080/",
          "height": 374
        },
        "outputId": "3f395c46-beb4-49cf-c8f9-88c22f657e84"
      },
      "source": [
        "fig=plt.figure(figsize=(9,6))\n",
        "plt.bar(Tab_Spell_Total['name'],Tab_Spell_Total['total'],color=['cyan','goldenrod','yellow','dodgerblue','lime','orange','purple','orangered','gold'])\n",
        "plt.yticks(color='black')\n",
        "plt.xticks(color='black')\n",
        "plt.ylabel('occurences des sorts', color='black');"
      ],
      "execution_count": null,
      "outputs": [
        {
          "output_type": "display_data",
          "data": {
            "image/png": "[encoded data removed]",
            "text/plain": [
              "<Figure size 648x432 with 1 Axes>"
            ]
          },
          "metadata": {
            "tags": [],
            "needs_background": "light"
          }
        }
      ]
    },
    {
      "cell_type": "code",
      "metadata": {
        "id": "vct2JPya3-q8",
        "colab": {
          "base_uri": "https://localhost:8080/",
          "height": 538
        },
        "outputId": "a31f3ae3-92e0-4502-810f-efe2e2799e24"
      },
      "source": [
        "print(\"nombres de joueurs totals : \")\n",
        "print(51490*10,\"\\n\")\n",
        "\n",
        "print(\"pourcentage d'utilisation du Saut éclair (Flash [EN]) : \")\n",
        "print((504121/514900)*100,\"\\n\")\n",
        "\n",
        "print(\"pourcentage d'utilisation du Châtiment (Smite [EN]) : \")\n",
        "print((103062/514900)*100,\"\\n\")\n",
        "\n",
        "print(\"pourcentage d'utilisation du Soin (Heal [EN]) : \")\n",
        "print((108043/514900)*100,\"\\n\")\n",
        "\n",
        "print(\"pourcentage d'utilisation de la Téléportation (Teleport [EN]) : \")\n",
        "print((109401/514900)*100,\"\\n\")\n",
        "\n",
        "print(\"pourcentage d'utilisation de l'Embrasement (Ignite [EN]) : \")\n",
        "print((108043/514900)*100,\"\\n\")\n",
        "\n",
        "print(\"pourcentage d'utilisation de la Fatigue (Exhaust [EN]) : \")\n",
        "print((84576/514900)*100,\"\\n\")\n",
        "\n",
        "print(\"pourcentage d'utilisation de la Barrière (Barrier [EN]) : \")\n",
        "print((14880/514900)*100,\"\\n\")\n",
        "\n",
        "print(\"pourcentage d'utilisation du Fantôme (Ghost [EN]) : \")\n",
        "print((14305/514900)*100,\"\\n\")\n",
        "\n",
        "print(\"pourcentage d'utilisation de la Purge (Cleanse [EN]) : \")\n",
        "print((3154/514900)*100,\"\\n\")"
      ],
      "execution_count": null,
      "outputs": [
        {
          "output_type": "stream",
          "text": [
            "nombres de joueurs totals : \n",
            "514900 \n",
            "\n",
            "pourcentage d'utilisation du Saut éclair (Flash [EN]) : \n",
            "97.90658380268013 \n",
            "\n",
            "pourcentage d'utilisation du Châtiment (Smite [EN]) : \n",
            "20.015925422412117 \n",
            "\n",
            "pourcentage d'utilisation du Soin (Heal [EN]) : \n",
            "20.98329772771412 \n",
            "\n",
            "pourcentage d'utilisation de la Téléportation (Teleport [EN]) : \n",
            "21.247038259856282 \n",
            "\n",
            "pourcentage d'utilisation de l'Embrasement (Ignite [EN]) : \n",
            "20.98329772771412 \n",
            "\n",
            "pourcentage d'utilisation de la Fatigue (Exhaust [EN]) : \n",
            "16.42571373082152 \n",
            "\n",
            "pourcentage d'utilisation de la Barrière (Barrier [EN]) : \n",
            "2.8898815303942516 \n",
            "\n",
            "pourcentage d'utilisation du Fantôme (Ghost [EN]) : \n",
            "2.778209361040979 \n",
            "\n",
            "pourcentage d'utilisation de la Purge (Cleanse [EN]) : \n",
            "0.6125461254612546 \n",
            "\n"
          ],
          "name": "stdout"
        }
      ]
    },
    {
      "cell_type": "markdown",
      "metadata": {
        "id": "KtXBEFIC3mdn"
      },
      "source": [
        "**Analyse :**\n",
        "\n",
        "Le ***Flash*** (Saut éclair [FR]) est utilisé par presque 98% des joueurs à chaque partie. On peut très clairement en déduire que ce sortilège est considéré comme indispensable de la part de tous les joueurs.\n",
        "\n",
        "Ce résultat n'est pas très étonnant lorsque l'on a déjà joué au jeu. En effet, le *Flash* offre un pouvoir extrêmement utile dans beaucoup de situations. (Traverser des murs, fuir un adversaire, poursuivre un adversaire, se repositionner en plein combat, ...)\n",
        "\n",
        "Le ***Smite*** (Châtiment [FR]) est utilisé par 20.02 % des joueurs à chaque partie. \n",
        "\n",
        "Ce résultat est tout à fait logique. Le *Smite* est utile aux joueurs évoluant dans la jungle (ou forêt) de la carte. Comme chaque équipe est composée de 5 joueurs et que l'un d'eux occupe le poste de \"Jungler\", il est normal d'obtenir un résultat de 20%.\n",
        "\n",
        "Même constats pour le ***Heal*** (Soin [FR]), le ***Teleport*** (Téléportation [FR]) ou l'***Ignite*** (Embrasement [FR]), utilisés par près de 21 % des joueurs. Ces sortilèges sont beaucoup utilisés à des postes spécifiques. La téléportation est généralement utilisée par les joueurs évoluant sur la ***Toplane*** (voie du haut [FR]) tandis que le soin est majoritairement utilisé par les joueurs évoluant sur la ***Botlane*** (voie du bas [FR]) en tant qu'***ADC*** (Attack Damage Carry). En ce qui concerne l'embrasement, il est généralement utilisé sur la ***Midlane*** (voie du milieu [FR]).\n",
        "\n",
        "Le sortilège ***Exhaust*** (Fatigue [FR]) utilisé par 16% des joueurs est beaucoup apprécié par les joueurs évoluant sur la ***Botlane*** en tant que ***Support***. Il leur arrive également de jouer le sortilège ***Ignite***.\n",
        "\n",
        "Le reste des sortilèges (***Barrier*** (Barrière [FR]), ***Ghost*** (Fantôme [FR]), ***Cleanse*** (Purge [FR]) sont très situationnels, ce qui explique leur faible taux d'utilisation."
      ]
    },
    {
      "cell_type": "markdown",
      "metadata": {
        "id": "dFlugT_EGuxw"
      },
      "source": [
        "# Les Champions"
      ]
    },
    {
      "cell_type": "markdown",
      "metadata": {
        "id": "kolmZ0uAqpzB"
      },
      "source": [
        "![Texte alternatif…](https://static1.millenium.org/articles/1/90/29/1/@/2439-lol-article_m-22.jpg)"
      ]
    },
    {
      "cell_type": "markdown",
      "metadata": {
        "id": "1pZe6AaN2uw3"
      },
      "source": [
        "\n",
        "Affichons les deux tableaux contenant des informations sur les champions du jeu."
      ]
    },
    {
      "cell_type": "code",
      "metadata": {
        "id": "jtHOjVn5JRtz",
        "colab": {
          "base_uri": "https://localhost:8080/",
          "height": 424
        },
        "outputId": "615fba79-8ac8-4885-d43e-eafad94d0f0c"
      },
      "source": [
        "tab_info_ch_1 = pd.read_json((ch_info1['data']).to_json(), orient='index')\n",
        "tab_info_ch_2 = pd.read_json((ch_info2['data']).to_json(), orient='index')\n",
        "tab_info_ch_1"
      ],
      "execution_count": null,
      "outputs": [
        {
          "output_type": "execute_result",
          "data": {
            "text/html": [
              "<div>\n",
              "<style scoped>\n",
              "    .dataframe tbody tr th:only-of-type {\n",
              "        vertical-align: middle;\n",
              "    }\n",
              "\n",
              "    .dataframe tbody tr th {\n",
              "        vertical-align: top;\n",
              "    }\n",
              "\n",
              "    .dataframe thead th {\n",
              "        text-align: right;\n",
              "    }\n",
              "</style>\n",
              "<table border=\"1\" class=\"dataframe\">\n",
              "  <thead>\n",
              "    <tr style=\"text-align: right;\">\n",
              "      <th></th>\n",
              "      <th>title</th>\n",
              "      <th>id</th>\n",
              "      <th>key</th>\n",
              "      <th>name</th>\n",
              "    </tr>\n",
              "  </thead>\n",
              "  <tbody>\n",
              "    <tr>\n",
              "      <th>1</th>\n",
              "      <td>the Dark Child</td>\n",
              "      <td>1</td>\n",
              "      <td>Annie</td>\n",
              "      <td>Annie</td>\n",
              "    </tr>\n",
              "    <tr>\n",
              "      <th>10</th>\n",
              "      <td>The Judicator</td>\n",
              "      <td>10</td>\n",
              "      <td>Kayle</td>\n",
              "      <td>Kayle</td>\n",
              "    </tr>\n",
              "    <tr>\n",
              "      <th>101</th>\n",
              "      <td>the Magus Ascendant</td>\n",
              "      <td>101</td>\n",
              "      <td>Xerath</td>\n",
              "      <td>Xerath</td>\n",
              "    </tr>\n",
              "    <tr>\n",
              "      <th>102</th>\n",
              "      <td>the Half-Dragon</td>\n",
              "      <td>102</td>\n",
              "      <td>Shyvana</td>\n",
              "      <td>Shyvana</td>\n",
              "    </tr>\n",
              "    <tr>\n",
              "      <th>103</th>\n",
              "      <td>the Nine-Tailed Fox</td>\n",
              "      <td>103</td>\n",
              "      <td>Ahri</td>\n",
              "      <td>Ahri</td>\n",
              "    </tr>\n",
              "    <tr>\n",
              "      <th>...</th>\n",
              "      <td>...</td>\n",
              "      <td>...</td>\n",
              "      <td>...</td>\n",
              "      <td>...</td>\n",
              "    </tr>\n",
              "    <tr>\n",
              "      <th>91</th>\n",
              "      <td>the Blade's Shadow</td>\n",
              "      <td>91</td>\n",
              "      <td>Talon</td>\n",
              "      <td>Talon</td>\n",
              "    </tr>\n",
              "    <tr>\n",
              "      <th>92</th>\n",
              "      <td>the Exile</td>\n",
              "      <td>92</td>\n",
              "      <td>Riven</td>\n",
              "      <td>Riven</td>\n",
              "    </tr>\n",
              "    <tr>\n",
              "      <th>96</th>\n",
              "      <td>the Mouth of the Abyss</td>\n",
              "      <td>96</td>\n",
              "      <td>KogMaw</td>\n",
              "      <td>Kog'Maw</td>\n",
              "    </tr>\n",
              "    <tr>\n",
              "      <th>98</th>\n",
              "      <td>the Eye of Twilight</td>\n",
              "      <td>98</td>\n",
              "      <td>Shen</td>\n",
              "      <td>Shen</td>\n",
              "    </tr>\n",
              "    <tr>\n",
              "      <th>99</th>\n",
              "      <td>the Lady of Luminosity</td>\n",
              "      <td>99</td>\n",
              "      <td>Lux</td>\n",
              "      <td>Lux</td>\n",
              "    </tr>\n",
              "  </tbody>\n",
              "</table>\n",
              "<p>138 rows × 4 columns</p>\n",
              "</div>"
            ],
            "text/plain": [
              "                      title   id      key     name\n",
              "1            the Dark Child    1    Annie    Annie\n",
              "10            The Judicator   10    Kayle    Kayle\n",
              "101     the Magus Ascendant  101   Xerath   Xerath\n",
              "102         the Half-Dragon  102  Shyvana  Shyvana\n",
              "103     the Nine-Tailed Fox  103     Ahri     Ahri\n",
              "..                      ...  ...      ...      ...\n",
              "91       the Blade's Shadow   91    Talon    Talon\n",
              "92                the Exile   92    Riven    Riven\n",
              "96   the Mouth of the Abyss   96   KogMaw  Kog'Maw\n",
              "98      the Eye of Twilight   98     Shen     Shen\n",
              "99   the Lady of Luminosity   99      Lux      Lux\n",
              "\n",
              "[138 rows x 4 columns]"
            ]
          },
          "metadata": {
            "tags": []
          },
          "execution_count": 278
        }
      ]
    },
    {
      "cell_type": "code",
      "metadata": {
        "id": "6bl4WI3mJUHd",
        "colab": {
          "base_uri": "https://localhost:8080/",
          "height": 424
        },
        "outputId": "745e4cc2-3eaf-46b6-ac2b-e6f4070b83c4"
      },
      "source": [
        "tab_info_ch_2"
      ],
      "execution_count": null,
      "outputs": [
        {
          "output_type": "execute_result",
          "data": {
            "text/html": [
              "<div>\n",
              "<style scoped>\n",
              "    .dataframe tbody tr th:only-of-type {\n",
              "        vertical-align: middle;\n",
              "    }\n",
              "\n",
              "    .dataframe tbody tr th {\n",
              "        vertical-align: top;\n",
              "    }\n",
              "\n",
              "    .dataframe thead th {\n",
              "        text-align: right;\n",
              "    }\n",
              "</style>\n",
              "<table border=\"1\" class=\"dataframe\">\n",
              "  <thead>\n",
              "    <tr style=\"text-align: right;\">\n",
              "      <th></th>\n",
              "      <th>tags</th>\n",
              "      <th>title</th>\n",
              "      <th>id</th>\n",
              "      <th>key</th>\n",
              "      <th>name</th>\n",
              "    </tr>\n",
              "  </thead>\n",
              "  <tbody>\n",
              "    <tr>\n",
              "      <th>Aatrox</th>\n",
              "      <td>[Fighter, Tank]</td>\n",
              "      <td>the Darkin Blade</td>\n",
              "      <td>266</td>\n",
              "      <td>Aatrox</td>\n",
              "      <td>Aatrox</td>\n",
              "    </tr>\n",
              "    <tr>\n",
              "      <th>Ahri</th>\n",
              "      <td>[Mage, Assassin]</td>\n",
              "      <td>the Nine-Tailed Fox</td>\n",
              "      <td>103</td>\n",
              "      <td>Ahri</td>\n",
              "      <td>Ahri</td>\n",
              "    </tr>\n",
              "    <tr>\n",
              "      <th>Akali</th>\n",
              "      <td>[Assassin]</td>\n",
              "      <td>the Fist of Shadow</td>\n",
              "      <td>84</td>\n",
              "      <td>Akali</td>\n",
              "      <td>Akali</td>\n",
              "    </tr>\n",
              "    <tr>\n",
              "      <th>Alistar</th>\n",
              "      <td>[Tank, Support]</td>\n",
              "      <td>the Minotaur</td>\n",
              "      <td>12</td>\n",
              "      <td>Alistar</td>\n",
              "      <td>Alistar</td>\n",
              "    </tr>\n",
              "    <tr>\n",
              "      <th>Amumu</th>\n",
              "      <td>[Tank, Mage]</td>\n",
              "      <td>the Sad Mummy</td>\n",
              "      <td>32</td>\n",
              "      <td>Amumu</td>\n",
              "      <td>Amumu</td>\n",
              "    </tr>\n",
              "    <tr>\n",
              "      <th>...</th>\n",
              "      <td>...</td>\n",
              "      <td>...</td>\n",
              "      <td>...</td>\n",
              "      <td>...</td>\n",
              "      <td>...</td>\n",
              "    </tr>\n",
              "    <tr>\n",
              "      <th>Zac</th>\n",
              "      <td>[Tank, Fighter]</td>\n",
              "      <td>the Secret Weapon</td>\n",
              "      <td>154</td>\n",
              "      <td>Zac</td>\n",
              "      <td>Zac</td>\n",
              "    </tr>\n",
              "    <tr>\n",
              "      <th>Zed</th>\n",
              "      <td>[Assassin, Fighter]</td>\n",
              "      <td>the Master of Shadows</td>\n",
              "      <td>238</td>\n",
              "      <td>Zed</td>\n",
              "      <td>Zed</td>\n",
              "    </tr>\n",
              "    <tr>\n",
              "      <th>Ziggs</th>\n",
              "      <td>[Mage]</td>\n",
              "      <td>the Hexplosives Expert</td>\n",
              "      <td>115</td>\n",
              "      <td>Ziggs</td>\n",
              "      <td>Ziggs</td>\n",
              "    </tr>\n",
              "    <tr>\n",
              "      <th>Zilean</th>\n",
              "      <td>[Support, Mage]</td>\n",
              "      <td>the Chronokeeper</td>\n",
              "      <td>26</td>\n",
              "      <td>Zilean</td>\n",
              "      <td>Zilean</td>\n",
              "    </tr>\n",
              "    <tr>\n",
              "      <th>Zyra</th>\n",
              "      <td>[Mage, Support]</td>\n",
              "      <td>Rise of the Thorns</td>\n",
              "      <td>143</td>\n",
              "      <td>Zyra</td>\n",
              "      <td>Zyra</td>\n",
              "    </tr>\n",
              "  </tbody>\n",
              "</table>\n",
              "<p>139 rows × 5 columns</p>\n",
              "</div>"
            ],
            "text/plain": [
              "                        tags                   title   id      key     name\n",
              "Aatrox       [Fighter, Tank]        the Darkin Blade  266   Aatrox   Aatrox\n",
              "Ahri        [Mage, Assassin]     the Nine-Tailed Fox  103     Ahri     Ahri\n",
              "Akali             [Assassin]      the Fist of Shadow   84    Akali    Akali\n",
              "Alistar      [Tank, Support]            the Minotaur   12  Alistar  Alistar\n",
              "Amumu           [Tank, Mage]           the Sad Mummy   32    Amumu    Amumu\n",
              "...                      ...                     ...  ...      ...      ...\n",
              "Zac          [Tank, Fighter]       the Secret Weapon  154      Zac      Zac\n",
              "Zed      [Assassin, Fighter]   the Master of Shadows  238      Zed      Zed\n",
              "Ziggs                 [Mage]  the Hexplosives Expert  115    Ziggs    Ziggs\n",
              "Zilean       [Support, Mage]        the Chronokeeper   26   Zilean   Zilean\n",
              "Zyra         [Mage, Support]      Rise of the Thorns  143     Zyra     Zyra\n",
              "\n",
              "[139 rows x 5 columns]"
            ]
          },
          "metadata": {
            "tags": []
          },
          "execution_count": 279
        }
      ]
    },
    {
      "cell_type": "markdown",
      "metadata": {
        "id": "G5M-PejoHx_x"
      },
      "source": [
        "On va s'intéresser au deuxième tableau qui est plus complet que le premier. De la même manière que pour les sortilèges d'invocateurs, on va compter le nombre d'occurences de chaque champion et de chaque type de champion (tags). Il y a 139 champions différents comme nous l'indique le nombre de lignes. Il y a 6 catégories de champion, un champion pouvant être dans plusieurs catégories."
      ]
    },
    {
      "cell_type": "code",
      "metadata": {
        "id": "3FwXZxgIv8b-",
        "colab": {
          "base_uri": "https://localhost:8080/",
          "height": 455
        },
        "outputId": "8f3cd1ee-a86a-44e9-c608-9de550988236"
      },
      "source": [
        "\"\"\" On récupère la dataframe 2 des champions \"\"\"\n",
        "Champion_Info = pd.read_json((ch_info2['data']).to_json(), orient='index')\n",
        "\n",
        "Champion_Info.set_index(['id'], inplace=True)\n",
        "\n",
        "\"\"\" On affiche les informations qui nous intéressent. \"\"\"\n",
        "Champion_Info.loc[:,['name','tags']]"
      ],
      "execution_count": null,
      "outputs": [
        {
          "output_type": "execute_result",
          "data": {
            "text/html": [
              "<div>\n",
              "<style scoped>\n",
              "    .dataframe tbody tr th:only-of-type {\n",
              "        vertical-align: middle;\n",
              "    }\n",
              "\n",
              "    .dataframe tbody tr th {\n",
              "        vertical-align: top;\n",
              "    }\n",
              "\n",
              "    .dataframe thead th {\n",
              "        text-align: right;\n",
              "    }\n",
              "</style>\n",
              "<table border=\"1\" class=\"dataframe\">\n",
              "  <thead>\n",
              "    <tr style=\"text-align: right;\">\n",
              "      <th></th>\n",
              "      <th>name</th>\n",
              "      <th>tags</th>\n",
              "    </tr>\n",
              "    <tr>\n",
              "      <th>id</th>\n",
              "      <th></th>\n",
              "      <th></th>\n",
              "    </tr>\n",
              "  </thead>\n",
              "  <tbody>\n",
              "    <tr>\n",
              "      <th>266</th>\n",
              "      <td>Aatrox</td>\n",
              "      <td>[Fighter, Tank]</td>\n",
              "    </tr>\n",
              "    <tr>\n",
              "      <th>103</th>\n",
              "      <td>Ahri</td>\n",
              "      <td>[Mage, Assassin]</td>\n",
              "    </tr>\n",
              "    <tr>\n",
              "      <th>84</th>\n",
              "      <td>Akali</td>\n",
              "      <td>[Assassin]</td>\n",
              "    </tr>\n",
              "    <tr>\n",
              "      <th>12</th>\n",
              "      <td>Alistar</td>\n",
              "      <td>[Tank, Support]</td>\n",
              "    </tr>\n",
              "    <tr>\n",
              "      <th>32</th>\n",
              "      <td>Amumu</td>\n",
              "      <td>[Tank, Mage]</td>\n",
              "    </tr>\n",
              "    <tr>\n",
              "      <th>...</th>\n",
              "      <td>...</td>\n",
              "      <td>...</td>\n",
              "    </tr>\n",
              "    <tr>\n",
              "      <th>154</th>\n",
              "      <td>Zac</td>\n",
              "      <td>[Tank, Fighter]</td>\n",
              "    </tr>\n",
              "    <tr>\n",
              "      <th>238</th>\n",
              "      <td>Zed</td>\n",
              "      <td>[Assassin, Fighter]</td>\n",
              "    </tr>\n",
              "    <tr>\n",
              "      <th>115</th>\n",
              "      <td>Ziggs</td>\n",
              "      <td>[Mage]</td>\n",
              "    </tr>\n",
              "    <tr>\n",
              "      <th>26</th>\n",
              "      <td>Zilean</td>\n",
              "      <td>[Support, Mage]</td>\n",
              "    </tr>\n",
              "    <tr>\n",
              "      <th>143</th>\n",
              "      <td>Zyra</td>\n",
              "      <td>[Mage, Support]</td>\n",
              "    </tr>\n",
              "  </tbody>\n",
              "</table>\n",
              "<p>139 rows × 2 columns</p>\n",
              "</div>"
            ],
            "text/plain": [
              "        name                 tags\n",
              "id                               \n",
              "266   Aatrox      [Fighter, Tank]\n",
              "103     Ahri     [Mage, Assassin]\n",
              "84     Akali           [Assassin]\n",
              "12   Alistar      [Tank, Support]\n",
              "32     Amumu         [Tank, Mage]\n",
              "..       ...                  ...\n",
              "154      Zac      [Tank, Fighter]\n",
              "238      Zed  [Assassin, Fighter]\n",
              "115    Ziggs               [Mage]\n",
              "26    Zilean      [Support, Mage]\n",
              "143     Zyra      [Mage, Support]\n",
              "\n",
              "[139 rows x 2 columns]"
            ]
          },
          "metadata": {
            "tags": []
          },
          "execution_count": 280
        }
      ]
    },
    {
      "cell_type": "code",
      "metadata": {
        "id": "I5szD3G5Ri0e",
        "colab": {
          "base_uri": "https://localhost:8080/",
          "height": 479
        },
        "outputId": "10987d87-9d71-49a4-ee69-fa3d44f865cf"
      },
      "source": [
        "\"\"\" On récupère les 10 colonnes de notre dataframe indiquant les champions\n",
        "    choisi par les joueurs. \"\"\"\n",
        "Champion_Col_Df = ['t1_champ1id','t1_champ2id','t1_champ3id','t1_champ4id','t1_champ5id',\n",
        "                   't2_champ1id','t2_champ2id','t2_champ3id','t2_champ5id','t2_champ5id']\n",
        "\n",
        "\"\"\" On créé un tableau comptant le nombre de fois où chaque champion apparaît dans toutes les parties. \"\"\"\n",
        "Tab_Champ_Total = df[Champion_Col_Df].apply(pd.value_counts)\n",
        "\n",
        "\"\"\" On ajoute une colonne comptant le nombre total de fois où chaque champion à été joué. \"\"\"\n",
        "Tab_Champ_Total['total'] = Tab_Champ_Total[Champion_Col_Df].sum(axis=1)\n",
        "\n",
        "\"\"\" On ajoute une colonne pour voir les noms \"\"\"\n",
        "Tab_Champ_Total['name'] = Champion_Info['name']\n",
        "Col_Names = Tab_Champ_Total.columns.tolist()\n",
        "Col_Names = Col_Names[-1:] + Col_Names[:-1]\n",
        "Tab_Champ_Total = Tab_Champ_Total[Col_Names]\n",
        "\n",
        "Tab_Champ_Total"
      ],
      "execution_count": null,
      "outputs": [
        {
          "output_type": "execute_result",
          "data": {
            "text/html": [
              "<div>\n",
              "<style scoped>\n",
              "    .dataframe tbody tr th:only-of-type {\n",
              "        vertical-align: middle;\n",
              "    }\n",
              "\n",
              "    .dataframe tbody tr th {\n",
              "        vertical-align: top;\n",
              "    }\n",
              "\n",
              "    .dataframe thead th {\n",
              "        text-align: right;\n",
              "    }\n",
              "</style>\n",
              "<table border=\"1\" class=\"dataframe\">\n",
              "  <thead>\n",
              "    <tr style=\"text-align: right;\">\n",
              "      <th></th>\n",
              "      <th>name</th>\n",
              "      <th>t1_champ1id</th>\n",
              "      <th>t1_champ2id</th>\n",
              "      <th>t1_champ3id</th>\n",
              "      <th>t1_champ4id</th>\n",
              "      <th>t1_champ5id</th>\n",
              "      <th>t2_champ1id</th>\n",
              "      <th>t2_champ2id</th>\n",
              "      <th>t2_champ3id</th>\n",
              "      <th>t2_champ5id</th>\n",
              "      <th>t2_champ5id</th>\n",
              "      <th>t2_champ5id</th>\n",
              "      <th>t2_champ5id</th>\n",
              "      <th>total</th>\n",
              "    </tr>\n",
              "  </thead>\n",
              "  <tbody>\n",
              "    <tr>\n",
              "      <th>1</th>\n",
              "      <td>Annie</td>\n",
              "      <td>320</td>\n",
              "      <td>350</td>\n",
              "      <td>313</td>\n",
              "      <td>347</td>\n",
              "      <td>297</td>\n",
              "      <td>326</td>\n",
              "      <td>329</td>\n",
              "      <td>309</td>\n",
              "      <td>337</td>\n",
              "      <td>337</td>\n",
              "      <td>337</td>\n",
              "      <td>337</td>\n",
              "      <td>3939</td>\n",
              "    </tr>\n",
              "    <tr>\n",
              "      <th>2</th>\n",
              "      <td>Olaf</td>\n",
              "      <td>175</td>\n",
              "      <td>155</td>\n",
              "      <td>152</td>\n",
              "      <td>137</td>\n",
              "      <td>169</td>\n",
              "      <td>141</td>\n",
              "      <td>169</td>\n",
              "      <td>144</td>\n",
              "      <td>162</td>\n",
              "      <td>162</td>\n",
              "      <td>162</td>\n",
              "      <td>162</td>\n",
              "      <td>1890</td>\n",
              "    </tr>\n",
              "    <tr>\n",
              "      <th>3</th>\n",
              "      <td>Galio</td>\n",
              "      <td>311</td>\n",
              "      <td>280</td>\n",
              "      <td>265</td>\n",
              "      <td>278</td>\n",
              "      <td>274</td>\n",
              "      <td>255</td>\n",
              "      <td>253</td>\n",
              "      <td>267</td>\n",
              "      <td>254</td>\n",
              "      <td>254</td>\n",
              "      <td>254</td>\n",
              "      <td>254</td>\n",
              "      <td>3199</td>\n",
              "    </tr>\n",
              "    <tr>\n",
              "      <th>4</th>\n",
              "      <td>Twisted Fate</td>\n",
              "      <td>356</td>\n",
              "      <td>358</td>\n",
              "      <td>343</td>\n",
              "      <td>316</td>\n",
              "      <td>398</td>\n",
              "      <td>368</td>\n",
              "      <td>347</td>\n",
              "      <td>373</td>\n",
              "      <td>384</td>\n",
              "      <td>384</td>\n",
              "      <td>384</td>\n",
              "      <td>384</td>\n",
              "      <td>4395</td>\n",
              "    </tr>\n",
              "    <tr>\n",
              "      <th>5</th>\n",
              "      <td>Xin Zhao</td>\n",
              "      <td>339</td>\n",
              "      <td>324</td>\n",
              "      <td>348</td>\n",
              "      <td>316</td>\n",
              "      <td>342</td>\n",
              "      <td>353</td>\n",
              "      <td>300</td>\n",
              "      <td>296</td>\n",
              "      <td>314</td>\n",
              "      <td>314</td>\n",
              "      <td>314</td>\n",
              "      <td>314</td>\n",
              "      <td>3874</td>\n",
              "    </tr>\n",
              "    <tr>\n",
              "      <th>...</th>\n",
              "      <td>...</td>\n",
              "      <td>...</td>\n",
              "      <td>...</td>\n",
              "      <td>...</td>\n",
              "      <td>...</td>\n",
              "      <td>...</td>\n",
              "      <td>...</td>\n",
              "      <td>...</td>\n",
              "      <td>...</td>\n",
              "      <td>...</td>\n",
              "      <td>...</td>\n",
              "      <td>...</td>\n",
              "      <td>...</td>\n",
              "      <td>...</td>\n",
              "    </tr>\n",
              "    <tr>\n",
              "      <th>429</th>\n",
              "      <td>Kalista</td>\n",
              "      <td>321</td>\n",
              "      <td>366</td>\n",
              "      <td>357</td>\n",
              "      <td>380</td>\n",
              "      <td>349</td>\n",
              "      <td>360</td>\n",
              "      <td>361</td>\n",
              "      <td>377</td>\n",
              "      <td>318</td>\n",
              "      <td>318</td>\n",
              "      <td>318</td>\n",
              "      <td>318</td>\n",
              "      <td>4143</td>\n",
              "    </tr>\n",
              "    <tr>\n",
              "      <th>432</th>\n",
              "      <td>Bard</td>\n",
              "      <td>360</td>\n",
              "      <td>350</td>\n",
              "      <td>351</td>\n",
              "      <td>392</td>\n",
              "      <td>396</td>\n",
              "      <td>355</td>\n",
              "      <td>391</td>\n",
              "      <td>356</td>\n",
              "      <td>390</td>\n",
              "      <td>390</td>\n",
              "      <td>390</td>\n",
              "      <td>390</td>\n",
              "      <td>4511</td>\n",
              "    </tr>\n",
              "    <tr>\n",
              "      <th>497</th>\n",
              "      <td>Rakan</td>\n",
              "      <td>618</td>\n",
              "      <td>709</td>\n",
              "      <td>698</td>\n",
              "      <td>725</td>\n",
              "      <td>610</td>\n",
              "      <td>675</td>\n",
              "      <td>696</td>\n",
              "      <td>717</td>\n",
              "      <td>657</td>\n",
              "      <td>657</td>\n",
              "      <td>657</td>\n",
              "      <td>657</td>\n",
              "      <td>8076</td>\n",
              "    </tr>\n",
              "    <tr>\n",
              "      <th>498</th>\n",
              "      <td>Xayah</td>\n",
              "      <td>672</td>\n",
              "      <td>814</td>\n",
              "      <td>780</td>\n",
              "      <td>808</td>\n",
              "      <td>681</td>\n",
              "      <td>754</td>\n",
              "      <td>829</td>\n",
              "      <td>812</td>\n",
              "      <td>793</td>\n",
              "      <td>793</td>\n",
              "      <td>793</td>\n",
              "      <td>793</td>\n",
              "      <td>9322</td>\n",
              "    </tr>\n",
              "    <tr>\n",
              "      <th>516</th>\n",
              "      <td>Ornn</td>\n",
              "      <td>491</td>\n",
              "      <td>484</td>\n",
              "      <td>486</td>\n",
              "      <td>479</td>\n",
              "      <td>474</td>\n",
              "      <td>502</td>\n",
              "      <td>475</td>\n",
              "      <td>442</td>\n",
              "      <td>482</td>\n",
              "      <td>482</td>\n",
              "      <td>482</td>\n",
              "      <td>482</td>\n",
              "      <td>5761</td>\n",
              "    </tr>\n",
              "  </tbody>\n",
              "</table>\n",
              "<p>138 rows × 14 columns</p>\n",
              "</div>"
            ],
            "text/plain": [
              "             name  t1_champ1id  t1_champ2id  ...  t2_champ5id  t2_champ5id  total\n",
              "1           Annie          320          350  ...          337          337   3939\n",
              "2            Olaf          175          155  ...          162          162   1890\n",
              "3           Galio          311          280  ...          254          254   3199\n",
              "4    Twisted Fate          356          358  ...          384          384   4395\n",
              "5        Xin Zhao          339          324  ...          314          314   3874\n",
              "..            ...          ...          ...  ...          ...          ...    ...\n",
              "429       Kalista          321          366  ...          318          318   4143\n",
              "432          Bard          360          350  ...          390          390   4511\n",
              "497         Rakan          618          709  ...          657          657   8076\n",
              "498         Xayah          672          814  ...          793          793   9322\n",
              "516          Ornn          491          484  ...          482          482   5761\n",
              "\n",
              "[138 rows x 14 columns]"
            ]
          },
          "metadata": {
            "tags": []
          },
          "execution_count": 281
        }
      ]
    },
    {
      "cell_type": "markdown",
      "metadata": {
        "id": "weWUfhUQzKRn"
      },
      "source": [
        "**Petite explication du tableau :**  Dans la phase de sélection et banissement des champions qui précède la partie, tous les joueurs sont placés dans un ordre aléatoire. Les joueurs choisissent leurs champions chacun leur tour après la phase de bannissement. Voilà pourquoi on peut remarquer dans le tableau que chaque champion est choisit environ le même nombre de fois dans chaque colonne. Ci-dessous, une image de la phase de sélection des champions."
      ]
    },
    {
      "cell_type": "markdown",
      "metadata": {
        "id": "qFyvB8XgBgo_"
      },
      "source": [
        "![Texte alternatif…](https://mobalytics.gg/wp-content/uploads/2018/11/Troll-champ-select.jpg)"
      ]
    },
    {
      "cell_type": "markdown",
      "metadata": {
        "id": "zavjaharCTmY"
      },
      "source": [
        "Affichons un histogramme montrant le nombre de fois qu'un champion a été joué dans toutes les parties de notre dataframe :"
      ]
    },
    {
      "cell_type": "code",
      "metadata": {
        "id": "nG6rq4N61W39",
        "colab": {
          "base_uri": "https://localhost:8080/",
          "height": 1000
        },
        "outputId": "e1caf3d8-56b5-4ffc-9459-46f5ad0bab41"
      },
      "source": [
        "fig=plt.figure(figsize=(8,30))\n",
        "plt.barh(Tab_Champ_Total['name'],Tab_Champ_Total['total'])\n",
        "plt.title('Nb Apparition Champions');"
      ],
      "execution_count": null,
      "outputs": [
        {
          "output_type": "display_data",
          "data": {
            "image/png": "[encoded data removed]",
            "text/plain": [
              "<Figure size 576x2160 with 1 Axes>"
            ]
          },
          "metadata": {
            "tags": [],
            "needs_background": "light"
          }
        }
      ]
    },
    {
      "cell_type": "markdown",
      "metadata": {
        "id": "5rIE1vZECleI"
      },
      "source": [
        "Même chose maintenant pour le nombre de bannissements de chaque champion :"
      ]
    },
    {
      "cell_type": "code",
      "metadata": {
        "id": "sfLwHaQXFsQ-",
        "colab": {
          "base_uri": "https://localhost:8080/",
          "height": 424
        },
        "outputId": "031cee63-6e74-4600-ff10-8f1e412c7805"
      },
      "source": [
        "\"\"\" On récupère les 10 colonnes de notre dataframe indiquant les champions\n",
        "    banni par les joueurs. \"\"\"\n",
        "ChampBan_Col_Df = ['t1_ban1','t1_ban2','t1_ban3','t1_ban4','t1_ban5',\n",
        "                   't2_ban1','t2_ban2','t2_ban3','t2_ban4','t2_ban5']\n",
        "\n",
        "\"\"\" On créé un tableau comptant le nombre de fois où chaque champion apparaît dans toutes les parties. \"\"\"\n",
        "Tab_ChampBan_Total = df[ChampBan_Col_Df].apply(pd.value_counts)\n",
        "\n",
        "\"\"\" On ajoute une colonne comptant le nombre total de fois où chaque champion à été banni. \"\"\"\n",
        "Tab_ChampBan_Total['total'] = Tab_ChampBan_Total[ChampBan_Col_Df].sum(axis=1)\n",
        "\n",
        "\"\"\" On ajoute une colonne pour voir les noms \"\"\"\n",
        "Tab_ChampBan_Total['name'] = Champion_Info['name']\n",
        "Col_Names = Tab_ChampBan_Total.columns.tolist()\n",
        "Col_Names = Col_Names[-1:] + Col_Names[:-1]\n",
        "Tab_ChampBan_Total = Tab_ChampBan_Total[Col_Names]\n",
        "\n",
        "Tab_ChampBan_Total"
      ],
      "execution_count": null,
      "outputs": [
        {
          "output_type": "execute_result",
          "data": {
            "text/html": [
              "<div>\n",
              "<style scoped>\n",
              "    .dataframe tbody tr th:only-of-type {\n",
              "        vertical-align: middle;\n",
              "    }\n",
              "\n",
              "    .dataframe tbody tr th {\n",
              "        vertical-align: top;\n",
              "    }\n",
              "\n",
              "    .dataframe thead th {\n",
              "        text-align: right;\n",
              "    }\n",
              "</style>\n",
              "<table border=\"1\" class=\"dataframe\">\n",
              "  <thead>\n",
              "    <tr style=\"text-align: right;\">\n",
              "      <th></th>\n",
              "      <th>name</th>\n",
              "      <th>t1_ban1</th>\n",
              "      <th>t1_ban2</th>\n",
              "      <th>t1_ban3</th>\n",
              "      <th>t1_ban4</th>\n",
              "      <th>t1_ban5</th>\n",
              "      <th>t2_ban1</th>\n",
              "      <th>t2_ban2</th>\n",
              "      <th>t2_ban3</th>\n",
              "      <th>t2_ban4</th>\n",
              "      <th>t2_ban5</th>\n",
              "      <th>total</th>\n",
              "    </tr>\n",
              "  </thead>\n",
              "  <tbody>\n",
              "    <tr>\n",
              "      <th>-1</th>\n",
              "      <td>None</td>\n",
              "      <td>360</td>\n",
              "      <td>401</td>\n",
              "      <td>390</td>\n",
              "      <td>416</td>\n",
              "      <td>347</td>\n",
              "      <td>413</td>\n",
              "      <td>403</td>\n",
              "      <td>380</td>\n",
              "      <td>349</td>\n",
              "      <td>407</td>\n",
              "      <td>3866</td>\n",
              "    </tr>\n",
              "    <tr>\n",
              "      <th>1</th>\n",
              "      <td>Annie</td>\n",
              "      <td>208</td>\n",
              "      <td>217</td>\n",
              "      <td>190</td>\n",
              "      <td>223</td>\n",
              "      <td>240</td>\n",
              "      <td>200</td>\n",
              "      <td>199</td>\n",
              "      <td>208</td>\n",
              "      <td>202</td>\n",
              "      <td>221</td>\n",
              "      <td>2108</td>\n",
              "    </tr>\n",
              "    <tr>\n",
              "      <th>2</th>\n",
              "      <td>Olaf</td>\n",
              "      <td>41</td>\n",
              "      <td>31</td>\n",
              "      <td>42</td>\n",
              "      <td>37</td>\n",
              "      <td>37</td>\n",
              "      <td>28</td>\n",
              "      <td>46</td>\n",
              "      <td>39</td>\n",
              "      <td>37</td>\n",
              "      <td>39</td>\n",
              "      <td>377</td>\n",
              "    </tr>\n",
              "    <tr>\n",
              "      <th>3</th>\n",
              "      <td>Galio</td>\n",
              "      <td>197</td>\n",
              "      <td>203</td>\n",
              "      <td>209</td>\n",
              "      <td>201</td>\n",
              "      <td>206</td>\n",
              "      <td>207</td>\n",
              "      <td>230</td>\n",
              "      <td>180</td>\n",
              "      <td>224</td>\n",
              "      <td>215</td>\n",
              "      <td>2072</td>\n",
              "    </tr>\n",
              "    <tr>\n",
              "      <th>4</th>\n",
              "      <td>Twisted Fate</td>\n",
              "      <td>31</td>\n",
              "      <td>23</td>\n",
              "      <td>37</td>\n",
              "      <td>28</td>\n",
              "      <td>22</td>\n",
              "      <td>22</td>\n",
              "      <td>25</td>\n",
              "      <td>38</td>\n",
              "      <td>27</td>\n",
              "      <td>31</td>\n",
              "      <td>284</td>\n",
              "    </tr>\n",
              "    <tr>\n",
              "      <th>...</th>\n",
              "      <td>...</td>\n",
              "      <td>...</td>\n",
              "      <td>...</td>\n",
              "      <td>...</td>\n",
              "      <td>...</td>\n",
              "      <td>...</td>\n",
              "      <td>...</td>\n",
              "      <td>...</td>\n",
              "      <td>...</td>\n",
              "      <td>...</td>\n",
              "      <td>...</td>\n",
              "      <td>...</td>\n",
              "    </tr>\n",
              "    <tr>\n",
              "      <th>429</th>\n",
              "      <td>Kalista</td>\n",
              "      <td>102</td>\n",
              "      <td>93</td>\n",
              "      <td>104</td>\n",
              "      <td>79</td>\n",
              "      <td>86</td>\n",
              "      <td>81</td>\n",
              "      <td>96</td>\n",
              "      <td>83</td>\n",
              "      <td>90</td>\n",
              "      <td>86</td>\n",
              "      <td>900</td>\n",
              "    </tr>\n",
              "    <tr>\n",
              "      <th>432</th>\n",
              "      <td>Bard</td>\n",
              "      <td>52</td>\n",
              "      <td>53</td>\n",
              "      <td>49</td>\n",
              "      <td>40</td>\n",
              "      <td>55</td>\n",
              "      <td>47</td>\n",
              "      <td>50</td>\n",
              "      <td>48</td>\n",
              "      <td>70</td>\n",
              "      <td>65</td>\n",
              "      <td>529</td>\n",
              "    </tr>\n",
              "    <tr>\n",
              "      <th>497</th>\n",
              "      <td>Rakan</td>\n",
              "      <td>226</td>\n",
              "      <td>192</td>\n",
              "      <td>202</td>\n",
              "      <td>227</td>\n",
              "      <td>197</td>\n",
              "      <td>209</td>\n",
              "      <td>236</td>\n",
              "      <td>229</td>\n",
              "      <td>224</td>\n",
              "      <td>215</td>\n",
              "      <td>2157</td>\n",
              "    </tr>\n",
              "    <tr>\n",
              "      <th>498</th>\n",
              "      <td>Xayah</td>\n",
              "      <td>591</td>\n",
              "      <td>658</td>\n",
              "      <td>636</td>\n",
              "      <td>626</td>\n",
              "      <td>633</td>\n",
              "      <td>619</td>\n",
              "      <td>636</td>\n",
              "      <td>603</td>\n",
              "      <td>658</td>\n",
              "      <td>614</td>\n",
              "      <td>6274</td>\n",
              "    </tr>\n",
              "    <tr>\n",
              "      <th>516</th>\n",
              "      <td>Ornn</td>\n",
              "      <td>568</td>\n",
              "      <td>565</td>\n",
              "      <td>529</td>\n",
              "      <td>612</td>\n",
              "      <td>542</td>\n",
              "      <td>568</td>\n",
              "      <td>571</td>\n",
              "      <td>581</td>\n",
              "      <td>564</td>\n",
              "      <td>585</td>\n",
              "      <td>5685</td>\n",
              "    </tr>\n",
              "  </tbody>\n",
              "</table>\n",
              "<p>139 rows × 12 columns</p>\n",
              "</div>"
            ],
            "text/plain": [
              "              name  t1_ban1  t1_ban2  t1_ban3  ...  t2_ban3  t2_ban4  t2_ban5  total\n",
              "-1            None      360      401      390  ...      380      349      407   3866\n",
              " 1           Annie      208      217      190  ...      208      202      221   2108\n",
              " 2            Olaf       41       31       42  ...       39       37       39    377\n",
              " 3           Galio      197      203      209  ...      180      224      215   2072\n",
              " 4    Twisted Fate       31       23       37  ...       38       27       31    284\n",
              "...            ...      ...      ...      ...  ...      ...      ...      ...    ...\n",
              " 429       Kalista      102       93      104  ...       83       90       86    900\n",
              " 432          Bard       52       53       49  ...       48       70       65    529\n",
              " 497         Rakan      226      192      202  ...      229      224      215   2157\n",
              " 498         Xayah      591      658      636  ...      603      658      614   6274\n",
              " 516          Ornn      568      565      529  ...      581      564      585   5685\n",
              "\n",
              "[139 rows x 12 columns]"
            ]
          },
          "metadata": {
            "tags": []
          },
          "execution_count": 283
        }
      ]
    },
    {
      "cell_type": "code",
      "metadata": {
        "id": "ZJwFI1jfHeVw",
        "colab": {
          "base_uri": "https://localhost:8080/",
          "height": 1000
        },
        "outputId": "0f0f1ce2-f7a0-485c-fdbd-bf3e1b1b457b"
      },
      "source": [
        "fig=plt.figure(figsize=(8,30))\n",
        "plt.barh(Tab_ChampBan_Total['name'],Tab_ChampBan_Total['total'],color='darkred')\n",
        "plt.title('Nb Bans Champions',color='gainsboro')"
      ],
      "execution_count": null,
      "outputs": [
        {
          "output_type": "execute_result",
          "data": {
            "text/plain": [
              "Text(0.5, 1.0, 'Nb Bans Champions')"
            ]
          },
          "metadata": {
            "tags": []
          },
          "execution_count": 284
        },
        {
          "output_type": "display_data",
          "data": {
            "image/png": "[encoded data removed]",
            "text/plain": [
              "<Figure size 576x2160 with 1 Axes>"
            ]
          },
          "metadata": {
            "tags": [],
            "needs_background": "light"
          }
        }
      ]
    },
    {
      "cell_type": "markdown",
      "metadata": {
        "id": "pCS2nXTNm5JA"
      },
      "source": [
        "# Objectifs"
      ]
    },
    {
      "cell_type": "markdown",
      "metadata": {
        "id": "WEl5x9ev0JU3"
      },
      "source": [
        "### Définitions"
      ]
    },
    {
      "cell_type": "markdown",
      "metadata": {
        "id": "E1_DcodEnB32"
      },
      "source": [
        "*   **Tourelle** : Bâtiment défensif qui attaque les ennemis proches. Elle attaque en priorité les sbires puis les champions. Cependant, si un champion ennemi attaque un champion allié à la tourelle, la tourelle prend pour cible le champion ennemi tant qu'il est à portée de tir.\n",
        "\n",
        "![Texte alternatif…](https://drive.google.com/uc?export=view&id=1ZAoeFx6xdEl5FffFO1Aoqp4nq4Oy6Bdt)\n",
        "\n",
        "*   **Inhibiteur** : Bâtiment innofensif qui une fois détruit permet la génération de super sbire pendant 5 minutes sur la voie associée. Quand les 5 minutes sont écoulées, le batiment est reconstruit.\n",
        "\n",
        "![](https://drive.google.com/uc?export=view&id=1LR3WRmHZqe8HDhuYtIUl5_4s0rxCkj-m)\n",
        "\n",
        "*   **Dragon** : Un dragon est un objectif neutre qui apporte un avantage à l'équipe qui le vainc. Il y a 4 dragons différents (Feu, Terre, Eau et Air) apportant chacun des avantages différents. Un dragon apparait toutes les 5 minutes et reste dans son enclos jusqu'à être tué.\n",
        "\n",
        "![Texte alternatif…](https://drive.google.com/uc?export=view&id=1M16nE1It5OaK3LRWQ4Zrvv-DsBuLbb_M)\n",
        "\n",
        "*   **Héraut de la Faille** : Objectif neutre qui précède le baron nashor (il se situe dans le même enclos). C'est un monstre qui s'il est tué pourra êêtre invoqué par un joueur afin d'assiéger et d'infliger d'importants dégâts aux tourelles adverses.\n",
        "\n",
        "![Texte alternatif…](https://drive.google.com/uc?export=view&id=1MRYq-vP2mEFcpEKH5IGmX1PlGPuJShKw)\n",
        "\n",
        "*   **Baron Nashor** : Le baron nashor est également un objectif neutre qui apparaît à partir de 20 minutes de jeu. C'est un monstre très difficile à tuer qui donne une aura à tous les joueurs de l'équipe qui le vainc. Cette aura renforce les sbires à proximité ce qui permet d'assiéger la base adverse beaucoup plus facilement (+ d'autres avantages mineurs).\n",
        "\n",
        "![Texte alternatif…](https://drive.google.com/uc?export=view&id=1mmXI0CIU4AD5_B37EvQLPZ5hPICUMqRE)\n",
        "\n",
        "\n",
        "\n"
      ]
    },
    {
      "cell_type": "markdown",
      "metadata": {
        "id": "AJmw8c__0UYr"
      },
      "source": [
        "### Analyse statistique des objectifs"
      ]
    },
    {
      "cell_type": "markdown",
      "metadata": {
        "id": "hK61Qa30Zu-M"
      },
      "source": [
        "Faisons une petite étude statistique des objectifs pour observer la différence d'objectifs accomplis entre l'équipe gagnante et l'équipe perdante. Cela nous permettra une meilleure analyse et compréhension des corrélations par la suite."
      ]
    },
    {
      "cell_type": "markdown",
      "metadata": {
        "id": "Gh0FS6MNzggP"
      },
      "source": [
        "##### Nombre d'objectifs"
      ]
    },
    {
      "cell_type": "markdown",
      "metadata": {
        "id": "v2fjlu2U4B54"
      },
      "source": [
        "Dans cette partie, nous allons étudier le nombre d'objectifs détruits par partie."
      ]
    },
    {
      "cell_type": "code",
      "metadata": {
        "id": "hOvo9ajunBb9",
        "colab": {
          "base_uri": "https://localhost:8080/",
          "height": 278
        },
        "outputId": "4b647804-c754-4a5f-c83e-1dab48fb97ff"
      },
      "source": [
        "\"\"\" On trie la dataframe pour enlever les remakes. \"\"\"\n",
        "games = df.loc[df[\"gameDuration\"]>240]\n",
        "\n",
        "\"\"\" On va récupérer tous les résultats des objectifs détruits en fonction de la victoire ou de la défaite. \"\"\"\n",
        "t1_win = games.loc[games[\"winner\"]==1]\n",
        "t2_win = games.loc[games[\"winner\"]==2]\n",
        "t1_win_kills = t1_win[['t1_towerKills','t1_inhibitorKills','t1_dragonKills','t1_baronKills','t1_riftHeraldKills']]\n",
        "t1_lose_kills = t2_win[['t1_towerKills','t1_inhibitorKills','t1_dragonKills','t1_baronKills','t1_riftHeraldKills']]\n",
        "t2_win_kills = t2_win[['t2_towerKills','t2_inhibitorKills','t2_dragonKills','t2_baronKills','t2_riftHeraldKills']]\n",
        "t2_lose_kills = t1_win[['t2_towerKills','t2_inhibitorKills','t2_dragonKills','t2_baronKills','t2_riftHeraldKills']]\n",
        "\n",
        "\"\"\" On réunit toutes les statistiques des équipes victorieuses. \"\"\"\n",
        "t1_win_kills.columns = ['win_towerKills','win_inhibitorKills','win_dragonKills','win_baronKills','win_riftHeraldKills']\n",
        "t2_win_kills.columns = ['win_towerKills','win_inhibitorKills','win_dragonKills','win_baronKills','win_riftHeraldKills']\n",
        "win_kills = pd.concat([t1_win_kills, t2_win_kills])\n",
        "\n",
        "\"\"\" On réunit toutes les statistiques des équipes perdantes. \"\"\"\n",
        "t1_lose_kills.columns = ['lose_towerKills','lose_inhibitorKills','lose_dragonKills','lose_baronKills','lose_riftHeraldKills']\n",
        "t2_lose_kills.columns = ['lose_towerKills','lose_inhibitorKills','lose_dragonKills','lose_baronKills','lose_riftHeraldKills']\n",
        "lose_kills = pd.concat([t1_lose_kills, t2_lose_kills])\n",
        "\n",
        "print(\"Moyenne des objectifs détruits en fonction de la victoire/défaite :\\n\")\n",
        "average_win_kills = win_kills.mean()\n",
        "average_lose_kills = lose_kills.mean()\n",
        "print(average_win_kills,\"\\n\")\n",
        "print(average_lose_kills)"
      ],
      "execution_count": null,
      "outputs": [
        {
          "output_type": "stream",
          "text": [
            "Moyenne des objectifs détruits en fonction de la victoire/défaite :\n",
            "\n",
            "win_towerKills         8.812486\n",
            "win_inhibitorKills     1.870106\n",
            "win_dragonKills        2.032289\n",
            "win_baronKills         0.638334\n",
            "win_riftHeraldKills    0.349558\n",
            "dtype: float64 \n",
            "\n",
            "lose_towerKills         2.703609\n",
            "lose_inhibitorKills     0.180097\n",
            "lose_dragonKills        0.825569\n",
            "lose_baronKills         0.167194\n",
            "lose_riftHeraldKills    0.153693\n",
            "dtype: float64\n"
          ],
          "name": "stdout"
        }
      ]
    },
    {
      "cell_type": "markdown",
      "metadata": {
        "id": "leegfW5D9yab"
      },
      "source": [
        "Ci-dessus, ce sont les moyennes des objectifs détruits de toutes les équipes gagnantes et de toutes les équipes perdantes.\n",
        "\n",
        "*   En moyenne, l'équipe victorieuse a détruit 8,8 tourelles contre 2,7 pour l'équipe perdante.\n",
        "*   En moyenne, l'équipe victorieuse a détruit 1,9 inhibiteurs contre 0.2 pour l'équipe perdante.\n",
        "*   En moyenne, l'équipe victorieuse a tué 2 dragons contre 0.8 pour l'équipe perdante.\n",
        "*   En moyenne, l'équipe victorieuse a tué 0.64 barons contre 0.17 pour l'équipe perdante.\n",
        "*   En moyenne, l'équipe victorieuse a tué 0.35 hérauts contre 0.15 pour l'équipe perdante.\n",
        "\n"
      ]
    },
    {
      "cell_type": "markdown",
      "metadata": {
        "id": "45r0IWDUbfUo"
      },
      "source": [
        "Affichons graphiquement les résultats :"
      ]
    },
    {
      "cell_type": "code",
      "metadata": {
        "id": "VxwLOW4TbeVu",
        "colab": {
          "base_uri": "https://localhost:8080/",
          "height": 254
        },
        "outputId": "13413983-439a-4f37-df32-1c8a4a19e69d"
      },
      "source": [
        "fig,axs = plt.subplots(1,5,figsize=(20,4))\n",
        "fig.subplots_adjust(hspace=0.4)\n",
        "\n",
        "axs[0].set_title(\"Tourelles\")\n",
        "axs[0].bar(['winner','looser'],[average_win_kills[0],average_lose_kills[0]],color = ['grey','grey'])\n",
        "\n",
        "axs[1].set_title(\"Inhibiteurs\")\n",
        "axs[1].bar(['winner','looser'],[average_win_kills[1],average_lose_kills[1]],color = ['dodgerblue','dodgerblue'])\n",
        "\n",
        "axs[2].set_title(\"Dragons\")\n",
        "axs[2].bar(['winner','looser'],[average_win_kills[2],average_lose_kills[2]],color = ['orangered','orangered'])\n",
        "\n",
        "axs[3].set_title(\"Barons\")\n",
        "axs[3].bar(['winner','looser'],[average_win_kills[3],average_lose_kills[3]],color = ['darkviolet','darkviolet'])\n",
        "\n",
        "axs[4].set_title(\"Hérauts\")\n",
        "axs[4].bar(['winner','looser'],[average_win_kills[4],average_lose_kills[4]],color = ['blueviolet','blueviolet']);"
      ],
      "execution_count": null,
      "outputs": [
        {
          "output_type": "display_data",
          "data": {
            "image/png": "[encoded data removed]",
            "text/plain": [
              "<Figure size 1440x288 with 5 Axes>"
            ]
          },
          "metadata": {
            "tags": [],
            "needs_background": "light"
          }
        }
      ]
    },
    {
      "cell_type": "markdown",
      "metadata": {
        "id": "uRitO1P_hUeU"
      },
      "source": [
        "Affichons les rapports entre les objectifs accomplis de l'équipe gagnante et de l'équipe perdante :"
      ]
    },
    {
      "cell_type": "code",
      "metadata": {
        "id": "cgmibld0g8bg",
        "colab": {
          "base_uri": "https://localhost:8080/",
          "height": 173
        },
        "outputId": "c8f76d8e-f805-4d54-acba-f8982b70ca14"
      },
      "source": [
        "print(\"Rapport Tourelles Victoire/Défaite :\",average_win_kills[0]/average_lose_kills[0],'\\n')\n",
        "print(\"Rapport Inhibiteurs Victoire/Défaite :\",average_win_kills[1]/average_lose_kills[1],'\\n')\n",
        "print(\"Rapport Dragons Victoire/Défaite :\",average_win_kills[2]/average_lose_kills[2],'\\n')\n",
        "print(\"Rapport Barons Victoire/Défaite :\",average_win_kills[3]/average_lose_kills[3],'\\n')\n",
        "print(\"Rapport Hérauts Victoire/Défaite :\",average_win_kills[4]/average_lose_kills[4])"
      ],
      "execution_count": null,
      "outputs": [
        {
          "output_type": "stream",
          "text": [
            "Rapport Tourelles Victoire/Défaite : 3.2595272764711942 \n",
            "\n",
            "Rapport Inhibiteurs Victoire/Défaite : 10.383859571649369 \n",
            "\n",
            "Rapport Dragons Victoire/Défaite : 2.461682963248398 \n",
            "\n",
            "Rapport Barons Victoire/Défaite : 3.817933166845047 \n",
            "\n",
            "Rapport Hérauts Victoire/Défaite : 2.274385510996119\n"
          ],
          "name": "stdout"
        }
      ]
    },
    {
      "cell_type": "markdown",
      "metadata": {
        "id": "vX_HSS8QiPbh"
      },
      "source": [
        "**Analyse de nos résultats :**\n",
        "\n",
        "\n",
        "*   En moyenne, l'équipe victorieuse détruit 3 fois plus de tourelles que l'équipe perdante.\n",
        "*   Il est très rare que l'équipe perdante détruise un inhibiteur au cours de la partie.\n",
        "*   Les Dragons sont plus partagés au cours d'une partie. Il n'est pas rare que chaque équipe ait réussit à tuer au moins un dragon.\n",
        "*   Le baron nashor (objectif de fin de partie) permet bien souvent de débloquer la victoire. Néanmois beaucoup de parties se terminent avant qu'aucune des 2 équipes n'ait tué un baron nashor.\n",
        "*   Le héraut de la faille est un objectif moins décisif et plus rarement tué par les joueurs.\n",
        " \n",
        " Ces résultats nous permettent de nuancer les corrélations obtenues dans la partie suivante. Nous verrons que le nombre de dragon tués est plus corrélé à la victoire que le nombre de baron tués. Cependant, cela ne veut pas dire que les dragons sont des objectifs plus importants que les barons afin d'obtenir la victoire de son équipe.\n",
        "\n",
        "\n",
        "\n",
        "\n",
        "\n"
      ]
    },
    {
      "cell_type": "markdown",
      "metadata": {
        "id": "NS52tDEPzc8b"
      },
      "source": [
        "##### Premiers objectifs"
      ]
    },
    {
      "cell_type": "markdown",
      "metadata": {
        "id": "irT1Doi_4Ors"
      },
      "source": [
        "Dans cette partie, nous allons étudions les premiers objectifs des parties."
      ]
    },
    {
      "cell_type": "code",
      "metadata": {
        "id": "VfFTp7DquTP-"
      },
      "source": [
        "\"\"\" variables pour extraire les colonnes \"\"\"\n",
        "first_blood = ['firstBlood']\n",
        "first_tower = ['firstTower']\n",
        "first_inhib = ['firstInhibitor']\n",
        "first_dragon = ['firstDragon']\n",
        "first_baron = ['firstBaron']\n",
        "first_herald = ['firstRiftHerald']\n",
        "\n",
        "\"\"\" on compte les premiers objectifs selon quel équipe gagne \"\"\"\n",
        "first_blood_where_t1_win = t1_win[first_blood].apply(pd.value_counts)\n",
        "first_blood_where_t2_win = t2_win[first_blood].apply(pd.value_counts)\n",
        "first_tower_where_t1_win = t1_win[first_tower].apply(pd.value_counts)\n",
        "first_tower_where_t2_win = t2_win[first_tower].apply(pd.value_counts)\n",
        "first_inhib_where_t1_win = t1_win[first_inhib].apply(pd.value_counts)\n",
        "first_inhib_where_t2_win = t2_win[first_inhib].apply(pd.value_counts)\n",
        "first_dragon_where_t1_win = t1_win[first_dragon].apply(pd.value_counts)\n",
        "first_dragon_where_t2_win = t2_win[first_dragon].apply(pd.value_counts)\n",
        "first_baron_where_t1_win = t1_win[first_baron].apply(pd.value_counts)\n",
        "first_baron_where_t2_win = t2_win[first_baron].apply(pd.value_counts)\n",
        "first_herald_where_t1_win = t1_win[first_herald].apply(pd.value_counts)\n",
        "first_herald_where_t2_win = t2_win[first_herald].apply(pd.value_counts)\n",
        "\n",
        "\"\"\" on ajoute les premiers objectifs de l'équipe 1 et 2 gagnantes ensemble, et ceux de l'équipe 1 et 2 perdantes ensemble. \"\"\"\n",
        "first_blood_winner = first_blood_where_t1_win.loc[1]['firstBlood'] + first_blood_where_t2_win.loc[2]['firstBlood']\n",
        "first_blood_looser = first_blood_where_t1_win.loc[2]['firstBlood'] + first_blood_where_t2_win.loc[1]['firstBlood']\n",
        "first_tower_winner = first_tower_where_t1_win.loc[1]['firstTower'] + first_tower_where_t2_win.loc[2]['firstTower']\n",
        "first_tower_looser = first_tower_where_t1_win.loc[2]['firstTower'] + first_tower_where_t2_win.loc[1]['firstTower']\n",
        "first_inhib_winner = first_inhib_where_t1_win.loc[1]['firstInhibitor'] + first_inhib_where_t2_win.loc[2]['firstInhibitor']\n",
        "first_inhib_looser = first_inhib_where_t1_win.loc[2]['firstInhibitor'] + first_inhib_where_t2_win.loc[1]['firstInhibitor']\n",
        "first_dragon_winner = first_dragon_where_t1_win.loc[1]['firstDragon'] + first_dragon_where_t2_win.loc[2]['firstDragon']\n",
        "first_dragon_looser = first_dragon_where_t1_win.loc[2]['firstDragon'] + first_dragon_where_t2_win.loc[1]['firstDragon']\n",
        "first_baron_winner = first_baron_where_t1_win.loc[1]['firstBaron'] + first_baron_where_t2_win.loc[2]['firstBaron']\n",
        "first_baron_looser = first_baron_where_t1_win.loc[2]['firstBaron'] + first_baron_where_t2_win.loc[1]['firstBaron']\n",
        "first_herald_winner = first_herald_where_t1_win.loc[1]['firstRiftHerald'] + first_herald_where_t2_win.loc[2]['firstRiftHerald']\n",
        "first_herald_looser = first_herald_where_t1_win.loc[2]['firstRiftHerald'] + first_herald_where_t2_win.loc[1]['firstRiftHerald']\n",
        "\n",
        "first_tower_none = first_tower_where_t1_win.loc[0]['firstTower'] + first_tower_where_t2_win.loc[0]['firstTower']\n",
        "first_inhib_none = first_inhib_where_t1_win.loc[0]['firstInhibitor'] + first_inhib_where_t2_win.loc[0]['firstInhibitor']\n",
        "first_dragon_none = first_dragon_where_t1_win.loc[0]['firstDragon'] + first_dragon_where_t2_win.loc[0]['firstDragon']\n",
        "first_baron_none = first_baron_where_t1_win.loc[0]['firstBaron'] + first_baron_where_t2_win.loc[0]['firstBaron']\n",
        "first_herald_none = first_herald_where_t1_win.loc[0]['firstRiftHerald'] + first_herald_where_t2_win.loc[0]['firstRiftHerald']"
      ],
      "execution_count": null,
      "outputs": []
    },
    {
      "cell_type": "code",
      "metadata": {
        "id": "G6ljd-9uzqiJ",
        "colab": {
          "base_uri": "https://localhost:8080/",
          "height": 212
        },
        "outputId": "5995d7bf-e60d-4a95-d5da-6069de3c302b"
      },
      "source": [
        "fig,axs = plt.subplots(1,6,figsize=(24,4))\n",
        "fig.subplots_adjust(hspace=0.4)\n",
        "\n",
        "axs[0].set_title(\"Premier Sang\")\n",
        "axs[0].bar(['winner','looser'],[first_blood_winner,first_blood_looser],color = ['red','red'])\n",
        "\n",
        "axs[1].set_title(\"Première Tourelle\")\n",
        "axs[1].bar(['winner','looser','none'],[first_tower_winner,first_tower_looser,first_tower_none],color = ['grey','grey','black'])\n",
        "\n",
        "axs[2].set_title(\"Premier Inhibiteur\")\n",
        "axs[2].bar(['winner','looser','none'],[first_inhib_winner,first_inhib_looser,first_inhib_none],color = ['dodgerblue','dodgerblue','black'])\n",
        "\n",
        "axs[3].set_title(\"Premier Dragon\")\n",
        "axs[3].bar(['winner','looser','none'],[first_dragon_winner,first_dragon_looser,first_dragon_none],color = ['orangered','orangered','black'])\n",
        "\n",
        "axs[4].set_title(\"Premier Baron\")\n",
        "axs[4].bar(['winner','looser','none'],[first_baron_winner,first_baron_looser,first_baron_none],color = ['darkviolet','darkviolet','black']);\n",
        "\n",
        "axs[5].set_title(\"Premier Héraut\")\n",
        "axs[5].bar(['winner','looser','none'],[first_herald_winner,first_herald_looser,first_herald_none],color = ['blueviolet','blueviolet','black']);"
      ],
      "execution_count": null,
      "outputs": [
        {
          "output_type": "display_data",
          "data": {
            "image/png": "[encoded data removed]",
            "text/plain": [
              "<Figure size 1728x288 with 6 Axes>"
            ]
          },
          "metadata": {
            "tags": [],
            "needs_background": "light"
          }
        }
      ]
    },
    {
      "cell_type": "code",
      "metadata": {
        "id": "OPjyqavL4mYH",
        "colab": {
          "base_uri": "https://localhost:8080/",
          "height": 330
        },
        "outputId": "80abb8de-0782-4c48-da89-db993658a525"
      },
      "source": [
        "nb_total = 51490\n",
        "print(\"Pourcentage Premier Sang : \\n \",\"winner : \",(first_blood_winner/nb_total)*100,\"%    looser : \",(first_blood_looser/nb_total)*100,\"% \\n\")\n",
        "print(\"Pourcentage Première Tourelle : \\n \",\"winner : \",(first_tower_winner/nb_total)*100,\"%    looser : \",(first_tower_looser/nb_total)*100,\"%     none : \",(first_tower_none/nb_total)*100,\"%\\n\")\n",
        "print(\"Pourcentage Premier Inhibiteur : \\n \",\"winner : \",(first_inhib_winner/nb_total)*100,\"%    looser : \",(first_inhib_looser/nb_total)*100,\"%     none : \",(first_inhib_none/nb_total)*100,\"%\\n\")\n",
        "print(\"Pourcentage Premier Dragon : \\n \",\"winner : \",(first_dragon_winner/nb_total)*100,\"%    looser : \",(first_dragon_looser/nb_total)*100,\"%     none : \",(first_dragon_none/nb_total)*100,\"%\\n\")\n",
        "print(\"Pourcentage Premier Baron : \\n \",\"winner : \",(first_baron_winner/nb_total)*100,\"%    looser : \",(first_baron_looser/nb_total)*100,\"%     none : \",(first_baron_none/nb_total)*100,\"%\\n\")\n",
        "print(\"Pourcentage Premier Héraut : \\n \",\"winner : \",(first_herald_winner/nb_total)*100,\"%    looser : \",(first_herald_looser/nb_total)*100,\"%     none : \",(first_herald_none/nb_total)*100,\"%\\n\")"
      ],
      "execution_count": null,
      "outputs": [
        {
          "output_type": "stream",
          "text": [
            "Pourcentage Premier Sang : \n",
            "  winner :  57.68692950087395 %    looser :  39.99223150126238 % \n",
            "\n",
            "Pourcentage Première Tourelle : \n",
            "  winner :  69.15323363759953 %    looser :  28.490969120217517 %     none :  0.0349582443192853 %\n",
            "\n",
            "Pourcentage Premier Inhibiteur : \n",
            "  winner :  79.9980578753156 %    looser :  7.813167605360265 %     none :  9.867935521460478 %\n",
            "\n",
            "Pourcentage Premier Dragon : \n",
            "  winner :  65.38939599922315 %    looser :  30.724412507282967 %     none :  1.5653524956302196 %\n",
            "\n",
            "Pourcentage Premier Baron : \n",
            "  winner :  48.9357156729462 %    looser :  11.720722470382599 %     none :  37.02272285880753 %\n",
            "\n",
            "Pourcentage Premier Héraut : \n",
            "  winner :  34.14449407651971 %    looser :  15.01262381044863 %     none :  48.522043115167996 %\n",
            "\n"
          ],
          "name": "stdout"
        }
      ]
    },
    {
      "cell_type": "markdown",
      "metadata": {
        "id": "eQ4bz4mJ7hdl"
      },
      "source": [
        "**Observations :**\n",
        "\n",
        "*   L'équipe victorieuse détruit la première tourelle 70% du temps. C'est un très bon indicateur à prendre en compte pour un joueur. C'est assez révélateur de l'importance de détruire les tourelles dans le jeu et d'être en avance par rapport à son adversaire sur ces objectifs.\n",
        "*   L'équipe gagnante détruit le premier inhibiteur 80% du temps. Ce n'est pas surprenant quand l'on sait que c'est un prérequis à la victoire. Quand une équipe détruit le premier inhibiteur de la partie, elle est en très bonne voie pour remporter la partie. Dans presque 10% des parties, aucun inhibiteur n'a été détruit. Une des deux équipes a abandonnée par réddition.\n",
        "*   Au moins un dragon est tué dans presque toutes les parties. L'équipe gagnante tue le premier dragon 65% du temps.\n",
        "*   Le baron nashor étant un objectif de fin de partie, ce n'est pas étonnant qu'il ne soit jamais fait dans 37% des parties. L'équipe gagnante récupère le premier baron 5 fois sur 6 lorsqu'il est fait !\n",
        "*   Le héraut de la faille n'est jamais tué dans presque 50% des parties ! C'est loin d'être un objectif majeur qui intéresse grandement les joueurs. Cependant, je me dois de vous rappeler que le héraut de la faille disparaît de la carte à 20 minutes de jeu pour laisser sa place au baron nashor.\n",
        " \n",
        "\n",
        "\n",
        "\n"
      ]
    },
    {
      "cell_type": "markdown",
      "metadata": {
        "id": "QT71PW7Q46ht"
      },
      "source": [
        "# Corrélations"
      ]
    },
    {
      "cell_type": "markdown",
      "metadata": {
        "id": "Psjm64u9KB8c"
      },
      "source": [
        "Comme expliqué précédement, nous allons enlever les parties qui n'ont pas été réellement perdues ou gagnées (*remakes*) pour l'analyse des corrélations et la création de data-modèles pour prédire la victoire."
      ]
    },
    {
      "cell_type": "markdown",
      "metadata": {
        "id": "UXbcRHmf2eiE"
      },
      "source": [
        "Tableau des corrélations entre la victoire et les premiers objectifs :"
      ]
    },
    {
      "cell_type": "code",
      "metadata": {
        "id": "j7Seue3mzU7D",
        "colab": {
          "base_uri": "https://localhost:8080/",
          "height": 508
        },
        "outputId": "d0d4f359-0c58-4972-c738-3e5d4527deb2"
      },
      "source": [
        "games = df.loc[df[\"gameDuration\"]>240]\n",
        "corr = games[['winner','firstBlood','firstTower','firstInhibitor','firstBaron','firstDragon','firstRiftHerald']].corr()\n",
        "fig = plt.figure(figsize=(8,8))\n",
        "sb.heatmap(np.round(corr,2), annot=True,square=True,cmap=\"jet\");"
      ],
      "execution_count": null,
      "outputs": [
        {
          "output_type": "display_data",
          "data": {
            "image/png": "[encoded data removed]",
            "text/plain": [
              "<Figure size 576x576 with 2 Axes>"
            ]
          },
          "metadata": {
            "tags": [],
            "needs_background": "light"
          }
        }
      ]
    },
    {
      "cell_type": "markdown",
      "metadata": {
        "id": "Qe1Ym8s6MQfZ"
      },
      "source": [
        "**Analyse des corrélations :**  \n",
        "\n",
        "\n",
        "\n",
        "*   Premier Sang (firstBlood [EN]) : **0.18** (très faible corrélation)\n",
        "*   Première tourelle (firstTower [EN]) : **0.42** (corrélation moyenne)\n",
        "*   Premier inhibiteur (firstinhibitor [EN]) : **0.57** (corrélation moyenne +)\n",
        "*   Premier Baron (firstBaron [EN]) : **0.27** (corrélation faible)\n",
        "*   Premier Dragon (firstDragon [EN]) : **0.34** (corralation faible)\n",
        "*   Premier Héraut de la Faille (firstRiftHerald [EN]) : **0.12** (corrélation très faible)\n",
        "\n"
      ]
    },
    {
      "cell_type": "markdown",
      "metadata": {
        "id": "_68jUD98N22d"
      },
      "source": [
        "Une petite explication ici est importante : les premiers objectifs n'ont pas l'air d'impacter très fortemant la partie au vue des résultats mais détrompez-vous. Si le premier Baron a une corrélation faible par exemple, c'est parce que c'est un objectif de fin de partie ! Le Baron Nashor apparaît à partir de 20 minutes de jeu et il faut généralement encore attendre un peu pour être en capacité de le vaincre !\n",
        "Je rappelle qu'il y a beaucoup de parties qui sont gagnées par abandon de l'équipe adverse.\n",
        "Prenons un exemple : si l'équipe 1 a déjà détruit 6 tourelles quand l'équipe 2 n'en a toujours pas détruit une seule, il est probable de voir l'équipe 2 abandonner par réddition. Néanmois on peut être quasi certain que l'équipe 1 aurait pris le premier inhibiteur par exemple.\n",
        "\n",
        "On ne peut pas créer de data modèle solide seulement à partir des premiers objectifs. Il ne sont pas très révélateurs en ce qui concerne la domination d'une équipe bien qu'ils donnent un avantage certain."
      ]
    },
    {
      "cell_type": "markdown",
      "metadata": {
        "id": "jGFvjeBkLl8S"
      },
      "source": [
        "Tableau des corrélations entre la victoire et le nombre d'objectifs ou de bâtiments détruits :"
      ]
    },
    {
      "cell_type": "code",
      "metadata": {
        "id": "SvnEp3xqTq7u",
        "colab": {
          "base_uri": "https://localhost:8080/",
          "height": 620
        },
        "outputId": "601e7d07-5fb5-479a-bd4d-ec4114e318f5"
      },
      "source": [
        "fig = plt.figure(figsize=(10,10))\n",
        "sb.heatmap(games[['t1_towerKills','t1_inhibitorKills','t1_dragonKills','t1_baronKills','t1_riftHeraldKills',\n",
        "                  't2_towerKills','t2_inhibitorKills','t2_dragonKills','t2_baronKills','t2_riftHeraldKills','winner']].corr(),annot=True,square=True,cmap=\"jet\");"
      ],
      "execution_count": null,
      "outputs": [
        {
          "output_type": "display_data",
          "data": {
            "image/png": "[encoded data removed]",
            "text/plain": [
              "<Figure size 720x720 with 2 Axes>"
            ]
          },
          "metadata": {
            "tags": [],
            "needs_background": "light"
          }
        }
      ]
    },
    {
      "cell_type": "markdown",
      "metadata": {
        "id": "bJXlo_uF9-xk"
      },
      "source": [
        "**Analyse des corrélations :**  \n",
        "\n",
        "En ayant au préalable enlevé les fausses victoires (remakes) on obtient des résultats un peu plus précis.\n",
        "\n",
        "*   Nombre de tourelles détruites (towerKills [EN]) : environ **0.805** (0.8 t1 et 0.81 t2)\n",
        "*   Nombre d'inhibiteurs détruits (inhibitorKills [EN]) : environ **0.665** (0.65 t1 et 0.66 t2)\n",
        "*   Nombre de dragons tués (dragonKills [EN]) : environ **0.5** (0.49 t1 et 0.51 t2)\n",
        "*   Nombre de barons tués (baronKills [EN]) : environ **0.395** (0.38 t1 et 0.41 t2)\n",
        "*   Nombre de héraut de la faille tués (riftHeraldKills [EN]) : envrion **0.225** (0.22 t1 et 0.23 t2)\n",
        "\n",
        "\n"
      ]
    },
    {
      "cell_type": "markdown",
      "metadata": {
        "id": "xMvjtQilFDc-"
      },
      "source": [
        "En prenant en compte les résultats obtenus, nous allons entraîner nos futurs modèles pour prédire la victoire d'une équipe grâce aux paramètres du nombre de tourelles détruites et du nombre d'inhibiteurs détruits. Nous verrons ensuite si l'ajout du nombre de dragons tués ou encore le nombre de barons tués, permet d'améliorer notre modèle.\n",
        "\n",
        "Grâce à mon expérience sur le jeu, je suis sûr que je ne dois pas seulement utiliser comme paramètre \"le nombre de tourelles détruites\" mais bien \"le nombre de tourelles détruites\" + \"le nombre d'inhibiteurs détruits\". Si une équipe veut gagner une partie, elle sera obligée de détruire au moins 5 tourelles et 1 inhibiteur. \n",
        "\n",
        "Voici un scénario envisageable :\n",
        "\n",
        "*   Équipe 1 : [9 tourelles détruites, 0 inhibiteur détruit]\n",
        "*   Équipe 2 : [5 tourelles détruites, 1 inhibiteur détruit]\n",
        "\n",
        "L'équipe 2 a alors gagné malgré que le nombre de tourelles qu'elle a détruites soit très inférieur à celle de l'équipe 1.\n",
        "\n",
        "On pourrait alors se dire que si une équipe n'a détruit aucun inhibiteur, elle a forcément perdu. Néanmois ce serait oublier que beaucoup de parties sont gagnées alors qu'aucune équipe n'a détruit d'inhibiteur. Et cela à cause de la réddition ! Si la réddition n'existait pas sur le jeu, on pourrait traiter beaucoup de parties très facilement. Malheureusement ce n'est pas le cas.\n",
        "\n",
        "Néanmois ces deux paramètres regroupés restent d'excellents indicateurs pour savoir si une équipe a gagné ou perdu et l'analyse des corrélations nous le confirme bien.\n",
        "\n"
      ]
    },
    {
      "cell_type": "markdown",
      "metadata": {
        "id": "ifXRjvVfXMYg"
      },
      "source": [
        "# Modèles de Régression/Classification"
      ]
    },
    {
      "cell_type": "markdown",
      "metadata": {
        "id": "fsP43HEisDCr"
      },
      "source": [
        "Le classification peut être vue comme un cas particulier de régression où les valeurs à prédire sont discrètes. Dans notre étude, on veut prédire la victoire ou la défaite d'une équipe, soit la valeur de la variable \"winner\" (soit 1 ou 2). Je pense que l'on peut dire que nous sommes dans un cas particulier où l'on fait à la fois de la régression et de la classification.\n",
        "\n",
        "Notre variable cible est qualitative. La majorité de nos paramètres seront quantitatifs (on regarde le nombre de constructions ou objectifs détruits par une équipe) mais l'on peut aussi essayer de se servir des variables qualitatives de notre dataframe (Quelle équipe à pris la première tourelle, dragon, baron, ...)."
      ]
    },
    {
      "cell_type": "markdown",
      "metadata": {
        "id": "HZF_r2QsF9yC"
      },
      "source": [
        "### Imports"
      ]
    },
    {
      "cell_type": "code",
      "metadata": {
        "id": "ZeFMZlJPZNGZ"
      },
      "source": [
        "from sklearn.linear_model import LogisticRegression\n",
        "from sklearn.model_selection import train_test_split\n",
        "from sklearn.metrics import classification_report\n",
        "from sklearn.metrics import confusion_matrix\n",
        "from sklearn.metrics import plot_confusion_matrix\n",
        "from sklearn.tree import DecisionTreeRegressor\n",
        "from sklearn.tree import DecisionTreeClassifier\n",
        "from sklearn.model_selection import GridSearchCV\n",
        "from sklearn.model_selection import cross_val_score"
      ],
      "execution_count": null,
      "outputs": []
    },
    {
      "cell_type": "markdown",
      "metadata": {
        "id": "hCjNfh0tYqq2"
      },
      "source": [
        "### Régression Logistique"
      ]
    },
    {
      "cell_type": "markdown",
      "metadata": {
        "id": "vf3tlk_lV2TC"
      },
      "source": [
        "On va créer un modèle logit (régression logistique). Soit $Y$ la variable aléatoire à prédire qui sera le numéro (1 ou 2) de l'équipe victorieuse et $X = (X_1,X_2, X_3, X_4)$ les variables prédictives qui seront respectivement le nombre de tourelles détruites par l'équipe 1 et 2 et le nombre d'inhibiteurs détruits par l'équipe 1 et 2 :\n",
        "\n",
        "*   $X_1 = t1\\_towerKills$\n",
        "*   $X_2 = t2\\_towerKills$\n",
        "*   $X_3 = t1\\_inhibitorKills$\n",
        "*   $X_4 = t2\\_inhibitorKills$\n",
        "*   $Y \\; \\; = winner$\n",
        "\n",
        "Dans notre modèle logit, un \"succès\" correspondra à une victoire de l'équipe 1 (et une défaite de l'équipe 2) et un \"échec\" correspondra à une défaite de l'équipe 1 (et donc une victoire de l'équipe 2) : \n",
        "\n",
        "*   $Y = 1$ $\\iff$ Équipe 1 gagne.\n",
        "*   $Y = 2$ $\\iff$ Équipe 1 perd.\n",
        "\n"
      ]
    },
    {
      "cell_type": "markdown",
      "metadata": {
        "id": "mfkNgnHDGev6"
      },
      "source": [
        "##### Création de nos échantillons et de notre modèle"
      ]
    },
    {
      "cell_type": "code",
      "metadata": {
        "id": "tmvShDd1Xg97"
      },
      "source": [
        "\"\"\" Création de nos échantillons pour entrainer notre modèle logit et pour le tester \"\"\"\n",
        "\n",
        "nb_total_parties = games.shape[0]\n",
        "Y = games['winner']\n",
        "Y = Y.values\n",
        "X = games[['t1_towerKills','t2_towerKills','t1_inhibitorKills','t2_inhibitorKills']]\n",
        "X = X.values\n",
        "\n",
        "X_train_set, X_test_set = train_test_split(X, test_size=0.3, random_state=42, shuffle=True)\n",
        "\n",
        "Y_train_set, Y_test_set = train_test_split(Y, test_size=0.3, random_state=42, shuffle=True)"
      ],
      "execution_count": null,
      "outputs": []
    },
    {
      "cell_type": "code",
      "metadata": {
        "id": "0r6R2wDjLCAM"
      },
      "source": [
        "\"\"\" Création de notre modèle logit \"\"\" \n",
        "model_logit = LogisticRegression()"
      ],
      "execution_count": null,
      "outputs": []
    },
    {
      "cell_type": "markdown",
      "metadata": {
        "id": "WeDy0K5jGn8a"
      },
      "source": [
        "##### Étude des hyperparamètres"
      ]
    },
    {
      "cell_type": "code",
      "metadata": {
        "id": "uls3GCtvOX-7"
      },
      "source": [
        "#help(LogisticRegression())"
      ],
      "execution_count": null,
      "outputs": []
    },
    {
      "cell_type": "markdown",
      "metadata": {
        "id": "0YgQn2oyRBzv"
      },
      "source": [
        "Il y a beaucoup de paramètres pour le modèle de régression logistique, certains solveurs ne supportent que certains paramètres. Du fait de mon manque d'expérience, je ne sais pas bien configurer le modèle et donc il est difficile de donner un ensemble de valeurs particulières à tester comme arguments."
      ]
    },
    {
      "cell_type": "code",
      "metadata": {
        "id": "Gc0HApSiHHdB"
      },
      "source": [
        "penalty = [\"l2\"] #'elasticnet',#\"l1\",\n",
        "# The ‘newton-cg’, ‘sag’ and ‘lbfgs’ solvers support only l2 penalties.\n",
        "# The ‘elasticnet’ solver is only supported by the ‘saga’ solver.\n",
        "\n",
        "#fit_intercept = [\"True\"]\n",
        "solver = [\"lbfgs\"] #\"liblinear\" #\"newton-cg\" \"sag\",\"saga\"\n",
        "multi_class = [\"auto\",\"ovr\",\"multinomial\"]\n",
        "\n",
        "#grid_logisticregression=GridSearchCV(estimator=model_logit,cv=10)"
      ],
      "execution_count": null,
      "outputs": []
    },
    {
      "cell_type": "code",
      "metadata": {
        "id": "x_XCdFUtMwWo"
      },
      "source": [
        "#grid_logisticregression.fit(X_train_set,Y_train_set);\n",
        "#print(\"best score: \", grid_logisticregression.best_score_)\n",
        "#print(\"best param: \", grid_logisticregression.best_params_)"
      ],
      "execution_count": null,
      "outputs": []
    },
    {
      "cell_type": "markdown",
      "metadata": {
        "id": "QiFGzfJfG46d"
      },
      "source": [
        "##### Test de notre modèle final"
      ]
    },
    {
      "cell_type": "code",
      "metadata": {
        "id": "5FCKcH8tU8ei",
        "colab": {
          "base_uri": "https://localhost:8080/",
          "height": 104
        },
        "outputId": "d8f888c0-df79-4e28-9013-d3d1a36ab0a9"
      },
      "source": [
        "\"\"\" Entraînement de notre modèle logit \"\"\"\n",
        "model_logit.fit(X_train_set, Y_train_set)"
      ],
      "execution_count": null,
      "outputs": [
        {
          "output_type": "execute_result",
          "data": {
            "text/plain": [
              "LogisticRegression(C=1.0, class_weight=None, dual=False, fit_intercept=True,\n",
              "                   intercept_scaling=1, l1_ratio=None, max_iter=100,\n",
              "                   multi_class='auto', n_jobs=None, penalty='l2',\n",
              "                   random_state=None, solver='lbfgs', tol=0.0001, verbose=0,\n",
              "                   warm_start=False)"
            ]
          },
          "metadata": {
            "tags": []
          },
          "execution_count": 242
        }
      ]
    },
    {
      "cell_type": "code",
      "metadata": {
        "id": "ATiZEDqNNruu",
        "colab": {
          "base_uri": "https://localhost:8080/",
          "height": 34
        },
        "outputId": "10085081-d29a-486a-b311-97304711916a"
      },
      "source": [
        "\"\"\" Test de notre modèle logit \"\"\"\n",
        "Y_predictions_set = model_logit.predict(X_test_set)\n",
        "Y_predictions_set"
      ],
      "execution_count": null,
      "outputs": [
        {
          "output_type": "execute_result",
          "data": {
            "text/plain": [
              "array([2, 2, 1, ..., 1, 1, 2])"
            ]
          },
          "metadata": {
            "tags": []
          },
          "execution_count": 243
        }
      ]
    },
    {
      "cell_type": "code",
      "metadata": {
        "id": "gOp7zLZ-OkIJ",
        "colab": {
          "base_uri": "https://localhost:8080/",
          "height": 173
        },
        "outputId": "de20ede7-4491-4a9e-8daa-9cfda9bff963"
      },
      "source": [
        "print(classification_report(Y_test_set, Y_predictions_set))"
      ],
      "execution_count": null,
      "outputs": [
        {
          "output_type": "stream",
          "text": [
            "              precision    recall  f1-score   support\n",
            "\n",
            "           1       0.97      0.97      0.97      7660\n",
            "           2       0.97      0.97      0.97      7429\n",
            "\n",
            "    accuracy                           0.97     15089\n",
            "   macro avg       0.97      0.97      0.97     15089\n",
            "weighted avg       0.97      0.97      0.97     15089\n",
            "\n"
          ],
          "name": "stdout"
        }
      ]
    },
    {
      "cell_type": "markdown",
      "metadata": {
        "id": "mu4L1FJ5_KMB"
      },
      "source": [
        "Affichons la matrice de confusion pour évaluer notre modèle. Il est conseillé de construire cette matrice sur un échantillon de test qui n'aura pas participé à la construction du modèle."
      ]
    },
    {
      "cell_type": "code",
      "metadata": {
        "id": "gBFkIsqOHV0C",
        "colab": {
          "base_uri": "https://localhost:8080/",
          "height": 52
        },
        "outputId": "4055fd49-1e0b-4bf7-ebad-594f17fb6945"
      },
      "source": [
        "\"\"\" Première manière de l'afficher (un peu plus précis) \"\"\"\n",
        "confusion_matrix(Y_test_set,Y_predictions_set)"
      ],
      "execution_count": null,
      "outputs": [
        {
          "output_type": "execute_result",
          "data": {
            "text/plain": [
              "array([[7400,  260],\n",
              "       [ 209, 7220]])"
            ]
          },
          "metadata": {
            "tags": []
          },
          "execution_count": 245
        }
      ]
    },
    {
      "cell_type": "code",
      "metadata": {
        "id": "WDLVfYSCEqRy",
        "colab": {
          "base_uri": "https://localhost:8080/",
          "height": 279
        },
        "outputId": "0985b081-ab69-4e12-86e9-aed42e3652a8"
      },
      "source": [
        "\"\"\" Deuxième manière de l'afficher (un peu plus joli) \"\"\"\n",
        "plot_confusion_matrix(model_logit, X_test_set, Y_test_set);"
      ],
      "execution_count": null,
      "outputs": [
        {
          "output_type": "display_data",
          "data": {
            "image/png": "[encoded data removed]",
            "text/plain": [
              "<Figure size 432x288 with 2 Axes>"
            ]
          },
          "metadata": {
            "tags": [],
            "needs_background": "light"
          }
        }
      ]
    },
    {
      "cell_type": "code",
      "metadata": {
        "id": "YJp5XQtUKF-G",
        "colab": {
          "base_uri": "https://localhost:8080/",
          "height": 34
        },
        "outputId": "3da80180-e066-4851-f3ec-105107984df8"
      },
      "source": [
        "\"\"\" Pourcentage de bonnes prédictions \"\"\"\n",
        "print((14620/15089)*100)"
      ],
      "execution_count": null,
      "outputs": [
        {
          "output_type": "stream",
          "text": [
            "96.89177546557094\n"
          ],
          "name": "stdout"
        }
      ]
    },
    {
      "cell_type": "markdown",
      "metadata": {
        "id": "UUePAkXRFKdf"
      },
      "source": [
        "**Analyse :**\n",
        "\n",
        "*   Sur les 15089 parties, notre modèle a prédit 14620 bons résultats et 469 mauvais résultats, soit un taux de 96,89% de bons résultats.\n",
        "*   Sur les 7660 victoires de l'équipe 1 prédits, 7400 sont correctes (vrais positifs) et 260 sont fausses (faux négatifs).\n",
        "*   Sur les 7429 défaites de l'équipe 1 prédits, 7220 sont correctes (vrais négatifs) et 209 sont fausses (faux positifs).\n",
        "\n"
      ]
    },
    {
      "cell_type": "markdown",
      "metadata": {
        "id": "RgxFNQ2HFgKn"
      },
      "source": [
        "##### Amélioration "
      ]
    },
    {
      "cell_type": "markdown",
      "metadata": {
        "id": "QhQczqkaMjKl"
      },
      "source": [
        "On va tester d'autres modèles en ajoutant le nombre de dragons, de barons ou encore d'hérauts tués. On observe de très légères variations par rapport à nos précédents résultats qui sont négligeables. \n",
        "\n",
        "On observe néanmoins quelque chose d'intrigant : \n",
        "Quand on ajoute le nombre de dragons tués par chaque équipe, obtient des résultats moins bons.\n",
        "Quand on ajoute le nombre de baron tués par chaque équipe, on obtient des résultats meilleurs.\n",
        "C'est étonnant quand l'on sait que le nombre de dragons tués est plus corrélé à la victoire (0.5) que le nombre de baron tué (0.395). \n",
        "\n",
        "Une explication est que le Baron Nashor est un objectif de fin de partie qui a beaucoup plus d'impact qu'un dragon. Comme c'est un objectif de fin de partie, il y a beaucoup plus de dragons tués dans une partie que de baron nashor. Cependant, quand une équipe tue un baron nashor, elle obtient un avantage considérable qui permet généralement de détruire avec beaucoup plus de facilité les dernières défenses adverses.\n",
        "\n",
        "Pour plus de compréhension, n'hésitez pas à revoir la partie \"analyse statistique des objectifs\"."
      ]
    },
    {
      "cell_type": "code",
      "metadata": {
        "id": "eqJXy7CaGCBC",
        "colab": {
          "base_uri": "https://localhost:8080/",
          "height": 52
        },
        "outputId": "d54a922f-c2b2-4a73-b375-130f19257cf9"
      },
      "source": [
        "\"\"\" 2ème VERSION : AJOUT DES DRAGONKILLS\"\"\"\n",
        "\n",
        "\"\"\" Création de nos échantillons pour entrainer notre modèle logit et pour le tester \"\"\"\n",
        "\n",
        "nb_total_parties = games.shape[0]\n",
        "Y = games['winner']\n",
        "Y = Y.values\n",
        "X = games[['t1_towerKills','t2_towerKills','t1_inhibitorKills','t2_inhibitorKills','t1_dragonKills','t2_dragonKills']]\n",
        "X = X.values\n",
        "\n",
        "X_train_set, X_test_set = train_test_split(X, test_size=0.3, random_state=42, shuffle=True)\n",
        "\n",
        "Y_train_set, Y_test_set = train_test_split(Y, test_size=0.3, random_state=42, shuffle=True)\n",
        "\n",
        "model_logit2 = LogisticRegression()\n",
        "\n",
        "model_logit2.fit(X_train_set, Y_train_set)\n",
        "\n",
        "Y_predictions_set = model_logit2.predict(X_test_set)\n",
        "\n",
        "confusion_matrix(Y_test_set,Y_predictions_set)"
      ],
      "execution_count": null,
      "outputs": [
        {
          "output_type": "execute_result",
          "data": {
            "text/plain": [
              "array([[7402,  258],\n",
              "       [ 213, 7216]])"
            ]
          },
          "metadata": {
            "tags": []
          },
          "execution_count": 248
        }
      ]
    },
    {
      "cell_type": "code",
      "metadata": {
        "id": "URixzNe2J8uW",
        "colab": {
          "base_uri": "https://localhost:8080/",
          "height": 52
        },
        "outputId": "2af83df8-3f67-4c79-a51d-09c1c6feb6fa"
      },
      "source": [
        "\"\"\" 3ème VERSION : AJOUT DES BARONKILLS \"\"\"\n",
        "\n",
        "\"\"\" Création de nos échantillons pour entrainer notre modèle logit et pour le tester \"\"\"\n",
        "\n",
        "nb_total_parties = games.shape[0]\n",
        "Y = games['winner']\n",
        "Y = Y.values\n",
        "X = games[['t1_towerKills','t2_towerKills','t1_inhibitorKills','t2_inhibitorKills','t1_baronKills','t2_baronKills']]\n",
        "X = X.values\n",
        "\n",
        "X_train_set, X_test_set = train_test_split(X, test_size=0.3, random_state=42, shuffle=True)\n",
        "\n",
        "Y_train_set, Y_test_set = train_test_split(Y, test_size=0.3, random_state=42, shuffle=True)\n",
        "\n",
        "model_logit3 = LogisticRegression()\n",
        "\n",
        "model_logit3.fit(X_train_set, Y_train_set)\n",
        "\n",
        "Y_predictions_set = model_logit3.predict(X_test_set)\n",
        "\n",
        "confusion_matrix(Y_test_set,Y_predictions_set)"
      ],
      "execution_count": null,
      "outputs": [
        {
          "output_type": "execute_result",
          "data": {
            "text/plain": [
              "array([[7426,  234],\n",
              "       [ 202, 7227]])"
            ]
          },
          "metadata": {
            "tags": []
          },
          "execution_count": 249
        }
      ]
    },
    {
      "cell_type": "markdown",
      "metadata": {
        "id": "KX2R6SxVHDdG"
      },
      "source": [
        "Dans ce cas ci-dessus, nous avons 26 erreurs de moins pour les victoires de l'équipe 1 et 7 erreurs de moins pour les défaites de l'équipe 1. Bien qu'elle soit très minime, on a une amélioration."
      ]
    },
    {
      "cell_type": "code",
      "metadata": {
        "id": "NcvphhyZL9AA",
        "colab": {
          "base_uri": "https://localhost:8080/",
          "height": 52
        },
        "outputId": "bbcbff36-375e-49bb-8968-1df477760a7d"
      },
      "source": [
        "\"\"\" 4ème VERSION : AJOUT DES DRAGONKILLS, BARONKILLS AND RIFTHERALDKILLS\"\"\"\n",
        "\n",
        "\"\"\" Création de nos échantillons pour entrainer notre modèle logit et pour le tester \"\"\"\n",
        "\n",
        "nb_total_parties = games.shape[0]\n",
        "Y = games['winner']\n",
        "Y = Y.values\n",
        "X = games[['t1_towerKills','t2_towerKills','t1_inhibitorKills','t2_inhibitorKills','t1_dragonKills','t2_dragonKills','t1_baronKills','t2_baronKills','t1_riftHeraldKills','t2_riftHeraldKills']]\n",
        "X = X.values\n",
        "\n",
        "X_train_set, X_test_set = train_test_split(X, test_size=0.3, random_state=42, shuffle=True)\n",
        "\n",
        "Y_train_set, Y_test_set = train_test_split(Y, test_size=0.3, random_state=42, shuffle=True)\n",
        "\n",
        "model_logit4 = LogisticRegression()\n",
        "\n",
        "model_logit4.fit(X_train_set, Y_train_set)\n",
        "\n",
        "Y_predictions_set = model_logit4.predict(X_test_set)\n",
        "\n",
        "confusion_matrix(Y_test_set,Y_predictions_set)"
      ],
      "execution_count": null,
      "outputs": [
        {
          "output_type": "execute_result",
          "data": {
            "text/plain": [
              "array([[7431,  229],\n",
              "       [ 205, 7224]])"
            ]
          },
          "metadata": {
            "tags": []
          },
          "execution_count": 250
        }
      ]
    },
    {
      "cell_type": "markdown",
      "metadata": {
        "id": "t3lsMkgnDt7i"
      },
      "source": [
        "### Arbre de décision"
      ]
    },
    {
      "cell_type": "markdown",
      "metadata": {
        "id": "jXInIGOFEFrD"
      },
      "source": [
        "Dans notre cas, comme la cible est une variable qualitative (victoire ou défaite, 1 ou 2), on utilise un arbre de classification."
      ]
    },
    {
      "cell_type": "markdown",
      "metadata": {
        "id": "8fTjMphzFf2l"
      },
      "source": [
        "##### Création de nos échantillons et de notre modèle"
      ]
    },
    {
      "cell_type": "code",
      "metadata": {
        "id": "RJEMkqwKMxuc"
      },
      "source": [
        "\"\"\" Création de nos échantillons pour entrainer notre modèle logit et pour le tester \"\"\"\n",
        "\n",
        "Y = games['winner']\n",
        "Y = Y.values\n",
        "X = games[['t1_towerKills','t2_towerKills','t1_inhibitorKills','t2_inhibitorKills']]\n",
        "X = X.values\n",
        "\n",
        "X_train_set, X_test_set = train_test_split(X, test_size=0.3, random_state=42, shuffle=True)\n",
        "\n",
        "Y_train_set, Y_test_set = train_test_split(Y, test_size=0.3, random_state=42, shuffle=True)"
      ],
      "execution_count": null,
      "outputs": []
    },
    {
      "cell_type": "code",
      "metadata": {
        "id": "ggiW5klTEjCj"
      },
      "source": [
        "\"\"\" Création de notre modèle d'arbre de décision \"\"\" \n",
        "model_decisiontree = DecisionTreeClassifier()\n",
        "\n",
        "#help(DecisionTreeClassifier())\n",
        "#help(GridSearchCV())"
      ],
      "execution_count": null,
      "outputs": []
    },
    {
      "cell_type": "markdown",
      "metadata": {
        "id": "2Q97x9hQFHrZ"
      },
      "source": [
        "##### Étude des hyperparamètres"
      ]
    },
    {
      "cell_type": "markdown",
      "metadata": {
        "id": "cOIXRUoSYwj4"
      },
      "source": [
        "On évalue les meilleurs hyperparamètres par Grid Search. Les hyperparamètres sont des paramètres qui ne sont pas directement appris dans les estimateurs. Dans scikit-learn, ils sont passés comme arguments au constructeur des classes d'estimateur.\n",
        "\n",
        "Grid Search est une méthode d’optimisation qui va nous permettre de tester une série de paramètres et de comparer les performances pour en déduire le meilleur paramétrage."
      ]
    },
    {
      "cell_type": "code",
      "metadata": {
        "id": "J58KQP6w6V4n"
      },
      "source": [
        "\"\"\" On regarde les paramètres du modèle DecisionTreeClassifier \"\"\"\n",
        "criterion = [\"gini\",\"entropy\"]\n",
        "splitter = [\"best\",\"random\"]\n",
        "max_depth = range(1,15)\n",
        "#random_state=range(1,50) trop long à tester\n",
        "grid_decisiontree=GridSearchCV(estimator=model_decisiontree,param_grid=dict(criterion=criterion,max_depth=max_depth,splitter=splitter),cv=10)"
      ],
      "execution_count": null,
      "outputs": []
    },
    {
      "cell_type": "code",
      "metadata": {
        "id": "RGuvmxUgLuYW",
        "colab": {
          "base_uri": "https://localhost:8080/",
          "height": 52
        },
        "outputId": "57ca4635-e69d-4c17-afaf-452f0d2e4da7"
      },
      "source": [
        "grid_decisiontree.fit(X_train_set,Y_train_set);\n",
        "print(\"best score: \", grid_decisiontree.best_score_)\n",
        "print(\"best param: \", grid_decisiontree.best_params_)"
      ],
      "execution_count": null,
      "outputs": [
        {
          "output_type": "stream",
          "text": [
            "best score:  0.9705732407503035\n",
            "best param:  {'criterion': 'gini', 'max_depth': 7, 'splitter': 'best'}\n"
          ],
          "name": "stdout"
        }
      ]
    },
    {
      "cell_type": "markdown",
      "metadata": {
        "id": "30As-lkqHBh1"
      },
      "source": [
        "##### Création et test de notre modèle final"
      ]
    },
    {
      "cell_type": "code",
      "metadata": {
        "id": "Aafn8zfjHF_8",
        "colab": {
          "base_uri": "https://localhost:8080/",
          "height": 121
        },
        "outputId": "090ba8fb-82e9-49c7-d4c5-57814f653497"
      },
      "source": [
        "model_decisiontree = DecisionTreeClassifier(criterion='gini', splitter='best', max_depth=7)\n",
        "\n",
        "\"\"\" Entraînement de notre modèle d'arbre de classification \"\"\"\n",
        "model_decisiontree.fit(X_train_set, Y_train_set)"
      ],
      "execution_count": null,
      "outputs": [
        {
          "output_type": "execute_result",
          "data": {
            "text/plain": [
              "DecisionTreeClassifier(ccp_alpha=0.0, class_weight=None, criterion='gini',\n",
              "                       max_depth=7, max_features=None, max_leaf_nodes=None,\n",
              "                       min_impurity_decrease=0.0, min_impurity_split=None,\n",
              "                       min_samples_leaf=1, min_samples_split=2,\n",
              "                       min_weight_fraction_leaf=0.0, presort='deprecated',\n",
              "                       random_state=None, splitter='best')"
            ]
          },
          "metadata": {
            "tags": []
          },
          "execution_count": 255
        }
      ]
    },
    {
      "cell_type": "code",
      "metadata": {
        "id": "vsvsnbp5V2Hd",
        "colab": {
          "base_uri": "https://localhost:8080/",
          "height": 34
        },
        "outputId": "95fa5f12-b481-4530-f763-4850899bb1e0"
      },
      "source": [
        "\"\"\" Test de notre modèle \"\"\"\n",
        "Y_predictions_set = model_decisiontree.predict(X_test_set)\n",
        "Y_predictions_set"
      ],
      "execution_count": null,
      "outputs": [
        {
          "output_type": "execute_result",
          "data": {
            "text/plain": [
              "array([2, 2, 1, ..., 1, 1, 2])"
            ]
          },
          "metadata": {
            "tags": []
          },
          "execution_count": 256
        }
      ]
    },
    {
      "cell_type": "code",
      "metadata": {
        "id": "yGpk4doZXKnx",
        "colab": {
          "base_uri": "https://localhost:8080/",
          "height": 173
        },
        "outputId": "8d975479-f4ef-49f6-8385-b4ad45992ec5"
      },
      "source": [
        "print(classification_report(Y_test_set, Y_predictions_set))"
      ],
      "execution_count": null,
      "outputs": [
        {
          "output_type": "stream",
          "text": [
            "              precision    recall  f1-score   support\n",
            "\n",
            "           1       0.97      0.97      0.97      7660\n",
            "           2       0.97      0.97      0.97      7429\n",
            "\n",
            "    accuracy                           0.97     15089\n",
            "   macro avg       0.97      0.97      0.97     15089\n",
            "weighted avg       0.97      0.97      0.97     15089\n",
            "\n"
          ],
          "name": "stdout"
        }
      ]
    },
    {
      "cell_type": "code",
      "metadata": {
        "id": "yT5mUy0sXV-y",
        "colab": {
          "base_uri": "https://localhost:8080/",
          "height": 52
        },
        "outputId": "5752cc16-147a-429b-9cfb-08a1f4228188"
      },
      "source": [
        "confusion_matrix(Y_test_set,Y_predictions_set)"
      ],
      "execution_count": null,
      "outputs": [
        {
          "output_type": "execute_result",
          "data": {
            "text/plain": [
              "array([[7435,  225],\n",
              "       [ 192, 7237]])"
            ]
          },
          "metadata": {
            "tags": []
          },
          "execution_count": 258
        }
      ]
    },
    {
      "cell_type": "code",
      "metadata": {
        "id": "mlOU6hPOXgyh",
        "colab": {
          "base_uri": "https://localhost:8080/",
          "height": 279
        },
        "outputId": "17692dff-d7c2-4e5d-b60b-e1972d9f336d"
      },
      "source": [
        "plot_confusion_matrix(model_logit, X_test_set, Y_test_set);"
      ],
      "execution_count": null,
      "outputs": [
        {
          "output_type": "display_data",
          "data": {
            "image/png": "[encoded data removed]",
            "text/plain": [
              "<Figure size 432x288 with 2 Axes>"
            ]
          },
          "metadata": {
            "tags": [],
            "needs_background": "light"
          }
        }
      ]
    },
    {
      "cell_type": "code",
      "metadata": {
        "id": "D3VjRLaqXnMT",
        "colab": {
          "base_uri": "https://localhost:8080/",
          "height": 34
        },
        "outputId": "fb3117e6-d3ca-4943-9aca-18599a70f757"
      },
      "source": [
        "\"\"\" Pourcentage de bonnes prédictions \"\"\"\n",
        "print(((7435+7237)/15089)*100)"
      ],
      "execution_count": null,
      "outputs": [
        {
          "output_type": "stream",
          "text": [
            "97.2363973755716\n"
          ],
          "name": "stdout"
        }
      ]
    },
    {
      "cell_type": "markdown",
      "metadata": {
        "id": "4Rq3a0_8YCQl"
      },
      "source": [
        "**Analyse :**\n",
        "\n",
        "*   Sur les 15089 parties, notre modèle a prédit 14672 bons résultats et 417 mauvais résultats, soit un taux de 97,24% de bons résultats.\n",
        "*   Sur les 7660 victoires de l'équipe 1 prédits, 7435 sont correctes (vrais positifs) et 225 sont fausses (faux négatifs).\n",
        "*   Sur les 7429 défaites de l'équipe 1 prédits, 7237 sont correctes (vrais négatifs) et 192 sont fausses (faux positifs)."
      ]
    },
    {
      "cell_type": "markdown",
      "metadata": {
        "id": "A9P6hduGECvY"
      },
      "source": [
        "##### Amélioration"
      ]
    },
    {
      "cell_type": "markdown",
      "metadata": {
        "id": "uUDIGt4gEHpP"
      },
      "source": [
        "Voyons dans un premier temps si comme dans notre modèle de régression logistique, on constate une amélioration en ajoutant des variables prédictives (comme les *baronKills* par exemple)."
      ]
    },
    {
      "cell_type": "code",
      "metadata": {
        "id": "clhuq-dUE7qt",
        "colab": {
          "base_uri": "https://localhost:8080/",
          "height": 86
        },
        "outputId": "3159ad3d-c486-4bef-d43a-9a66c9a714a6"
      },
      "source": [
        "\"\"\" AJOUT DES BARONKILLS \"\"\"\n",
        "\n",
        "\"\"\" Création de nos échantillons pour entrainer notre modèle logit et pour le tester \"\"\"\n",
        "\n",
        "nb_total_parties = games.shape[0]\n",
        "Y = games['winner']\n",
        "Y = Y.values\n",
        "X = games[['t1_towerKills','t2_towerKills','t1_inhibitorKills','t2_inhibitorKills','t1_baronKills','t2_baronKills']]\n",
        "X = X.values\n",
        "\n",
        "X_train_set, X_test_set = train_test_split(X, test_size=0.3, random_state=42, shuffle=True)\n",
        "\n",
        "Y_train_set, Y_test_set = train_test_split(Y, test_size=0.3, random_state=42, shuffle=True)\n",
        "\n",
        "\"\"\" On regarde les paramètres du modèle DecisionTreeClassifier \"\"\"\n",
        "model_decisiontree2 = DecisionTreeClassifier()\n",
        "criterion = [\"gini\",\"entropy\"]\n",
        "splitter = [\"best\",\"random\"]\n",
        "max_depth = range(1,15)\n",
        "#random_state=range(1,50) trop long à tester\n",
        "grid_decisiontree2=GridSearchCV(estimator=model_decisiontree2,param_grid=dict(criterion=criterion,max_depth=max_depth,splitter=splitter),cv=10)\n",
        "\n",
        "grid_decisiontree2.fit(X_train_set,Y_train_set);\n",
        "print(\"best score: \", grid_decisiontree.best_score_)\n",
        "print(\"best param: \", grid_decisiontree.best_params_)\n",
        "\n",
        "model_decisiontree2 = DecisionTreeClassifier(criterion='gini', splitter='best', max_depth=7)\n",
        "\n",
        "model_decisiontree2.fit(X_train_set, Y_train_set)\n",
        "\n",
        "Y_predictions_set = model_decisiontree2.predict(X_test_set)\n",
        "\n",
        "confusion_matrix(Y_test_set,Y_predictions_set)"
      ],
      "execution_count": null,
      "outputs": [
        {
          "output_type": "stream",
          "text": [
            "best score:  0.9705732407503035\n",
            "best param:  {'criterion': 'gini', 'max_depth': 7, 'splitter': 'best'}\n"
          ],
          "name": "stdout"
        },
        {
          "output_type": "execute_result",
          "data": {
            "text/plain": [
              "array([[7429,  231],\n",
              "       [ 180, 7249]])"
            ]
          },
          "metadata": {
            "tags": []
          },
          "execution_count": 261
        }
      ]
    },
    {
      "cell_type": "markdown",
      "metadata": {
        "id": "TETggGSNGccO"
      },
      "source": [
        "Nous avons des résultats qui ont très peu varié. Cette fois-ci on a 6 erreurs de plus en ce qui concerne les victoires de l'équipe 1 et 12 erreurs de moins pour les défaites de l'équipe 1."
      ]
    },
    {
      "cell_type": "markdown",
      "metadata": {
        "id": "okAHuCDlDkZl"
      },
      "source": [
        "### Conclusion"
      ]
    },
    {
      "cell_type": "markdown",
      "metadata": {
        "id": "YXoxngywDroK"
      },
      "source": [
        "Nous avons obtenu de très bon résultats pour nos 2 modèles pour prédire la victoire ou la défaite d'une équipe (environ 97% de réussite). Nous pouvons difficilement faire mieux comme score vu la complexité du jeu et les évènements qui peuvent survenir au cours d'une partie (déconnection d'un joueur, abandon précipité d'une équipe, etc). \n",
        "\n",
        "On pourrait également envisager d'étudier les parties en fonction des champions qu'utilisent les joueurs. Tous les champions n'ont pas le même taux de victoires. Cela pourrait changer quelques pourcentages mais cela reste assez minime, surtout qu'il nous faudrait beaucoup plus de parties à analyser pour étudier correctement le taux de victoire des champions. Des champions comme Aurélion Sol ou Ivern ont été très peu joués dans nos 50 000 parties."
      ]
    },
    {
      "cell_type": "markdown",
      "metadata": {
        "id": "sUNIMDHeNZRQ"
      },
      "source": [
        "Il serait intéressant de faire la même chose pour une dataframe regroupant plein de parties de joueurs professionnels. Les statistiques obtenues en observant des joueurs professionnels sont la plupart du temps bien plus révélatrices pour savoir si un champion est trop fort par exemple."
      ]
    }
  ]
}